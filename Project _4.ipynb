{
 "cells": [
  {
   "cell_type": "markdown",
   "metadata": {
    "toc": true
   },
   "source": [
    "<h1>Содержание<span class=\"tocSkip\"></span></h1>\n",
    "<div class=\"toc\"><ul class=\"toc-item\"><li><span><a href=\"#Подготовка-данных\" data-toc-modified-id=\"Подготовка-данных-1\"><span class=\"toc-item-num\">1&nbsp;&nbsp;</span>Подготовка данных</a></span><ul class=\"toc-item\"><li><span><a href=\"#Основная-информация-датафрейма:\" data-toc-modified-id=\"Основная-информация-датафрейма:-1.1\"><span class=\"toc-item-num\">1.1&nbsp;&nbsp;</span><strong>Основная информация датафрейма:</strong></a></span></li><li><span><a href=\"#Первичное-описание-имеющихся-данных:\" data-toc-modified-id=\"Первичное-описание-имеющихся-данных:-1.2\"><span class=\"toc-item-num\">1.2&nbsp;&nbsp;</span><strong>Первичное описание имеющихся данных:</strong></a></span></li><li><span><a href=\"#Проверка-на-наличие-пропусков-данных-и-дубликатов-в-столбцах:\" data-toc-modified-id=\"Проверка-на-наличие-пропусков-данных-и-дубликатов-в-столбцах:-1.3\"><span class=\"toc-item-num\">1.3&nbsp;&nbsp;</span><strong>Проверка на наличие пропусков данных и дубликатов в столбцах:</strong></a></span></li><li><span><a href=\"#Проверка-наличия-аномальных-значений:\" data-toc-modified-id=\"Проверка-наличия-аномальных-значений:-1.4\"><span class=\"toc-item-num\">1.4&nbsp;&nbsp;</span><strong>Проверка наличия аномальных значений:</strong></a></span></li><li><span><a href=\"#Исключение-данных,-не-влияющих-на-целевой-признак:\" data-toc-modified-id=\"Исключение-данных,-не-влияющих-на-целевой-признак:-1.5\"><span class=\"toc-item-num\">1.5&nbsp;&nbsp;</span><strong>Исключение данных, не влияющих на целевой признак:</strong></a></span></li><li><span><a href=\"#Преобразование-категориальных-значений-в-численные:\" data-toc-modified-id=\"Преобразование-категориальных-значений-в-численные:-1.6\"><span class=\"toc-item-num\">1.6&nbsp;&nbsp;</span><strong>Преобразование категориальных значений в численные:</strong></a></span></li><li><span><a href=\"#Определение-моделей-и-подготовка-датафреймов:\" data-toc-modified-id=\"Определение-моделей-и-подготовка-датафреймов:-1.7\"><span class=\"toc-item-num\">1.7&nbsp;&nbsp;</span><strong>Определение моделей и подготовка датафреймов:</strong></a></span></li><li><span><a href=\"#Разделение-на-выборки:\" data-toc-modified-id=\"Разделение-на-выборки:-1.8\"><span class=\"toc-item-num\">1.8&nbsp;&nbsp;</span><strong>Разделение на выборки:</strong></a></span></li><li><span><a href=\"#Масштабирование-признаков:\" data-toc-modified-id=\"Масштабирование-признаков:-1.9\"><span class=\"toc-item-num\">1.9&nbsp;&nbsp;</span><strong>Масштабирование признаков:</strong></a></span></li><li><span><a href=\"#Вывод:\" data-toc-modified-id=\"Вывод:-1.10\"><span class=\"toc-item-num\">1.10&nbsp;&nbsp;</span><strong>Вывод:</strong></a></span></li></ul></li><li><span><a href=\"#Исследование-задачи\" data-toc-modified-id=\"Исследование-задачи-2\"><span class=\"toc-item-num\">2&nbsp;&nbsp;</span>Исследование задачи</a></span><ul class=\"toc-item\"><li><span><a href=\"#Баланс-классов:\" data-toc-modified-id=\"Баланс-классов:-2.1\"><span class=\"toc-item-num\">2.1&nbsp;&nbsp;</span><strong>Баланс классов:</strong></a></span></li><li><span><a href=\"#Логистическая-регрессия:\" data-toc-modified-id=\"Логистическая-регрессия:-2.2\"><span class=\"toc-item-num\">2.2&nbsp;&nbsp;</span><strong>Логистическая регрессия:</strong></a></span></li><li><span><a href=\"#Решающее-дерево:\" data-toc-modified-id=\"Решающее-дерево:-2.3\"><span class=\"toc-item-num\">2.3&nbsp;&nbsp;</span><strong>Решающее дерево:</strong></a></span></li><li><span><a href=\"#Случайный-лес:\" data-toc-modified-id=\"Случайный-лес:-2.4\"><span class=\"toc-item-num\">2.4&nbsp;&nbsp;</span><strong>Случайный лес:</strong></a></span></li><li><span><a href=\"#Построение-ROC-кривой:\" data-toc-modified-id=\"Построение-ROC-кривой:-2.5\"><span class=\"toc-item-num\">2.5&nbsp;&nbsp;</span><strong>Построение ROC-кривой:</strong></a></span></li><li><span><a href=\"#Вывод:\" data-toc-modified-id=\"Вывод:-2.6\"><span class=\"toc-item-num\">2.6&nbsp;&nbsp;</span><strong>Вывод:</strong></a></span></li></ul></li><li><span><a href=\"#Борьба-с-дисбалансом\" data-toc-modified-id=\"Борьба-с-дисбалансом-3\"><span class=\"toc-item-num\">3&nbsp;&nbsp;</span>Борьба с дисбалансом</a></span><ul class=\"toc-item\"><li><span><a href=\"#Взвешивание-классов:\" data-toc-modified-id=\"Взвешивание-классов:-3.1\"><span class=\"toc-item-num\">3.1&nbsp;&nbsp;</span><strong>Взвешивание классов:</strong></a></span></li><li><span><a href=\"#Увеличение-выборки:\" data-toc-modified-id=\"Увеличение-выборки:-3.2\"><span class=\"toc-item-num\">3.2&nbsp;&nbsp;</span><strong>Увеличение выборки:</strong></a></span></li><li><span><a href=\"#Уменьшение-выборки:\" data-toc-modified-id=\"Уменьшение-выборки:-3.3\"><span class=\"toc-item-num\">3.3&nbsp;&nbsp;</span><strong>Уменьшение выборки:</strong></a></span></li><li><span><a href=\"#Вывод:\" data-toc-modified-id=\"Вывод:-3.4\"><span class=\"toc-item-num\">3.4&nbsp;&nbsp;</span><strong>Вывод:</strong></a></span></li><li><span><a href=\"#Подбор-гиперпараметров:\" data-toc-modified-id=\"Подбор-гиперпараметров:-3.5\"><span class=\"toc-item-num\">3.5&nbsp;&nbsp;</span><strong>Подбор гиперпараметров:</strong></a></span></li></ul></li><li><span><a href=\"#Тестирование-модели\" data-toc-modified-id=\"Тестирование-модели-4\"><span class=\"toc-item-num\">4&nbsp;&nbsp;</span>Тестирование модели</a></span><ul class=\"toc-item\"><li><span><a href=\"#Вывод:\" data-toc-modified-id=\"Вывод:-4.1\"><span class=\"toc-item-num\">4.1&nbsp;&nbsp;</span><strong>Вывод:</strong></a></span></li></ul></li><li><span><a href=\"#Чек-лист-готовности-проекта\" data-toc-modified-id=\"Чек-лист-готовности-проекта-5\"><span class=\"toc-item-num\">5&nbsp;&nbsp;</span>Чек-лист готовности проекта</a></span></li><li><span><a href=\"#Общий-вывод-по-проекту\" data-toc-modified-id=\"Общий-вывод-по-проекту-6\"><span class=\"toc-item-num\">6&nbsp;&nbsp;</span><b>Общий вывод по проекту</b></a></span></li><li><span><a href=\"#Общий-вывод-по-проекту-В2\" data-toc-modified-id=\"Общий-вывод-по-проекту-В2-7\"><span class=\"toc-item-num\">7&nbsp;&nbsp;</span><b>Общий вывод по проекту В2</b></a></span></li><li><span><a href=\"#Общий-вывод-по-проекту-В3\" data-toc-modified-id=\"Общий-вывод-по-проекту-В3-8\"><span class=\"toc-item-num\">8&nbsp;&nbsp;</span><b>Общий вывод по проекту В3</b></a></span></li></ul></div>"
   ]
  },
  {
   "cell_type": "markdown",
   "metadata": {},
   "source": [
    "# Отток клиентов"
   ]
  },
  {
   "cell_type": "markdown",
   "metadata": {},
   "source": [
    "Из «Бета-Банка» стали уходить клиенты. Каждый месяц. Немного, но заметно. Банковские маркетологи посчитали: сохранять текущих клиентов дешевле, чем привлекать новых.\n",
    "\n",
    "Нужно спрогнозировать, уйдёт клиент из банка в ближайшее время или нет. Вам предоставлены исторические данные о поведении клиентов и расторжении договоров с банком. \n",
    "\n",
    "Постройте модель с предельно большим значением *F1*-меры. Чтобы сдать проект успешно, нужно довести метрику до 0.59. Проверьте *F1*-меру на тестовой выборке самостоятельно.\n",
    "\n",
    "Дополнительно измеряйте *AUC-ROC*, сравнивайте её значение с *F1*-мерой.\n",
    "\n",
    "Источник данных: [https://www.kaggle.com/barelydedicated/bank-customer-churn-modeling](https://www.kaggle.com/barelydedicated/bank-customer-churn-modeling)"
   ]
  },
  {
   "cell_type": "markdown",
   "metadata": {},
   "source": [
    "## Подготовка данных"
   ]
  },
  {
   "cell_type": "code",
   "execution_count": 1,
   "metadata": {},
   "outputs": [],
   "source": [
    "import matplotlib.pyplot as plt\n",
    "import numpy as np\n",
    "import pandas as pd\n",
    "from sklearn.tree import DecisionTreeClassifier\n",
    "from sklearn.ensemble import RandomForestClassifier\n",
    "from sklearn.linear_model import LogisticRegression\n",
    "from sklearn.model_selection import train_test_split\n",
    "from sklearn.metrics import mean_squared_error\n",
    "from sklearn.metrics import mean_absolute_error\n",
    "from sklearn.metrics import roc_curve\n",
    "from sklearn.metrics import roc_auc_score\n",
    "from sklearn.metrics import precision_recall_curve\n",
    "from sklearn.metrics import f1_score\n",
    "from sklearn.metrics import accuracy_score\n",
    "from sklearn.metrics import recall_score\n",
    "from sklearn.metrics import precision_score\n",
    "from sklearn.metrics import confusion_matrix\n",
    "from sklearn.utils import shuffle\n",
    "from sklearn.preprocessing import OneHotEncoder\n",
    "from sklearn.dummy import DummyClassifier\n",
    "from sklearn.preprocessing import StandardScaler\n",
    "import warnings\n",
    "warnings.filterwarnings('ignore')"
   ]
  },
  {
   "cell_type": "markdown",
   "metadata": {},
   "source": [
    "### **Основная информация датафрейма:**"
   ]
  },
  {
   "cell_type": "code",
   "execution_count": 2,
   "metadata": {
    "scrolled": false
   },
   "outputs": [
    {
     "data": {
      "text/html": [
       "<div>\n",
       "<style scoped>\n",
       "    .dataframe tbody tr th:only-of-type {\n",
       "        vertical-align: middle;\n",
       "    }\n",
       "\n",
       "    .dataframe tbody tr th {\n",
       "        vertical-align: top;\n",
       "    }\n",
       "\n",
       "    .dataframe thead th {\n",
       "        text-align: right;\n",
       "    }\n",
       "</style>\n",
       "<table border=\"1\" class=\"dataframe\">\n",
       "  <thead>\n",
       "    <tr style=\"text-align: right;\">\n",
       "      <th></th>\n",
       "      <th>RowNumber</th>\n",
       "      <th>CustomerId</th>\n",
       "      <th>Surname</th>\n",
       "      <th>CreditScore</th>\n",
       "      <th>Geography</th>\n",
       "      <th>Gender</th>\n",
       "      <th>Age</th>\n",
       "      <th>Tenure</th>\n",
       "      <th>Balance</th>\n",
       "      <th>NumOfProducts</th>\n",
       "      <th>HasCrCard</th>\n",
       "      <th>IsActiveMember</th>\n",
       "      <th>EstimatedSalary</th>\n",
       "      <th>Exited</th>\n",
       "    </tr>\n",
       "  </thead>\n",
       "  <tbody>\n",
       "    <tr>\n",
       "      <th>0</th>\n",
       "      <td>1</td>\n",
       "      <td>15634602</td>\n",
       "      <td>Hargrave</td>\n",
       "      <td>619</td>\n",
       "      <td>France</td>\n",
       "      <td>Female</td>\n",
       "      <td>42</td>\n",
       "      <td>2.0</td>\n",
       "      <td>0.00</td>\n",
       "      <td>1</td>\n",
       "      <td>1</td>\n",
       "      <td>1</td>\n",
       "      <td>101348.88</td>\n",
       "      <td>1</td>\n",
       "    </tr>\n",
       "    <tr>\n",
       "      <th>1</th>\n",
       "      <td>2</td>\n",
       "      <td>15647311</td>\n",
       "      <td>Hill</td>\n",
       "      <td>608</td>\n",
       "      <td>Spain</td>\n",
       "      <td>Female</td>\n",
       "      <td>41</td>\n",
       "      <td>1.0</td>\n",
       "      <td>83807.86</td>\n",
       "      <td>1</td>\n",
       "      <td>0</td>\n",
       "      <td>1</td>\n",
       "      <td>112542.58</td>\n",
       "      <td>0</td>\n",
       "    </tr>\n",
       "    <tr>\n",
       "      <th>2</th>\n",
       "      <td>3</td>\n",
       "      <td>15619304</td>\n",
       "      <td>Onio</td>\n",
       "      <td>502</td>\n",
       "      <td>France</td>\n",
       "      <td>Female</td>\n",
       "      <td>42</td>\n",
       "      <td>8.0</td>\n",
       "      <td>159660.80</td>\n",
       "      <td>3</td>\n",
       "      <td>1</td>\n",
       "      <td>0</td>\n",
       "      <td>113931.57</td>\n",
       "      <td>1</td>\n",
       "    </tr>\n",
       "    <tr>\n",
       "      <th>3</th>\n",
       "      <td>4</td>\n",
       "      <td>15701354</td>\n",
       "      <td>Boni</td>\n",
       "      <td>699</td>\n",
       "      <td>France</td>\n",
       "      <td>Female</td>\n",
       "      <td>39</td>\n",
       "      <td>1.0</td>\n",
       "      <td>0.00</td>\n",
       "      <td>2</td>\n",
       "      <td>0</td>\n",
       "      <td>0</td>\n",
       "      <td>93826.63</td>\n",
       "      <td>0</td>\n",
       "    </tr>\n",
       "    <tr>\n",
       "      <th>4</th>\n",
       "      <td>5</td>\n",
       "      <td>15737888</td>\n",
       "      <td>Mitchell</td>\n",
       "      <td>850</td>\n",
       "      <td>Spain</td>\n",
       "      <td>Female</td>\n",
       "      <td>43</td>\n",
       "      <td>2.0</td>\n",
       "      <td>125510.82</td>\n",
       "      <td>1</td>\n",
       "      <td>1</td>\n",
       "      <td>1</td>\n",
       "      <td>79084.10</td>\n",
       "      <td>0</td>\n",
       "    </tr>\n",
       "  </tbody>\n",
       "</table>\n",
       "</div>"
      ],
      "text/plain": [
       "   RowNumber  CustomerId   Surname  CreditScore Geography  Gender  Age  \\\n",
       "0          1    15634602  Hargrave          619    France  Female   42   \n",
       "1          2    15647311      Hill          608     Spain  Female   41   \n",
       "2          3    15619304      Onio          502    France  Female   42   \n",
       "3          4    15701354      Boni          699    France  Female   39   \n",
       "4          5    15737888  Mitchell          850     Spain  Female   43   \n",
       "\n",
       "   Tenure    Balance  NumOfProducts  HasCrCard  IsActiveMember  \\\n",
       "0     2.0       0.00              1          1               1   \n",
       "1     1.0   83807.86              1          0               1   \n",
       "2     8.0  159660.80              3          1               0   \n",
       "3     1.0       0.00              2          0               0   \n",
       "4     2.0  125510.82              1          1               1   \n",
       "\n",
       "   EstimatedSalary  Exited  \n",
       "0        101348.88       1  \n",
       "1        112542.58       0  \n",
       "2        113931.57       1  \n",
       "3         93826.63       0  \n",
       "4         79084.10       0  "
      ]
     },
     "metadata": {},
     "output_type": "display_data"
    },
    {
     "name": "stdout",
     "output_type": "stream",
     "text": [
      "________________________________________________________________\n",
      "<class 'pandas.core.frame.DataFrame'>\n",
      "RangeIndex: 10000 entries, 0 to 9999\n",
      "Data columns (total 14 columns):\n",
      " #   Column           Non-Null Count  Dtype  \n",
      "---  ------           --------------  -----  \n",
      " 0   RowNumber        10000 non-null  int64  \n",
      " 1   CustomerId       10000 non-null  int64  \n",
      " 2   Surname          10000 non-null  object \n",
      " 3   CreditScore      10000 non-null  int64  \n",
      " 4   Geography        10000 non-null  object \n",
      " 5   Gender           10000 non-null  object \n",
      " 6   Age              10000 non-null  int64  \n",
      " 7   Tenure           9091 non-null   float64\n",
      " 8   Balance          10000 non-null  float64\n",
      " 9   NumOfProducts    10000 non-null  int64  \n",
      " 10  HasCrCard        10000 non-null  int64  \n",
      " 11  IsActiveMember   10000 non-null  int64  \n",
      " 12  EstimatedSalary  10000 non-null  float64\n",
      " 13  Exited           10000 non-null  int64  \n",
      "dtypes: float64(3), int64(8), object(3)\n",
      "memory usage: 1.1+ MB\n",
      "None\n",
      "________________________________________________________________\n",
      "(10000, 14)\n"
     ]
    }
   ],
   "source": [
    "data_orig = pd.read_csv('D://Education//Module_6 (!Project)//Churn.csv')\n",
    "display(data_orig.head())\n",
    "print('________________________________________________________________')\n",
    "print(data_orig.info())\n",
    "print('________________________________________________________________')\n",
    "print(data_orig.shape)"
   ]
  },
  {
   "cell_type": "markdown",
   "metadata": {},
   "source": [
    "Сразу приведем наименования столбцов к нижнему регистру:"
   ]
  },
  {
   "cell_type": "code",
   "execution_count": 3,
   "metadata": {},
   "outputs": [
    {
     "data": {
      "text/html": [
       "<div>\n",
       "<style scoped>\n",
       "    .dataframe tbody tr th:only-of-type {\n",
       "        vertical-align: middle;\n",
       "    }\n",
       "\n",
       "    .dataframe tbody tr th {\n",
       "        vertical-align: top;\n",
       "    }\n",
       "\n",
       "    .dataframe thead th {\n",
       "        text-align: right;\n",
       "    }\n",
       "</style>\n",
       "<table border=\"1\" class=\"dataframe\">\n",
       "  <thead>\n",
       "    <tr style=\"text-align: right;\">\n",
       "      <th></th>\n",
       "      <th>rownumber</th>\n",
       "      <th>customerid</th>\n",
       "      <th>surname</th>\n",
       "      <th>creditscore</th>\n",
       "      <th>geography</th>\n",
       "      <th>gender</th>\n",
       "      <th>age</th>\n",
       "      <th>tenure</th>\n",
       "      <th>balance</th>\n",
       "      <th>numofproducts</th>\n",
       "      <th>hascrcard</th>\n",
       "      <th>isactivemember</th>\n",
       "      <th>estimatedsalary</th>\n",
       "      <th>exited</th>\n",
       "    </tr>\n",
       "  </thead>\n",
       "  <tbody>\n",
       "    <tr>\n",
       "      <th>0</th>\n",
       "      <td>1</td>\n",
       "      <td>15634602</td>\n",
       "      <td>Hargrave</td>\n",
       "      <td>619</td>\n",
       "      <td>France</td>\n",
       "      <td>Female</td>\n",
       "      <td>42</td>\n",
       "      <td>2.0</td>\n",
       "      <td>0.0</td>\n",
       "      <td>1</td>\n",
       "      <td>1</td>\n",
       "      <td>1</td>\n",
       "      <td>101348.88</td>\n",
       "      <td>1</td>\n",
       "    </tr>\n",
       "  </tbody>\n",
       "</table>\n",
       "</div>"
      ],
      "text/plain": [
       "   rownumber  customerid   surname  creditscore geography  gender  age  \\\n",
       "0          1    15634602  Hargrave          619    France  Female   42   \n",
       "\n",
       "   tenure  balance  numofproducts  hascrcard  isactivemember  estimatedsalary  \\\n",
       "0     2.0      0.0              1          1               1        101348.88   \n",
       "\n",
       "   exited  \n",
       "0       1  "
      ]
     },
     "metadata": {},
     "output_type": "display_data"
    }
   ],
   "source": [
    "data_orig.columns = data_orig.columns.str.lower()\n",
    "display(data_orig.head(1))"
   ]
  },
  {
   "cell_type": "markdown",
   "metadata": {},
   "source": [
    "### **Первичное описание имеющихся данных:**"
   ]
  },
  {
   "cell_type": "markdown",
   "metadata": {},
   "source": [
    "•\trownumber — индекс строки в данных  \n",
    "•\tcustomerid — уникальный идентификатор клиента  \n",
    "•\tsurname — фамилия  \n",
    "•\tcreditScore — кредитный рейтинг  \n",
    "•\tgeography — страна проживания  \n",
    "•\tgender — пол  \n",
    "•\tage — возраст  \n",
    "•\ttenure — сколько лет человек является клиентом банка  \n",
    "•\tbalance — баланс на счёте  \n",
    "•\tnumofproducts — количество продуктов банка, используемых клиентом  \n",
    "•\thascrcard — наличие кредитной карты  \n",
    "•\tisactivemember — активность клиента  \n",
    "•\testimatedsalary — предполагаемая зарплата  \n",
    "•\texited — факт ухода клиента **(целевой признак)**"
   ]
  },
  {
   "cell_type": "markdown",
   "metadata": {},
   "source": [
    "### **Проверка на наличие пропусков данных и дубликатов в столбцах:**"
   ]
  },
  {
   "cell_type": "code",
   "execution_count": 4,
   "metadata": {
    "scrolled": false
   },
   "outputs": [
    {
     "name": "stdout",
     "output_type": "stream",
     "text": [
      "rownumber            0\n",
      "customerid           0\n",
      "surname              0\n",
      "creditscore          0\n",
      "geography            0\n",
      "gender               0\n",
      "age                  0\n",
      "tenure             909\n",
      "balance              0\n",
      "numofproducts        0\n",
      "hascrcard            0\n",
      "isactivemember       0\n",
      "estimatedsalary      0\n",
      "exited               0\n",
      "dtype: int64\n"
     ]
    }
   ],
   "source": [
    "print(data_orig.isna().sum())"
   ]
  },
  {
   "cell_type": "markdown",
   "metadata": {},
   "source": [
    "Обнаружено 909 пропусков в столбце 'tenure' (сколько лет человек является клиентом банка), что составляет 9% от общего числа строк."
   ]
  },
  {
   "cell_type": "markdown",
   "metadata": {},
   "source": [
    "Обработаем пропуски в столбце 'tenure', заполнив их случайными значениями, сэмплированными из распределения значений признака 'Tenure':"
   ]
  },
  {
   "cell_type": "markdown",
   "metadata": {},
   "source": [
    "Обработаем пропуски в столбце 'tenure', удалив строки с пропусками:"
   ]
  },
  {
   "cell_type": "code",
   "execution_count": 5,
   "metadata": {},
   "outputs": [
    {
     "name": "stdout",
     "output_type": "stream",
     "text": [
      "rownumber          0\n",
      "customerid         0\n",
      "surname            0\n",
      "creditscore        0\n",
      "geography          0\n",
      "gender             0\n",
      "age                0\n",
      "tenure             0\n",
      "balance            0\n",
      "numofproducts      0\n",
      "hascrcard          0\n",
      "isactivemember     0\n",
      "estimatedsalary    0\n",
      "exited             0\n",
      "dtype: int64\n",
      "(9091, 14)\n"
     ]
    }
   ],
   "source": [
    "data_orig = data_orig.dropna(subset=['tenure'])\n",
    "print(data_orig.isna().sum())\n",
    "print(data_orig.shape)"
   ]
  },
  {
   "cell_type": "code",
   "execution_count": 6,
   "metadata": {},
   "outputs": [
    {
     "name": "stdout",
     "output_type": "stream",
     "text": [
      "0\n"
     ]
    }
   ],
   "source": [
    "print(data_orig.duplicated().sum())"
   ]
  },
  {
   "cell_type": "markdown",
   "metadata": {},
   "source": [
    "Явные дубликаты в датафрейме отсутствуют."
   ]
  },
  {
   "cell_type": "markdown",
   "metadata": {},
   "source": [
    "### **Проверка наличия аномальных значений:**"
   ]
  },
  {
   "cell_type": "code",
   "execution_count": 7,
   "metadata": {
    "scrolled": false
   },
   "outputs": [
    {
     "data": {
      "image/png": "[encoded data removed]",
      "text/plain": [
       "<Figure size 2000x1200 with 12 Axes>"
      ]
     },
     "metadata": {},
     "output_type": "display_data"
    }
   ],
   "source": [
    "data_orig.hist(bins=100, figsize=(20,12)); plt.show()"
   ]
  },
  {
   "cell_type": "markdown",
   "metadata": {},
   "source": [
    "Аномальные значения имеются в столбцах 'creditscore' и 'balance'. В столбце 'balance' (баланс денежных средств на счете) аномально высокое значение у параметра '0', что означает отсутствие денежных средств на счете - не является \"аномалией\". Аналогично со столбцом 'creditscore' (кредитный рейтинг), не зная условий формирования данного рейтинга - принимать значения за \"аномальные\" нецелесообразно."
   ]
  },
  {
   "cell_type": "markdown",
   "metadata": {},
   "source": [
    "### **Исключение данных, не влияющих на целевой признак:**"
   ]
  },
  {
   "cell_type": "markdown",
   "metadata": {},
   "source": [
    "Также на данном этапе целесообразно удалить столбцы, которые явно не будут оказывать влияния на целевой признак (но могут привести к переобучению модели), такие как:  \n",
    "- rownumber — индекс строки в данных (совпадает с индексами датафрейма)\n",
    "- customerid — уникальный идентификатор клиента (ID, присваеваемый клиенту при регистрации в банковской системе, также совпадает с индексом)\n",
    "- surname — фамилия (аналогично с вышеизложенным, то, какая у клиента фамилия/id/порядковый индекс не оказывает влияния на целевой признак)"
   ]
  },
  {
   "cell_type": "code",
   "execution_count": 8,
   "metadata": {
    "scrolled": false
   },
   "outputs": [
    {
     "name": "stdout",
     "output_type": "stream",
     "text": [
      "<class 'pandas.core.frame.DataFrame'>\n",
      "Int64Index: 9091 entries, 0 to 9998\n",
      "Data columns (total 11 columns):\n",
      " #   Column           Non-Null Count  Dtype  \n",
      "---  ------           --------------  -----  \n",
      " 0   creditscore      9091 non-null   int64  \n",
      " 1   geography        9091 non-null   object \n",
      " 2   gender           9091 non-null   object \n",
      " 3   age              9091 non-null   int64  \n",
      " 4   tenure           9091 non-null   float64\n",
      " 5   balance          9091 non-null   float64\n",
      " 6   numofproducts    9091 non-null   int64  \n",
      " 7   hascrcard        9091 non-null   int64  \n",
      " 8   isactivemember   9091 non-null   int64  \n",
      " 9   estimatedsalary  9091 non-null   float64\n",
      " 10  exited           9091 non-null   int64  \n",
      "dtypes: float64(3), int64(6), object(2)\n",
      "memory usage: 852.3+ KB\n",
      "None\n"
     ]
    }
   ],
   "source": [
    "data_orig = data_orig.drop(['rownumber', 'customerid', 'surname'], axis=1)\n",
    "print(data_orig.info())"
   ]
  },
  {
   "cell_type": "markdown",
   "metadata": {},
   "source": [
    "### **Преобразование категориальных значений в численные:**"
   ]
  },
  {
   "cell_type": "markdown",
   "metadata": {},
   "source": [
    "Преобразуем категориальные значения в численные техникой прямого кодирования (OHE) с избежанием дамми-ловушки:"
   ]
  },
  {
   "cell_type": "code",
   "execution_count": 9,
   "metadata": {},
   "outputs": [
    {
     "data": {
      "text/html": [
       "<div>\n",
       "<style scoped>\n",
       "    .dataframe tbody tr th:only-of-type {\n",
       "        vertical-align: middle;\n",
       "    }\n",
       "\n",
       "    .dataframe tbody tr th {\n",
       "        vertical-align: top;\n",
       "    }\n",
       "\n",
       "    .dataframe thead th {\n",
       "        text-align: right;\n",
       "    }\n",
       "</style>\n",
       "<table border=\"1\" class=\"dataframe\">\n",
       "  <thead>\n",
       "    <tr style=\"text-align: right;\">\n",
       "      <th></th>\n",
       "      <th>creditscore</th>\n",
       "      <th>geography_germany</th>\n",
       "      <th>geography_spain</th>\n",
       "      <th>gender_male</th>\n",
       "      <th>age</th>\n",
       "      <th>tenure</th>\n",
       "      <th>balance</th>\n",
       "      <th>numofproducts</th>\n",
       "      <th>hascrcard</th>\n",
       "      <th>isactivemember</th>\n",
       "      <th>estimatedsalary</th>\n",
       "      <th>exited</th>\n",
       "    </tr>\n",
       "  </thead>\n",
       "  <tbody>\n",
       "    <tr>\n",
       "      <th>0</th>\n",
       "      <td>619</td>\n",
       "      <td>0</td>\n",
       "      <td>0</td>\n",
       "      <td>0</td>\n",
       "      <td>42</td>\n",
       "      <td>2.0</td>\n",
       "      <td>0.00</td>\n",
       "      <td>1</td>\n",
       "      <td>1</td>\n",
       "      <td>1</td>\n",
       "      <td>101348.88</td>\n",
       "      <td>1</td>\n",
       "    </tr>\n",
       "    <tr>\n",
       "      <th>1</th>\n",
       "      <td>608</td>\n",
       "      <td>0</td>\n",
       "      <td>1</td>\n",
       "      <td>0</td>\n",
       "      <td>41</td>\n",
       "      <td>1.0</td>\n",
       "      <td>83807.86</td>\n",
       "      <td>1</td>\n",
       "      <td>0</td>\n",
       "      <td>1</td>\n",
       "      <td>112542.58</td>\n",
       "      <td>0</td>\n",
       "    </tr>\n",
       "    <tr>\n",
       "      <th>2</th>\n",
       "      <td>502</td>\n",
       "      <td>0</td>\n",
       "      <td>0</td>\n",
       "      <td>0</td>\n",
       "      <td>42</td>\n",
       "      <td>8.0</td>\n",
       "      <td>159660.80</td>\n",
       "      <td>3</td>\n",
       "      <td>1</td>\n",
       "      <td>0</td>\n",
       "      <td>113931.57</td>\n",
       "      <td>1</td>\n",
       "    </tr>\n",
       "  </tbody>\n",
       "</table>\n",
       "</div>"
      ],
      "text/plain": [
       "   creditscore  geography_germany  geography_spain  gender_male  age  tenure  \\\n",
       "0          619                  0                0            0   42     2.0   \n",
       "1          608                  0                1            0   41     1.0   \n",
       "2          502                  0                0            0   42     8.0   \n",
       "\n",
       "     balance  numofproducts  hascrcard  isactivemember  estimatedsalary  \\\n",
       "0       0.00              1          1               1        101348.88   \n",
       "1   83807.86              1          0               1        112542.58   \n",
       "2  159660.80              3          1               0        113931.57   \n",
       "\n",
       "   exited  \n",
       "0       1  \n",
       "1       0  \n",
       "2       1  "
      ]
     },
     "metadata": {},
     "output_type": "display_data"
    },
    {
     "name": "stdout",
     "output_type": "stream",
     "text": [
      "________________________________________________________________\n",
      "<class 'pandas.core.frame.DataFrame'>\n",
      "Int64Index: 9091 entries, 0 to 9998\n",
      "Data columns (total 12 columns):\n",
      " #   Column             Non-Null Count  Dtype  \n",
      "---  ------             --------------  -----  \n",
      " 0   creditscore        9091 non-null   int64  \n",
      " 1   geography_germany  9091 non-null   uint8  \n",
      " 2   geography_spain    9091 non-null   uint8  \n",
      " 3   gender_male        9091 non-null   uint8  \n",
      " 4   age                9091 non-null   int64  \n",
      " 5   tenure             9091 non-null   float64\n",
      " 6   balance            9091 non-null   float64\n",
      " 7   numofproducts      9091 non-null   int64  \n",
      " 8   hascrcard          9091 non-null   int64  \n",
      " 9   isactivemember     9091 non-null   int64  \n",
      " 10  estimatedsalary    9091 non-null   float64\n",
      " 11  exited             9091 non-null   int64  \n",
      "dtypes: float64(3), int64(6), uint8(3)\n",
      "memory usage: 736.9 KB\n",
      "None\n"
     ]
    }
   ],
   "source": [
    "data_for_log_reg = pd.get_dummies(data_orig, drop_first=True)\n",
    "data_for_log_reg = data_for_log_reg[['creditscore', 'geography_Germany', 'geography_Spain', 'gender_Male', 'age', 'tenure', 'balance', 'numofproducts', 'hascrcard', 'isactivemember', 'estimatedsalary', 'exited']]\n",
    "data_for_log_reg.columns = data_for_log_reg.columns.str.lower()\n",
    "display(data_for_log_reg.head(3))\n",
    "print('________________________________________________________________')\n",
    "print(data_for_log_reg.info())"
   ]
  },
  {
   "cell_type": "markdown",
   "metadata": {},
   "source": [
    "В созданных столбцах:\n",
    "- 'geography_germany' и 'geography_spain' - значение '1' озаначает принадленость к стране наименования столбца;\n",
    "- 'gender_male'- значение '1' озаначает принадленость к мужскому полу ('0' - к женскому)."
   ]
  },
  {
   "cell_type": "markdown",
   "metadata": {},
   "source": [
    "### **Определение моделей и подготовка датафреймов:**"
   ]
  },
  {
   "cell_type": "markdown",
   "metadata": {},
   "source": [
    "В исследовании будут использоваться следующие модели:\n",
    "- 'Логистическая регрессия',\n",
    "- 'Случайный лес',\n",
    "- 'Решающее дерево'.  \n",
    "  \n",
    "\n",
    "Для логистической регрессии ранее создан **датафрейм 'data_for_log_reg'.**  \n",
    "Для решающего дерева и случайного леса создадим датафрейм **'data_for_tree_forest':**"
   ]
  },
  {
   "cell_type": "code",
   "execution_count": 10,
   "metadata": {
    "scrolled": false
   },
   "outputs": [
    {
     "data": {
      "text/html": [
       "<div>\n",
       "<style scoped>\n",
       "    .dataframe tbody tr th:only-of-type {\n",
       "        vertical-align: middle;\n",
       "    }\n",
       "\n",
       "    .dataframe tbody tr th {\n",
       "        vertical-align: top;\n",
       "    }\n",
       "\n",
       "    .dataframe thead th {\n",
       "        text-align: right;\n",
       "    }\n",
       "</style>\n",
       "<table border=\"1\" class=\"dataframe\">\n",
       "  <thead>\n",
       "    <tr style=\"text-align: right;\">\n",
       "      <th></th>\n",
       "      <th>creditscore</th>\n",
       "      <th>geography_germany</th>\n",
       "      <th>geography_spain</th>\n",
       "      <th>gender_male</th>\n",
       "      <th>age</th>\n",
       "      <th>tenure</th>\n",
       "      <th>balance</th>\n",
       "      <th>numofproducts</th>\n",
       "      <th>hascrcard</th>\n",
       "      <th>isactivemember</th>\n",
       "      <th>estimatedsalary</th>\n",
       "      <th>exited</th>\n",
       "    </tr>\n",
       "  </thead>\n",
       "  <tbody>\n",
       "    <tr>\n",
       "      <th>0</th>\n",
       "      <td>619</td>\n",
       "      <td>0</td>\n",
       "      <td>0</td>\n",
       "      <td>0</td>\n",
       "      <td>42</td>\n",
       "      <td>2.0</td>\n",
       "      <td>0.00</td>\n",
       "      <td>1</td>\n",
       "      <td>1</td>\n",
       "      <td>1</td>\n",
       "      <td>101348.88</td>\n",
       "      <td>1</td>\n",
       "    </tr>\n",
       "    <tr>\n",
       "      <th>1</th>\n",
       "      <td>608</td>\n",
       "      <td>0</td>\n",
       "      <td>1</td>\n",
       "      <td>0</td>\n",
       "      <td>41</td>\n",
       "      <td>1.0</td>\n",
       "      <td>83807.86</td>\n",
       "      <td>1</td>\n",
       "      <td>0</td>\n",
       "      <td>1</td>\n",
       "      <td>112542.58</td>\n",
       "      <td>0</td>\n",
       "    </tr>\n",
       "  </tbody>\n",
       "</table>\n",
       "</div>"
      ],
      "text/plain": [
       "   creditscore  geography_germany  geography_spain  gender_male  age  tenure  \\\n",
       "0          619                  0                0            0   42     2.0   \n",
       "1          608                  0                1            0   41     1.0   \n",
       "\n",
       "    balance  numofproducts  hascrcard  isactivemember  estimatedsalary  exited  \n",
       "0      0.00              1          1               1        101348.88       1  \n",
       "1  83807.86              1          0               1        112542.58       0  "
      ]
     },
     "metadata": {},
     "output_type": "display_data"
    }
   ],
   "source": [
    "data_for_tree_forest = data_for_log_reg\n",
    "display(data_for_tree_forest.head(2))"
   ]
  },
  {
   "cell_type": "markdown",
   "metadata": {},
   "source": [
    "### **Разделение на выборки:**"
   ]
  },
  {
   "cell_type": "markdown",
   "metadata": {},
   "source": [
    "*При разделении на выборки, для одинакового соотношения между классами, в функции 'train_test_split' передадим параметру 'stratify' наш целевой признак - 'target'.*"
   ]
  },
  {
   "cell_type": "markdown",
   "metadata": {},
   "source": [
    "**Разделим датафрейм 'data_for_log_reg' на тренировочную, валидационную и тестовую выборки в соотношении 60/20/20:**"
   ]
  },
  {
   "cell_type": "code",
   "execution_count": 11,
   "metadata": {},
   "outputs": [],
   "source": [
    "features_for_log_reg = data_for_log_reg.drop(\"exited\", axis=1)\n",
    "target_for_log_reg = data_for_log_reg[\"exited\"]"
   ]
  },
  {
   "cell_type": "code",
   "execution_count": 12,
   "metadata": {},
   "outputs": [],
   "source": [
    "features_for_log_reg_train, features_for_log_reg_valid, target_for_log_reg_train, target_for_log_reg_valid = train_test_split(features_for_log_reg, target_for_log_reg, test_size=0.4, random_state=12345, stratify=target_for_log_reg)\n",
    "features_for_log_reg_valid, features_for_log_reg_test, target_for_log_reg_valid, target_for_log_reg_test = train_test_split(features_for_log_reg_valid, target_for_log_reg_valid, test_size=0.5, random_state=12345, stratify=target_for_log_reg_valid)"
   ]
  },
  {
   "cell_type": "code",
   "execution_count": 13,
   "metadata": {},
   "outputs": [
    {
     "name": "stdout",
     "output_type": "stream",
     "text": [
      "Тренировочная: 5454\n",
      "Валидационная: 1818\n",
      "Тестовая: 1819\n"
     ]
    }
   ],
   "source": [
    "print('Тренировочная:', features_for_log_reg_train.shape[0])\n",
    "print('Валидационная:', features_for_log_reg_valid.shape[0])\n",
    "print('Тестовая:', features_for_log_reg_test.shape[0])"
   ]
  },
  {
   "cell_type": "markdown",
   "metadata": {},
   "source": [
    "**Разделим датафрейм 'data_for_tree_forest' на тренировочную, валидационную и тестовую выборки в соотношении 60/20/20:**"
   ]
  },
  {
   "cell_type": "code",
   "execution_count": 14,
   "metadata": {},
   "outputs": [],
   "source": [
    "features_for_tree_forest = data_for_tree_forest.drop(\"exited\", axis=1)\n",
    "target_for_tree_forest = data_for_tree_forest[\"exited\"]"
   ]
  },
  {
   "cell_type": "code",
   "execution_count": 15,
   "metadata": {},
   "outputs": [],
   "source": [
    "features_for_tree_forest_train, features_for_tree_forest_valid, target_for_tree_forest_train, target_for_tree_forest_valid = train_test_split(features_for_tree_forest, target_for_tree_forest, test_size=0.4, random_state=12345, stratify=target_for_tree_forest)\n",
    "features_for_tree_forest_valid, features_for_tree_forest_test, target_for_tree_forest_valid, target_for_tree_forest_test = train_test_split(features_for_tree_forest_valid, target_for_tree_forest_valid, test_size=0.5, random_state=12345, stratify=target_for_tree_forest_valid)"
   ]
  },
  {
   "cell_type": "code",
   "execution_count": 16,
   "metadata": {
    "scrolled": true
   },
   "outputs": [
    {
     "name": "stdout",
     "output_type": "stream",
     "text": [
      "Тренировочная: 5454\n",
      "Валидационная: 1818\n",
      "Тестовая: 1819\n"
     ]
    }
   ],
   "source": [
    "print('Тренировочная:', features_for_tree_forest_train.shape[0])\n",
    "print('Валидационная:', features_for_tree_forest_valid.shape[0])\n",
    "print('Тестовая:', features_for_tree_forest_test.shape[0])"
   ]
  },
  {
   "cell_type": "markdown",
   "metadata": {},
   "source": [
    "### **Масштабирование признаков:**"
   ]
  },
  {
   "cell_type": "markdown",
   "metadata": {},
   "source": [
    "**Для модели логистической регрессии выполним масштабирование признаков методом стандартизации данных - 'StandardScaler':**"
   ]
  },
  {
   "cell_type": "code",
   "execution_count": 17,
   "metadata": {},
   "outputs": [
    {
     "data": {
      "text/html": [
       "<div>\n",
       "<style scoped>\n",
       "    .dataframe tbody tr th:only-of-type {\n",
       "        vertical-align: middle;\n",
       "    }\n",
       "\n",
       "    .dataframe tbody tr th {\n",
       "        vertical-align: top;\n",
       "    }\n",
       "\n",
       "    .dataframe thead th {\n",
       "        text-align: right;\n",
       "    }\n",
       "</style>\n",
       "<table border=\"1\" class=\"dataframe\">\n",
       "  <thead>\n",
       "    <tr style=\"text-align: right;\">\n",
       "      <th></th>\n",
       "      <th>creditscore</th>\n",
       "      <th>geography_germany</th>\n",
       "      <th>geography_spain</th>\n",
       "      <th>gender_male</th>\n",
       "      <th>age</th>\n",
       "      <th>tenure</th>\n",
       "      <th>balance</th>\n",
       "      <th>numofproducts</th>\n",
       "      <th>hascrcard</th>\n",
       "      <th>isactivemember</th>\n",
       "      <th>estimatedsalary</th>\n",
       "    </tr>\n",
       "  </thead>\n",
       "  <tbody>\n",
       "    <tr>\n",
       "      <th>9723</th>\n",
       "      <td>-1.292898</td>\n",
       "      <td>0</td>\n",
       "      <td>0</td>\n",
       "      <td>1</td>\n",
       "      <td>-0.660843</td>\n",
       "      <td>0.686341</td>\n",
       "      <td>0.786636</td>\n",
       "      <td>-0.910943</td>\n",
       "      <td>0</td>\n",
       "      <td>0</td>\n",
       "      <td>-0.223548</td>\n",
       "    </tr>\n",
       "    <tr>\n",
       "      <th>1224</th>\n",
       "      <td>-1.563714</td>\n",
       "      <td>0</td>\n",
       "      <td>1</td>\n",
       "      <td>0</td>\n",
       "      <td>0.778434</td>\n",
       "      <td>1.034232</td>\n",
       "      <td>0.833795</td>\n",
       "      <td>-0.910943</td>\n",
       "      <td>1</td>\n",
       "      <td>0</td>\n",
       "      <td>1.383021</td>\n",
       "    </tr>\n",
       "  </tbody>\n",
       "</table>\n",
       "</div>"
      ],
      "text/plain": [
       "      creditscore  geography_germany  geography_spain  gender_male       age  \\\n",
       "9723    -1.292898                  0                0            1 -0.660843   \n",
       "1224    -1.563714                  0                1            0  0.778434   \n",
       "\n",
       "        tenure   balance  numofproducts  hascrcard  isactivemember  \\\n",
       "9723  0.686341  0.786636      -0.910943          0               0   \n",
       "1224  1.034232  0.833795      -0.910943          1               0   \n",
       "\n",
       "      estimatedsalary  \n",
       "9723        -0.223548  \n",
       "1224         1.383021  "
      ]
     },
     "metadata": {},
     "output_type": "display_data"
    },
    {
     "data": {
      "text/html": [
       "<div>\n",
       "<style scoped>\n",
       "    .dataframe tbody tr th:only-of-type {\n",
       "        vertical-align: middle;\n",
       "    }\n",
       "\n",
       "    .dataframe tbody tr th {\n",
       "        vertical-align: top;\n",
       "    }\n",
       "\n",
       "    .dataframe thead th {\n",
       "        text-align: right;\n",
       "    }\n",
       "</style>\n",
       "<table border=\"1\" class=\"dataframe\">\n",
       "  <thead>\n",
       "    <tr style=\"text-align: right;\">\n",
       "      <th></th>\n",
       "      <th>creditscore</th>\n",
       "      <th>geography_germany</th>\n",
       "      <th>geography_spain</th>\n",
       "      <th>gender_male</th>\n",
       "      <th>age</th>\n",
       "      <th>tenure</th>\n",
       "      <th>balance</th>\n",
       "      <th>numofproducts</th>\n",
       "      <th>hascrcard</th>\n",
       "      <th>isactivemember</th>\n",
       "      <th>estimatedsalary</th>\n",
       "    </tr>\n",
       "  </thead>\n",
       "  <tbody>\n",
       "    <tr>\n",
       "      <th>7493</th>\n",
       "      <td>-0.417955</td>\n",
       "      <td>0</td>\n",
       "      <td>1</td>\n",
       "      <td>0</td>\n",
       "      <td>-0.181084</td>\n",
       "      <td>1.730013</td>\n",
       "      <td>1.023931</td>\n",
       "      <td>0.789359</td>\n",
       "      <td>1</td>\n",
       "      <td>1</td>\n",
       "      <td>0.519901</td>\n",
       "    </tr>\n",
       "    <tr>\n",
       "      <th>5460</th>\n",
       "      <td>0.113260</td>\n",
       "      <td>1</td>\n",
       "      <td>0</td>\n",
       "      <td>1</td>\n",
       "      <td>0.202723</td>\n",
       "      <td>-0.009440</td>\n",
       "      <td>0.738812</td>\n",
       "      <td>0.789359</td>\n",
       "      <td>0</td>\n",
       "      <td>1</td>\n",
       "      <td>0.364920</td>\n",
       "    </tr>\n",
       "  </tbody>\n",
       "</table>\n",
       "</div>"
      ],
      "text/plain": [
       "      creditscore  geography_germany  geography_spain  gender_male       age  \\\n",
       "7493    -0.417955                  0                1            0 -0.181084   \n",
       "5460     0.113260                  1                0            1  0.202723   \n",
       "\n",
       "        tenure   balance  numofproducts  hascrcard  isactivemember  \\\n",
       "7493  1.730013  1.023931       0.789359          1               1   \n",
       "5460 -0.009440  0.738812       0.789359          0               1   \n",
       "\n",
       "      estimatedsalary  \n",
       "7493         0.519901  \n",
       "5460         0.364920  "
      ]
     },
     "metadata": {},
     "output_type": "display_data"
    },
    {
     "data": {
      "text/html": [
       "<div>\n",
       "<style scoped>\n",
       "    .dataframe tbody tr th:only-of-type {\n",
       "        vertical-align: middle;\n",
       "    }\n",
       "\n",
       "    .dataframe tbody tr th {\n",
       "        vertical-align: top;\n",
       "    }\n",
       "\n",
       "    .dataframe thead th {\n",
       "        text-align: right;\n",
       "    }\n",
       "</style>\n",
       "<table border=\"1\" class=\"dataframe\">\n",
       "  <thead>\n",
       "    <tr style=\"text-align: right;\">\n",
       "      <th></th>\n",
       "      <th>creditscore</th>\n",
       "      <th>geography_germany</th>\n",
       "      <th>geography_spain</th>\n",
       "      <th>gender_male</th>\n",
       "      <th>age</th>\n",
       "      <th>tenure</th>\n",
       "      <th>balance</th>\n",
       "      <th>numofproducts</th>\n",
       "      <th>hascrcard</th>\n",
       "      <th>isactivemember</th>\n",
       "      <th>estimatedsalary</th>\n",
       "    </tr>\n",
       "  </thead>\n",
       "  <tbody>\n",
       "    <tr>\n",
       "      <th>4126</th>\n",
       "      <td>0.259084</td>\n",
       "      <td>0</td>\n",
       "      <td>1</td>\n",
       "      <td>1</td>\n",
       "      <td>-0.660843</td>\n",
       "      <td>1.730013</td>\n",
       "      <td>-1.222967</td>\n",
       "      <td>0.789359</td>\n",
       "      <td>1</td>\n",
       "      <td>0</td>\n",
       "      <td>1.597110</td>\n",
       "    </tr>\n",
       "    <tr>\n",
       "      <th>5145</th>\n",
       "      <td>1.394426</td>\n",
       "      <td>1</td>\n",
       "      <td>0</td>\n",
       "      <td>1</td>\n",
       "      <td>-0.085132</td>\n",
       "      <td>-1.401003</td>\n",
       "      <td>0.994334</td>\n",
       "      <td>-0.910943</td>\n",
       "      <td>1</td>\n",
       "      <td>1</td>\n",
       "      <td>1.253399</td>\n",
       "    </tr>\n",
       "  </tbody>\n",
       "</table>\n",
       "</div>"
      ],
      "text/plain": [
       "      creditscore  geography_germany  geography_spain  gender_male       age  \\\n",
       "4126     0.259084                  0                1            1 -0.660843   \n",
       "5145     1.394426                  1                0            1 -0.085132   \n",
       "\n",
       "        tenure   balance  numofproducts  hascrcard  isactivemember  \\\n",
       "4126  1.730013 -1.222967       0.789359          1               0   \n",
       "5145 -1.401003  0.994334      -0.910943          1               1   \n",
       "\n",
       "      estimatedsalary  \n",
       "4126         1.597110  \n",
       "5145         1.253399  "
      ]
     },
     "metadata": {},
     "output_type": "display_data"
    }
   ],
   "source": [
    "scaler = StandardScaler()\n",
    "numeric = ['creditscore', 'age', 'balance', 'estimatedsalary', 'tenure', 'numofproducts']\n",
    "scaler.fit(features_for_log_reg_train[numeric])\n",
    "features_for_log_reg_train[numeric] = scaler.transform(features_for_log_reg_train[numeric])\n",
    "features_for_log_reg_valid[numeric] = scaler.transform(features_for_log_reg_valid[numeric])\n",
    "features_for_log_reg_test[numeric] = scaler.transform(features_for_log_reg_test[numeric])\n",
    "\n",
    "display(features_for_log_reg_train.head(2))\n",
    "display(features_for_log_reg_valid.head(2))\n",
    "display(features_for_log_reg_test.head(2))"
   ]
  },
  {
   "cell_type": "markdown",
   "metadata": {},
   "source": [
    "**Для моделей решающего дерева и случайного леса масштабирование признаков применяться не будет, датафрейм 'data_for_tree_forest' остается в исходном виде.**"
   ]
  },
  {
   "cell_type": "markdown",
   "metadata": {},
   "source": [
    "### **Вывод:**"
   ]
  },
  {
   "cell_type": "markdown",
   "metadata": {},
   "source": [
    "**1.** При первичном анализе датафрейма:\n",
    "- несоответствий форматов данных не обнаружено,\n",
    "- явные дубликаты отсутствуют,\n",
    "- \"аномальные\" значения отсутствуют,\n",
    "- пропуски данных в столбцах (9% от общего кол-ва строк) в стобце 'Tenure' обработаны и заменены их случайными значениями, сэмплированными из распределения значений признака 'Tenure'.  \n",
    "  \n",
    "**2.** Из датафрейма удалены столбцы (\"rownumber\", \"customerid\", \"surname\"), не влияющие на целевой признак.\n",
    "  \n",
    "  \n",
    "**3.** Категориальные значения преобразованы в численные техникой прямого кодирования (OHE) с избежанием дамми-ловушки.  \n",
    "  \n",
    "  \n",
    "**4.** Определены используемые в исследовании модели:\n",
    "- 'Логистическая регрессия',\n",
    "- 'Случайный лес',\n",
    "- 'Решающее дерево'.\n",
    "\n",
    "**5.** Созданы два датафрейма:\n",
    "- 'data_for_log_reg' - для логистической регрессии (с масштабированием признаков методом 'StandardScaler'),\n",
    "- 'data_for_tree_forest' - для решающего дерева и случайного леса.\n",
    "\n",
    "**6.** Датафреймы разделены на:\n",
    "- тренировочную, \n",
    "- валидационную, \n",
    "- тестовую  \n",
    "  \n",
    "выборки в соотношении 60/20/20:"
   ]
  },
  {
   "cell_type": "markdown",
   "metadata": {},
   "source": [
    "## Исследование задачи"
   ]
  },
  {
   "cell_type": "markdown",
   "metadata": {},
   "source": [
    "### **Баланс классов:**"
   ]
  },
  {
   "cell_type": "markdown",
   "metadata": {},
   "source": [
    "Определим баланс классов в выборке:"
   ]
  },
  {
   "cell_type": "code",
   "execution_count": 18,
   "metadata": {},
   "outputs": [
    {
     "name": "stdout",
     "output_type": "stream",
     "text": [
      "0    7237\n",
      "1    1854\n",
      "Name: exited, dtype: int64\n"
     ]
    }
   ],
   "source": [
    "print(target_for_log_reg.value_counts())"
   ]
  },
  {
   "cell_type": "markdown",
   "metadata": {},
   "source": [
    "Соотношение кол-ва \"оставшихся\" в банке клиентов к кол-ву \"ушедших\" из банка клиентов составляет 80:20, или 4:1 - налицо дисбаланс классов."
   ]
  },
  {
   "cell_type": "markdown",
   "metadata": {},
   "source": [
    "Обучим модели без учёта дисбаланса классов."
   ]
  },
  {
   "cell_type": "markdown",
   "metadata": {},
   "source": [
    "### **Логистическая регрессия:**"
   ]
  },
  {
   "cell_type": "code",
   "execution_count": 19,
   "metadata": {
    "scrolled": true
   },
   "outputs": [
    {
     "name": "stdout",
     "output_type": "stream",
     "text": [
      "F1: 0.3306772908366534\n",
      "Confusion Matrix: [[1399   48]\n",
      " [ 288   83]]\n",
      "Wall time: 16.2 ms\n"
     ]
    }
   ],
   "source": [
    "%%time\n",
    "\n",
    "model_log_reg = LogisticRegression(random_state=12345, solver='liblinear')\n",
    "model_log_reg.fit(features_for_log_reg_train, target_for_log_reg_train)\n",
    "predictions_log_reg = model_log_reg.predict(features_for_log_reg_valid)\n",
    "print('F1:', f1_score(predictions_log_reg, target_for_log_reg_valid))\n",
    "print('Confusion Matrix:', confusion_matrix(target_for_log_reg_valid, predictions_log_reg))"
   ]
  },
  {
   "cell_type": "markdown",
   "metadata": {},
   "source": [
    "### **Решающее дерево:**"
   ]
  },
  {
   "cell_type": "code",
   "execution_count": 20,
   "metadata": {
    "scrolled": true
   },
   "outputs": [
    {
     "name": "stdout",
     "output_type": "stream",
     "text": [
      "При глубине дерева: 7\n",
      "Достигнут лучший показатель F1: 0.5862646566164155\n",
      "Wall time: 1.28 s\n"
     ]
    }
   ],
   "source": [
    "%%time\n",
    "\n",
    "best_depth = 0\n",
    "best_F1 = 0\n",
    "for depth in range(1, 51):\n",
    "    model_tree = DecisionTreeClassifier(random_state=12345, max_depth=depth)\n",
    "    model_tree.fit(features_for_tree_forest_train, target_for_tree_forest_train)\n",
    "    predictions_tree = model_tree.predict(features_for_tree_forest_valid)\n",
    "    result_F1 = f1_score(predictions_tree, target_for_tree_forest_valid)\n",
    "    if result_F1 > best_F1:\n",
    "        best_depth = depth\n",
    "        best_F1 = result_F1\n",
    "\n",
    "print('При глубине дерева:', best_depth)\n",
    "print('Достигнут лучший показатель F1:', best_F1)"
   ]
  },
  {
   "cell_type": "markdown",
   "metadata": {},
   "source": [
    "### **Случайный лес:**"
   ]
  },
  {
   "cell_type": "code",
   "execution_count": 21,
   "metadata": {
    "scrolled": true
   },
   "outputs": [
    {
     "name": "stdout",
     "output_type": "stream",
     "text": [
      "При кол-ве деревьев: 147\n",
      "Достигнут лучший показатель F1: 0.6035889070146819\n",
      "Wall time: 1min 22s\n"
     ]
    }
   ],
   "source": [
    "%%time\n",
    "\n",
    "best_estimators = 0\n",
    "best_F1 = 0\n",
    "for est in range(1, 150):\n",
    "    model_forest = RandomForestClassifier(random_state=12345, n_estimators=est)\n",
    "    model_forest.fit(features_for_tree_forest_train, target_for_tree_forest_train)\n",
    "    predictions_forest = model_forest.predict(features_for_tree_forest_valid)\n",
    "    result_F1 = f1_score(predictions_forest, target_for_tree_forest_valid)\n",
    "    if result_F1 > best_F1:\n",
    "        best_estimators = est\n",
    "        best_F1 = result_F1\n",
    "\n",
    "print('При кол-ве деревьев:', best_estimators)\n",
    "print('Достигнут лучший показатель F1:', best_F1)"
   ]
  },
  {
   "cell_type": "markdown",
   "metadata": {},
   "source": [
    "### **Построение ROC-кривой:**"
   ]
  },
  {
   "cell_type": "markdown",
   "metadata": {},
   "source": [
    "Построим ROC-кривую для каждой модели и отобразим показатель AUC-ROC:"
   ]
  },
  {
   "cell_type": "code",
   "execution_count": 22,
   "metadata": {
    "scrolled": false
   },
   "outputs": [
    {
     "name": "stdout",
     "output_type": "stream",
     "text": [
      "AUC-ROC LogisticRegression 0.7893010355098474\n",
      "AUC-ROC DecisionTreeClassifier 0.8273908095008354\n",
      "AUC-ROC RandomForestClassifier 0.8667575073998253\n",
      "Wall time: 748 ms\n"
     ]
    },
    {
     "data": {
      "text/plain": [
       "Text(0, 0.5, 'TP - истинно положительные')"
      ]
     },
     "execution_count": 22,
     "metadata": {},
     "output_type": "execute_result"
    },
    {
     "data": {
      "image/png": "[encoded data removed]",
      "text/plain": [
       "<Figure size 1200x900 with 1 Axes>"
      ]
     },
     "metadata": {},
     "output_type": "display_data"
    }
   ],
   "source": [
    "%%time\n",
    "\n",
    "plt.figure(figsize=[12,9])\n",
    "plt.plot([0, 1], [0, 1], linestyle='--', label='RandomModel')\n",
    "\n",
    "model = LogisticRegression(random_state=12345, solver='liblinear')\n",
    "model.fit(features_for_log_reg_train, target_for_log_reg_train)\n",
    "predictions_log_reg = model.predict_proba(features_for_log_reg_valid)\n",
    "predictions_one_log_reg = predictions_log_reg[:, 1]\n",
    "fpr, tpr, thresholds = roc_curve(target_for_log_reg_valid, predictions_one_log_reg)\n",
    "auc_roc = roc_auc_score(target_for_log_reg_valid, predictions_one_log_reg)\n",
    "print('AUC-ROC LogisticRegression', auc_roc)\n",
    "plt.plot(fpr, tpr, label='LogisticRegression')\n",
    "\n",
    "model = DecisionTreeClassifier(random_state=12345, max_depth=7)\n",
    "model.fit(features_for_tree_forest_train, target_for_tree_forest_train)\n",
    "predictions_tree = model.predict_proba(features_for_tree_forest_valid)\n",
    "predictions_one_tree = predictions_tree[:, 1]\n",
    "fpr, tpr, thresholds = roc_curve(target_for_tree_forest_valid, predictions_one_tree)\n",
    "auc_roc = roc_auc_score(target_for_tree_forest_valid, predictions_one_tree)\n",
    "print('AUC-ROC DecisionTreeClassifier', auc_roc)\n",
    "plt.plot(fpr, tpr, label='DecisionTreeClassifier')\n",
    "\n",
    "model = RandomForestClassifier(random_state=12345, n_estimators=75)\n",
    "model.fit(features_for_tree_forest_train, target_for_tree_forest_train)\n",
    "predictions_forest = model.predict_proba(features_for_tree_forest_valid)\n",
    "predictions_one_forest = predictions_forest[:, 1]\n",
    "fpr, tpr, thresholds = roc_curve(target_for_tree_forest_valid, predictions_one_forest)\n",
    "auc_roc = roc_auc_score(target_for_tree_forest_valid, predictions_one_forest)\n",
    "print('AUC-ROC RandomForestClassifier', auc_roc)\n",
    "plt.plot(fpr, tpr, label='RandomForestClassifier')\n",
    "\n",
    "plt.legend(loc='lower right', fontsize='x-large')\n",
    "plt.title('ROC-кривая')\n",
    "plt.xlabel('FP - ложно-положительные')\n",
    "plt.ylabel('TP - истинно положительные')"
   ]
  },
  {
   "cell_type": "markdown",
   "metadata": {},
   "source": [
    "### **Вывод:**"
   ]
  },
  {
   "cell_type": "markdown",
   "metadata": {},
   "source": [
    "**Установлен дисбаланс классов** - 4:1 (отрицательных к положительным).  \n",
    "**Показатель F1:**\n",
    "- 0.3306772908366534 для Логистической регрессии;\n",
    "- 0.5862646566164155 для Решающего дерева;\n",
    "- 0.6035889070146819 для Случайного леса.  "
   ]
  },
  {
   "cell_type": "markdown",
   "metadata": {},
   "source": [
    "## Борьба с дисбалансом"
   ]
  },
  {
   "cell_type": "markdown",
   "metadata": {},
   "source": [
    "Для устранения дисбаланса классов опробуем поочередно три метода:\n",
    "- Взвешивание классов (class_weight).\n",
    "- Увеличение выборки (upsampling).\n",
    "- Уменьшение выборки (downsampling)."
   ]
  },
  {
   "cell_type": "markdown",
   "metadata": {},
   "source": [
    "### **Взвешивание классов:**"
   ]
  },
  {
   "cell_type": "markdown",
   "metadata": {},
   "source": [
    "**Логистическая регрессия:**"
   ]
  },
  {
   "cell_type": "code",
   "execution_count": 23,
   "metadata": {},
   "outputs": [
    {
     "name": "stdout",
     "output_type": "stream",
     "text": [
      "F1: 0.5065420560747663\n",
      "Wall time: 16.5 ms\n"
     ]
    }
   ],
   "source": [
    "%%time\n",
    "\n",
    "model_log_reg_cw = LogisticRegression(random_state=12345, solver='liblinear', class_weight='balanced')\n",
    "model_log_reg_cw.fit(features_for_log_reg_train, target_for_log_reg_train)\n",
    "predictions_log_reg_cw = model_log_reg_cw.predict(features_for_log_reg_valid)\n",
    "print('F1:', f1_score(predictions_log_reg_cw, target_for_log_reg_valid))"
   ]
  },
  {
   "cell_type": "markdown",
   "metadata": {},
   "source": [
    "Показатель F1 вырос с 0.3307 до 0.5065 (по сравнению с дисбалансом классов)"
   ]
  },
  {
   "cell_type": "markdown",
   "metadata": {},
   "source": [
    "**Решающее дерево:**"
   ]
  },
  {
   "cell_type": "code",
   "execution_count": 24,
   "metadata": {},
   "outputs": [
    {
     "name": "stdout",
     "output_type": "stream",
     "text": [
      "При глубине дерева: 6\n",
      "Достигнут лучший показатель F1: 0.583084577114428\n",
      "Wall time: 1.74 s\n"
     ]
    }
   ],
   "source": [
    "%%time\n",
    "\n",
    "best_depth = 0\n",
    "best_F1 = 0\n",
    "for depth in range(1, 51):\n",
    "    model_tree = DecisionTreeClassifier(random_state=12345, max_depth=depth, class_weight='balanced')\n",
    "    model_tree.fit(features_for_tree_forest_train, target_for_tree_forest_train)\n",
    "    predictions_tree = model_tree.predict(features_for_tree_forest_valid)\n",
    "    result_F1 = f1_score(predictions_tree, target_for_tree_forest_valid)\n",
    "    if result_F1 > best_F1:\n",
    "        best_depth = depth\n",
    "        best_F1 = result_F1\n",
    "\n",
    "print('При глубине дерева:', best_depth)\n",
    "print('Достигнут лучший показатель F1:', best_F1)"
   ]
  },
  {
   "cell_type": "markdown",
   "metadata": {},
   "source": [
    "Показатель F1 упал с 0.5863 до 0.5831 (по сравнению с дисбалансом классов)"
   ]
  },
  {
   "cell_type": "markdown",
   "metadata": {},
   "source": [
    "**Случайный лес:**"
   ]
  },
  {
   "cell_type": "code",
   "execution_count": 25,
   "metadata": {},
   "outputs": [
    {
     "name": "stdout",
     "output_type": "stream",
     "text": [
      "При кол-ве деревьев: 31\n",
      "Достигнут лучший показатель F1: 0.5986842105263158\n",
      "Wall time: 1min 16s\n"
     ]
    }
   ],
   "source": [
    "%%time\n",
    "\n",
    "best_estimators = 0\n",
    "best_F1 = 0\n",
    "for est in range(1, 150):\n",
    "    model_forest = RandomForestClassifier(random_state=12345, n_estimators=est, class_weight='balanced')\n",
    "    model_forest.fit(features_for_tree_forest_train, target_for_tree_forest_train)\n",
    "    predictions_forest = model_forest.predict(features_for_tree_forest_valid)\n",
    "    result_F1 = f1_score(predictions_forest, target_for_tree_forest_valid)\n",
    "    if result_F1 > best_F1:\n",
    "        best_estimators = est\n",
    "        best_F1 = result_F1\n",
    "\n",
    "print('При кол-ве деревьев:', best_estimators)\n",
    "print('Достигнут лучший показатель F1:', best_F1)"
   ]
  },
  {
   "cell_type": "markdown",
   "metadata": {},
   "source": [
    "Показатель F1 вырос с 0.6036 до 0.6037 (по сравнению с дисбалансом классов)"
   ]
  },
  {
   "cell_type": "markdown",
   "metadata": {},
   "source": [
    "**Итоги при взвешивании классов (по сравнению с дисбалансом классов):**\n",
    "- Логистическая регрессия - показатель F1 **вырос** с 0.3307 до 0.5065\n",
    "- Решающее дерево - показатель F1 **упал** с 0.5863 до 0.5831 \n",
    "- Случайный лес - показатель F1 **вырос** с 0.6036 до 0.6037"
   ]
  },
  {
   "cell_type": "markdown",
   "metadata": {},
   "source": [
    "**Построим ROC-кривую для каждой модели и отобразим показатель AUC-ROC:**"
   ]
  },
  {
   "cell_type": "code",
   "execution_count": 26,
   "metadata": {
    "scrolled": false
   },
   "outputs": [
    {
     "name": "stdout",
     "output_type": "stream",
     "text": [
      "AUC-ROC LogisticRegression 0.790763304317698\n",
      "AUC-ROC DecisionTreeClassifier 0.8355133867449523\n",
      "AUC-ROC RandomForestClassifier 0.8711005388972816\n",
      "Wall time: 717 ms\n"
     ]
    },
    {
     "data": {
      "text/plain": [
       "Text(0, 0.5, 'TP - истинно положительные')"
      ]
     },
     "execution_count": 26,
     "metadata": {},
     "output_type": "execute_result"
    },
    {
     "data": {
      "image/png": "[encoded data removed]",
      "text/plain": [
       "<Figure size 1200x900 with 1 Axes>"
      ]
     },
     "metadata": {},
     "output_type": "display_data"
    }
   ],
   "source": [
    "%%time\n",
    "\n",
    "plt.figure(figsize=[12,9])\n",
    "plt.plot([0, 1], [0, 1], linestyle='--', label='RandomModel')\n",
    "\n",
    "model_log_reg_cw = LogisticRegression(random_state=12345, solver='liblinear', class_weight='balanced')\n",
    "model_log_reg_cw.fit(features_for_log_reg_train, target_for_log_reg_train)\n",
    "predictions_log_reg_cw = model_log_reg_cw.predict_proba(features_for_log_reg_valid)\n",
    "predictions_one_log_reg_cw = predictions_log_reg_cw[:, 1]\n",
    "fpr, tpr, thresholds = roc_curve(target_for_log_reg_valid, predictions_one_log_reg_cw)\n",
    "auc_roc = roc_auc_score(target_for_log_reg_valid, predictions_one_log_reg_cw)\n",
    "print('AUC-ROC LogisticRegression', auc_roc)\n",
    "plt.plot(fpr, tpr, label='LogisticRegression')\n",
    "\n",
    "model_tree_cw = DecisionTreeClassifier(random_state=12345, max_depth=6, class_weight='balanced')\n",
    "model_tree_cw.fit(features_for_tree_forest_train, target_for_tree_forest_train)\n",
    "predictions_tree_cw = model_tree_cw.predict_proba(features_for_tree_forest_valid)\n",
    "predictions_one_tree_cw = predictions_tree_cw[:, 1]\n",
    "fpr, tpr, thresholds = roc_curve(target_for_tree_forest_valid, predictions_one_tree_cw)\n",
    "auc_roc = roc_auc_score(target_for_tree_forest_valid, predictions_one_tree_cw)\n",
    "print('AUC-ROC DecisionTreeClassifier', auc_roc)\n",
    "plt.plot(fpr, tpr, label='DecisionTreeClassifier')\n",
    "\n",
    "model_forest_cw = RandomForestClassifier(random_state=12345, n_estimators=95, class_weight='balanced')\n",
    "model_forest_cw.fit(features_for_tree_forest_train, target_for_tree_forest_train)\n",
    "predictions_forest_cw = model_forest_cw.predict_proba(features_for_tree_forest_valid)\n",
    "predictions_one_forest = predictions_forest_cw[:, 1]\n",
    "fpr, tpr, thresholds = roc_curve(target_for_tree_forest_valid, predictions_one_forest)\n",
    "auc_roc = roc_auc_score(target_for_tree_forest_valid, predictions_one_forest)\n",
    "print('AUC-ROC RandomForestClassifier', auc_roc)\n",
    "plt.plot(fpr, tpr, label='RandomForestClassifier')\n",
    "\n",
    "plt.legend(loc='lower right', fontsize='x-large')\n",
    "plt.title('ROC-кривая')\n",
    "plt.xlabel('FP - ложно-положительные')\n",
    "plt.ylabel('TP - истинно положительные')"
   ]
  },
  {
   "cell_type": "markdown",
   "metadata": {},
   "source": [
    "### **Увеличение выборки:**"
   ]
  },
  {
   "cell_type": "markdown",
   "metadata": {},
   "source": [
    "**Для логистической регрессии:**"
   ]
  },
  {
   "cell_type": "code",
   "execution_count": 27,
   "metadata": {},
   "outputs": [],
   "source": [
    "def upsample_log_reg(features_for_log_reg, target_for_log_reg, repeat):\n",
    "    features_zeros = features_for_log_reg[target_for_log_reg == 0]\n",
    "    features_ones = features_for_log_reg[target_for_log_reg == 1]\n",
    "    target_zeros = target_for_log_reg[target_for_log_reg == 0]\n",
    "    target_ones = target_for_log_reg[target_for_log_reg == 1]\n",
    "\n",
    "    features_upsampled_log_reg = pd.concat([features_zeros] + [features_ones] * repeat)\n",
    "    target_upsampled_log_reg = pd.concat([target_zeros] + [target_ones] * repeat)\n",
    "    \n",
    "    features_upsampled_log_reg, target_upsampled_log_reg = shuffle(features_upsampled_log_reg, target_upsampled_log_reg, random_state=12345)\n",
    "    \n",
    "    return features_upsampled_log_reg, target_upsampled_log_reg"
   ]
  },
  {
   "cell_type": "code",
   "execution_count": 28,
   "metadata": {},
   "outputs": [],
   "source": [
    "features_upsampled_log_reg, target_upsampled_log_reg = upsample_log_reg(features_for_log_reg_train, target_for_log_reg_train, 4)"
   ]
  },
  {
   "cell_type": "code",
   "execution_count": 29,
   "metadata": {
    "scrolled": true
   },
   "outputs": [
    {
     "name": "stdout",
     "output_type": "stream",
     "text": [
      "1    4448\n",
      "0    4342\n",
      "Name: exited, dtype: int64\n"
     ]
    }
   ],
   "source": [
    "print(target_upsampled_log_reg.value_counts())"
   ]
  },
  {
   "cell_type": "markdown",
   "metadata": {},
   "source": [
    "**Для решающего дерева и случайного леса:**"
   ]
  },
  {
   "cell_type": "code",
   "execution_count": 30,
   "metadata": {},
   "outputs": [],
   "source": [
    "def upsample_tree_forest(features_for_tree_forest, target_for_tree_forest, repeat):\n",
    "    features_zeros = features_for_tree_forest[target_for_tree_forest == 0]\n",
    "    features_ones = features_for_tree_forest[target_for_tree_forest == 1]\n",
    "    target_zeros = target_for_tree_forest[target_for_tree_forest == 0]\n",
    "    target_ones = target_for_tree_forest[target_for_tree_forest == 1]\n",
    "\n",
    "    features_upsampled_tree_forest = pd.concat([features_zeros] + [features_ones] * repeat)\n",
    "    target_upsampled_tree_forest = pd.concat([target_zeros] + [target_ones] * repeat)\n",
    "    \n",
    "    features_upsampled_tree_forest, target_upsampled_tree_forest = shuffle(features_upsampled_tree_forest, target_upsampled_tree_forest, random_state=12345)\n",
    "    \n",
    "    return features_upsampled_tree_forest, target_upsampled_tree_forest"
   ]
  },
  {
   "cell_type": "code",
   "execution_count": 31,
   "metadata": {},
   "outputs": [],
   "source": [
    "features_upsampled_tree_forest, target_upsampled_tree_forest = upsample_tree_forest(features_for_tree_forest_train, target_for_tree_forest_train, 4)"
   ]
  },
  {
   "cell_type": "code",
   "execution_count": 32,
   "metadata": {
    "scrolled": true
   },
   "outputs": [
    {
     "name": "stdout",
     "output_type": "stream",
     "text": [
      "1    4448\n",
      "0    4342\n",
      "Name: exited, dtype: int64\n"
     ]
    }
   ],
   "source": [
    "print(target_upsampled_tree_forest.value_counts())"
   ]
  },
  {
   "cell_type": "markdown",
   "metadata": {},
   "source": [
    "**Логистическая регрессия:**"
   ]
  },
  {
   "cell_type": "code",
   "execution_count": 33,
   "metadata": {
    "scrolled": false
   },
   "outputs": [
    {
     "name": "stdout",
     "output_type": "stream",
     "text": [
      "F1: 0.5050878815911193\n",
      "Wall time: 17.2 ms\n"
     ]
    }
   ],
   "source": [
    "%%time\n",
    "\n",
    "model_log_reg_ups = LogisticRegression(random_state=12345, solver='liblinear')\n",
    "model_log_reg_ups.fit(features_upsampled_log_reg, target_upsampled_log_reg)\n",
    "predictions_log_reg_ups = model_log_reg_ups.predict(features_for_log_reg_valid)\n",
    "print('F1:', f1_score(predictions_log_reg_ups, target_for_log_reg_valid))"
   ]
  },
  {
   "cell_type": "markdown",
   "metadata": {},
   "source": [
    "Показатель F1 упал с 0.5065 до 0.5051 (по сравнению с взвешиванием классов)."
   ]
  },
  {
   "cell_type": "markdown",
   "metadata": {},
   "source": [
    "**Решающее дерево:**"
   ]
  },
  {
   "cell_type": "code",
   "execution_count": 34,
   "metadata": {},
   "outputs": [
    {
     "name": "stdout",
     "output_type": "stream",
     "text": [
      "При глубине дерева: 6\n",
      "Достигнут лучший показатель F1: 0.5825049701789264\n",
      "Wall time: 1.65 s\n"
     ]
    }
   ],
   "source": [
    "%%time\n",
    "\n",
    "best_depth = 0\n",
    "best_F1 = 0\n",
    "for depth in range(1, 51):\n",
    "    model_tree = DecisionTreeClassifier(random_state=12345, max_depth=depth)\n",
    "    model_tree.fit(features_upsampled_tree_forest, target_upsampled_tree_forest)\n",
    "    predictions_tree = model_tree.predict(features_for_tree_forest_valid)\n",
    "    result_F1 = f1_score(predictions_tree, target_for_tree_forest_valid)\n",
    "    if result_F1 > best_F1:\n",
    "        best_depth = depth\n",
    "        best_F1 = result_F1\n",
    "\n",
    "print('При глубине дерева:', best_depth)\n",
    "print('Достигнут лучший показатель F1:', best_F1)"
   ]
  },
  {
   "cell_type": "markdown",
   "metadata": {},
   "source": [
    "Показатель F1 упал с 0.5831 до 0.5825 (по сравнению с взвешиванием классов)."
   ]
  },
  {
   "cell_type": "markdown",
   "metadata": {},
   "source": [
    "**Случайный лес:**"
   ]
  },
  {
   "cell_type": "code",
   "execution_count": 35,
   "metadata": {},
   "outputs": [
    {
     "name": "stdout",
     "output_type": "stream",
     "text": [
      "При кол-ве деревьев: 97\n",
      "Достигнут лучший показатель F1: 0.6308139534883721\n",
      "Wall time: 1min 47s\n"
     ]
    }
   ],
   "source": [
    "%%time\n",
    "\n",
    "best_estimators = 0\n",
    "best_F1 = 0\n",
    "for est in range(1, 150, 1):\n",
    "    model_forest = RandomForestClassifier(random_state=12345, n_estimators=est)\n",
    "    model_forest.fit(features_upsampled_tree_forest, target_upsampled_tree_forest)\n",
    "    predictions_forest = model_forest.predict(features_for_tree_forest_valid)\n",
    "    result_F1 = f1_score(predictions_forest, target_for_tree_forest_valid)\n",
    "    if result_F1 > best_F1:\n",
    "        best_estimators = est\n",
    "        best_F1 = result_F1\n",
    "\n",
    "print('При кол-ве деревьев:', best_estimators)\n",
    "print('Достигнут лучший показатель F1:', best_F1)"
   ]
  },
  {
   "cell_type": "markdown",
   "metadata": {},
   "source": [
    "Показатель F1 вырос с 0.6037 до 0.6308 (по сравнению с взвешиванием классов)."
   ]
  },
  {
   "cell_type": "markdown",
   "metadata": {},
   "source": [
    "**Итоги при увеличении выборки (по сравнению с взвешиванием классов):**\n",
    "- Логистическая регрессия - показатель F1 **упал** с 0.5065 до 0.5051\n",
    "- Решающее дерево - показатель F1 **упал** с 0.5831 до 0.5825\n",
    "- Случайный лес - показатель F1 **вырос** с 0.6037 до 0.6308"
   ]
  },
  {
   "cell_type": "markdown",
   "metadata": {},
   "source": [
    "**Построим ROC-кривую для каждой модели и отобразим показатель AUC-ROC:**"
   ]
  },
  {
   "cell_type": "code",
   "execution_count": 36,
   "metadata": {
    "scrolled": false
   },
   "outputs": [
    {
     "name": "stdout",
     "output_type": "stream",
     "text": [
      "AUC-ROC LogisticRegression 0.790767029843323\n",
      "AUC-ROC DecisionTreeClassifier 0.8348502431836852\n",
      "AUC-ROC RandomForestClassifier 0.845276126645518\n",
      "Wall time: 217 ms\n"
     ]
    },
    {
     "data": {
      "text/plain": [
       "Text(0, 0.5, 'TP - истинно положительные')"
      ]
     },
     "execution_count": 36,
     "metadata": {},
     "output_type": "execute_result"
    },
    {
     "data": {
      "image/png": "[encoded data removed]",
      "text/plain": [
       "<Figure size 1200x900 with 1 Axes>"
      ]
     },
     "metadata": {},
     "output_type": "display_data"
    }
   ],
   "source": [
    "%%time\n",
    "\n",
    "plt.figure(figsize=[12,9])\n",
    "plt.plot([0, 1], [0, 1], linestyle='--', label='RandomModel')\n",
    "\n",
    "model_log_reg_ups = LogisticRegression(random_state=12345, solver='liblinear')\n",
    "model_log_reg_ups.fit(features_upsampled_log_reg, target_upsampled_log_reg)\n",
    "predictions_log_reg_ups = model_log_reg_ups.predict_proba(features_for_log_reg_valid)\n",
    "predictions_one_log_reg_ups = predictions_log_reg_ups[:, 1]\n",
    "fpr, tpr, thresholds = roc_curve(target_for_log_reg_valid, predictions_one_log_reg_ups)\n",
    "auc_roc = roc_auc_score(target_for_log_reg_valid, predictions_one_log_reg_ups)\n",
    "print('AUC-ROC LogisticRegression', auc_roc)\n",
    "plt.plot(fpr, tpr, label='LogisticRegression')\n",
    "\n",
    "model_tree_ups = DecisionTreeClassifier(random_state=12345, max_depth=6)\n",
    "model_tree_ups.fit(features_upsampled_tree_forest, target_upsampled_tree_forest)\n",
    "predictions_tree_ups = model_tree_ups.predict_proba(features_for_tree_forest_valid)\n",
    "predictions_one_tree_ups = predictions_tree_ups[:, 1]\n",
    "fpr, tpr, thresholds = roc_curve(target_for_tree_forest_valid, predictions_one_tree_ups)\n",
    "auc_roc = roc_auc_score(target_for_tree_forest_valid, predictions_one_tree_ups)\n",
    "print('AUC-ROC DecisionTreeClassifier', auc_roc)\n",
    "plt.plot(fpr, tpr, label='DecisionTreeClassifier')\n",
    "\n",
    "model_forest_ups = RandomForestClassifier(random_state=12345, n_estimators=16)\n",
    "model_forest_ups.fit(features_upsampled_tree_forest, target_upsampled_tree_forest)\n",
    "predictions_forest_ups = model_forest_ups.predict_proba(features_for_tree_forest_valid)\n",
    "predictions_one_forest_ups = predictions_forest_ups[:, 1]\n",
    "fpr, tpr, thresholds = roc_curve(target_for_tree_forest_valid, predictions_one_forest_ups)\n",
    "auc_roc = roc_auc_score(target_for_tree_forest_valid, predictions_one_forest_ups)\n",
    "print('AUC-ROC RandomForestClassifier', auc_roc)\n",
    "plt.plot(fpr, tpr, label='RandomForestClassifier')\n",
    "\n",
    "plt.legend(loc='lower right', fontsize='x-large')\n",
    "plt.title('ROC-кривая')\n",
    "plt.xlabel('FP - ложно-положительные')\n",
    "plt.ylabel('TP - истинно положительные')"
   ]
  },
  {
   "cell_type": "markdown",
   "metadata": {},
   "source": [
    "### **Уменьшение выборки:**"
   ]
  },
  {
   "cell_type": "markdown",
   "metadata": {},
   "source": [
    "**Для логистической регрессии:**"
   ]
  },
  {
   "cell_type": "code",
   "execution_count": 37,
   "metadata": {},
   "outputs": [],
   "source": [
    "def downsample_log_reg(features_for_log_reg, target_for_log_reg, fraction):\n",
    "    features_zeros = features_for_log_reg[target_for_log_reg == 0]\n",
    "    features_ones = features_for_log_reg[target_for_log_reg == 1]\n",
    "    target_zeros = target_for_log_reg[target_for_log_reg == 0]\n",
    "    target_ones = target_for_log_reg[target_for_log_reg == 1]\n",
    "\n",
    "    features_downsampled_log_reg = pd.concat([features_zeros.sample(frac=fraction, random_state=12345)] + [features_ones])\n",
    "    target_downsampled_log_reg = pd.concat([target_zeros.sample(frac=fraction, random_state=12345)] + [target_ones])\n",
    "    \n",
    "    features_downsampled_log_reg, target_downsampled_log_reg = shuffle(features_downsampled_log_reg, target_downsampled_log_reg, random_state=12345)\n",
    "    \n",
    "    return features_downsampled_log_reg, target_downsampled_log_reg"
   ]
  },
  {
   "cell_type": "code",
   "execution_count": 38,
   "metadata": {},
   "outputs": [],
   "source": [
    "features_downsampled_log_reg, target_downsampled_log_reg = downsample_log_reg(features_for_log_reg_train, target_for_log_reg_train, 0.25)"
   ]
  },
  {
   "cell_type": "code",
   "execution_count": 39,
   "metadata": {
    "scrolled": true
   },
   "outputs": [
    {
     "name": "stdout",
     "output_type": "stream",
     "text": [
      "1    1112\n",
      "0    1086\n",
      "Name: exited, dtype: int64\n"
     ]
    }
   ],
   "source": [
    "print(target_downsampled_log_reg.value_counts())"
   ]
  },
  {
   "cell_type": "markdown",
   "metadata": {},
   "source": [
    "**Для решающего дерева и случайного леса:**"
   ]
  },
  {
   "cell_type": "code",
   "execution_count": 40,
   "metadata": {},
   "outputs": [],
   "source": [
    "def downsample_tree_forest(features_for_tree_forest, target_for_tree_forest, fraction):\n",
    "    features_zeros = features_for_tree_forest[target_for_tree_forest == 0]\n",
    "    features_ones = features_for_tree_forest[target_for_tree_forest == 1]\n",
    "    target_zeros = target_for_tree_forest[target_for_tree_forest == 0]\n",
    "    target_ones = target_for_tree_forest[target_for_tree_forest == 1]\n",
    "\n",
    "    features_downsampled_tree_forest = pd.concat([features_zeros.sample(frac=fraction, random_state=12345)] + [features_ones])\n",
    "    target_downsampled_tree_forest = pd.concat([target_zeros.sample(frac=fraction, random_state=12345)] + [target_ones])\n",
    "    \n",
    "    features_downsampled_tree_forest, target_downsampled_tree_forest = shuffle(features_downsampled_tree_forest, target_downsampled_tree_forest, random_state=12345)\n",
    "    \n",
    "    return features_downsampled_tree_forest, target_downsampled_tree_forest"
   ]
  },
  {
   "cell_type": "code",
   "execution_count": 41,
   "metadata": {},
   "outputs": [],
   "source": [
    "features_downsampled_tree_forest, target_downsampled_tree_forest = downsample_tree_forest(features_for_tree_forest_train, target_for_tree_forest_train, 0.25)"
   ]
  },
  {
   "cell_type": "code",
   "execution_count": 42,
   "metadata": {
    "scrolled": true
   },
   "outputs": [
    {
     "name": "stdout",
     "output_type": "stream",
     "text": [
      "1    1112\n",
      "0    1086\n",
      "Name: exited, dtype: int64\n"
     ]
    }
   ],
   "source": [
    "print(target_downsampled_tree_forest.value_counts())"
   ]
  },
  {
   "cell_type": "markdown",
   "metadata": {},
   "source": [
    "**Логистическая регрессия:**"
   ]
  },
  {
   "cell_type": "code",
   "execution_count": 43,
   "metadata": {
    "scrolled": false
   },
   "outputs": [
    {
     "name": "stdout",
     "output_type": "stream",
     "text": [
      "F1: 0.5096596136154553\n",
      "Wall time: 7.85 ms\n"
     ]
    }
   ],
   "source": [
    "%%time\n",
    "\n",
    "model_log_reg_downs = LogisticRegression(random_state=12345, solver='liblinear')\n",
    "model_log_reg_downs.fit(features_downsampled_log_reg, target_downsampled_log_reg)\n",
    "predictions_log_reg_downs = model_log_reg_downs.predict(features_for_log_reg_valid)\n",
    "print('F1:', f1_score(predictions_log_reg_downs, target_for_log_reg_valid))"
   ]
  },
  {
   "cell_type": "markdown",
   "metadata": {},
   "source": [
    "Показатель F1 вырос с 0.5051 до 0.5096 (по сравнению с увеличением классов)."
   ]
  },
  {
   "cell_type": "markdown",
   "metadata": {},
   "source": [
    "**Решающее дерево:**"
   ]
  },
  {
   "cell_type": "code",
   "execution_count": 44,
   "metadata": {},
   "outputs": [
    {
     "name": "stdout",
     "output_type": "stream",
     "text": [
      "При глубине дерева: 6\n",
      "Достигнут лучший показатель F1: 0.5659617321248741\n",
      "Wall time: 551 ms\n"
     ]
    }
   ],
   "source": [
    "%%time\n",
    "\n",
    "best_depth = 0\n",
    "best_F1 = 0\n",
    "for depth in range(1, 51):\n",
    "    model_tree = DecisionTreeClassifier(random_state=12345, max_depth=depth)\n",
    "    model_tree.fit(features_downsampled_tree_forest, target_downsampled_tree_forest)\n",
    "    predictions_tree = model_tree.predict(features_for_tree_forest_valid)\n",
    "    result_F1 = f1_score(predictions_tree, target_for_tree_forest_valid)\n",
    "    if result_F1 > best_F1:\n",
    "        best_depth = depth\n",
    "        best_F1 = result_F1\n",
    "\n",
    "print('При глубине дерева:', best_depth)\n",
    "print('Достигнут лучший показатель F1:', best_F1)"
   ]
  },
  {
   "cell_type": "markdown",
   "metadata": {},
   "source": [
    "Показатель F1 упал с 0.5825 до 0.5660 (по сравнению с увеличением классов)."
   ]
  },
  {
   "cell_type": "markdown",
   "metadata": {},
   "source": [
    "**Случайный лес:**"
   ]
  },
  {
   "cell_type": "code",
   "execution_count": 45,
   "metadata": {},
   "outputs": [
    {
     "name": "stdout",
     "output_type": "stream",
     "text": [
      "При кол-ве деревьев: 32\n",
      "Достигнут лучший показатель F1: 0.6111111111111112\n",
      "Wall time: 41.1 s\n"
     ]
    }
   ],
   "source": [
    "%%time\n",
    "\n",
    "best_estimators = 0\n",
    "best_F1 = 0\n",
    "for est in range(1, 151, 1):\n",
    "    model_forest = RandomForestClassifier(random_state=12345, n_estimators=est)\n",
    "    model_forest.fit(features_downsampled_tree_forest, target_downsampled_tree_forest)\n",
    "    predictions_forest = model_forest.predict(features_for_tree_forest_valid)\n",
    "    result_F1 = f1_score(predictions_forest, target_for_tree_forest_valid)\n",
    "    if result_F1 > best_F1:\n",
    "        best_estimators = est\n",
    "        best_F1 = result_F1\n",
    "\n",
    "print('При кол-ве деревьев:', best_estimators)\n",
    "print('Достигнут лучший показатель F1:', best_F1)"
   ]
  },
  {
   "cell_type": "markdown",
   "metadata": {},
   "source": [
    "Показатель F1 упал с 0.6308 до 0.6111 (по сравнению с увеличением классов)."
   ]
  },
  {
   "cell_type": "markdown",
   "metadata": {},
   "source": [
    "**Итоги при уменьшении выборки (по сравнению с увеличением классов):**\n",
    "- Логистическая регрессия - показатель F1 **вырос** с 0.5051 до 0.5096\n",
    "- Решающее дерево - показатель F1 **упал** с 0.5825 до 0.5660 \n",
    "- Случайный лес - показатель F1 **упал** с 0.6308 до 0.6111"
   ]
  },
  {
   "cell_type": "markdown",
   "metadata": {},
   "source": [
    "**Построим ROC-кривую для каждой модели и отобразим показатель AUC-ROC:**"
   ]
  },
  {
   "cell_type": "code",
   "execution_count": 46,
   "metadata": {
    "scrolled": false
   },
   "outputs": [
    {
     "name": "stdout",
     "output_type": "stream",
     "text": [
      "AUC-ROC LogisticRegression 0.7911153664892695\n",
      "AUC-ROC DecisionTreeClassifier 0.8405167676594572\n",
      "AUC-ROC RandomForestClassifier 0.8745736601612779\n",
      "Wall time: 383 ms\n"
     ]
    },
    {
     "data": {
      "text/plain": [
       "Text(0, 0.5, 'TP - истинно положительные')"
      ]
     },
     "execution_count": 46,
     "metadata": {},
     "output_type": "execute_result"
    },
    {
     "data": {
      "image/png": "[encoded data removed]",
      "text/plain": [
       "<Figure size 1200x900 with 1 Axes>"
      ]
     },
     "metadata": {},
     "output_type": "display_data"
    }
   ],
   "source": [
    "%%time\n",
    "\n",
    "plt.figure(figsize=[12,9])\n",
    "plt.plot([0, 1], [0, 1], linestyle='--', label='RandomModel')\n",
    "\n",
    "model_log_reg_downs = LogisticRegression(random_state=12345, solver='liblinear')\n",
    "model_log_reg_downs.fit(features_downsampled_log_reg, target_downsampled_log_reg)\n",
    "predictions_log_reg_downs = model_log_reg_downs.predict_proba(features_for_log_reg_valid)\n",
    "predictions_one_log_reg_downs = predictions_log_reg_downs[:, 1]\n",
    "fpr, tpr, thresholds = roc_curve(target_for_log_reg_valid, predictions_one_log_reg_downs)\n",
    "auc_roc = roc_auc_score(target_for_log_reg_valid, predictions_one_log_reg_downs)\n",
    "print('AUC-ROC LogisticRegression', auc_roc)\n",
    "plt.plot(fpr, tpr, label='LogisticRegression')\n",
    "\n",
    "model_tree_downs = DecisionTreeClassifier(random_state=12345, max_depth=6)\n",
    "model_tree_downs.fit(features_downsampled_tree_forest, target_downsampled_tree_forest)\n",
    "predictions_tree_downs = model_tree_downs.predict_proba(features_for_tree_forest_valid)\n",
    "predictions_one_tree_downs = predictions_tree_downs[:, 1]\n",
    "fpr, tpr, thresholds = roc_curve(target_for_tree_forest_valid, predictions_one_tree_downs)\n",
    "auc_roc = roc_auc_score(target_for_tree_forest_valid, predictions_one_tree_downs)\n",
    "print('AUC-ROC DecisionTreeClassifier', auc_roc)\n",
    "plt.plot(fpr, tpr, label='DecisionTreeClassifier')\n",
    "\n",
    "model_forest_downs = RandomForestClassifier(random_state=12345, n_estimators=96)\n",
    "model_forest_downs.fit(features_downsampled_tree_forest, target_downsampled_tree_forest)\n",
    "predictions_forest_downs = model_forest_downs.predict_proba(features_for_tree_forest_valid)\n",
    "predictions_one_forest_downs = predictions_forest_downs[:, 1]\n",
    "fpr, tpr, thresholds = roc_curve(target_for_tree_forest_valid, predictions_one_forest_downs)\n",
    "auc_roc = roc_auc_score(target_for_tree_forest_valid, predictions_one_forest_downs)\n",
    "print('AUC-ROC RandomForestClassifier', auc_roc)\n",
    "plt.plot(fpr, tpr, label='RandomForestClassifier')\n",
    "\n",
    "plt.legend(loc='lower right', fontsize='x-large')\n",
    "plt.title('ROC-кривая')\n",
    "plt.xlabel('FP - ложно-положительные')\n",
    "plt.ylabel('TP - истинно положительные')"
   ]
  },
  {
   "cell_type": "markdown",
   "metadata": {},
   "source": [
    "### **Вывод:**"
   ]
  },
  {
   "cell_type": "markdown",
   "metadata": {},
   "source": [
    "**При дисбалансе** классов лучший показатель F1 у случайного леса: 0.6036  \n",
    "**При взвешивании** классов лучший показатель F1 у случайного леса: 0.6037  \n",
    "**При увеличении** классов лучший показатель F1 у случайного леса: 0.6308  \n",
    "**При уменьшении** классов лучший показатель F1 у случайного леса: 0.6111  "
   ]
  },
  {
   "cell_type": "markdown",
   "metadata": {},
   "source": [
    "Таким образом, лучший показатель F1 достигнут у модели случайного леса, при увеличении классов."
   ]
  },
  {
   "cell_type": "markdown",
   "metadata": {},
   "source": [
    "### **Подбор гиперпараметров:**"
   ]
  },
  {
   "cell_type": "markdown",
   "metadata": {},
   "source": [
    "Ранее установлено, что наилучший показатель F1 при параметре **'n_estimators' равном '97'** достиг: 0.6308139534883721:"
   ]
  },
  {
   "cell_type": "code",
   "execution_count": 47,
   "metadata": {},
   "outputs": [
    {
     "name": "stdout",
     "output_type": "stream",
     "text": [
      "При кол-ве деревьев: 97\n",
      "Достигнут лучший показатель F1: 0.6308139534883721\n",
      "Wall time: 1min 52s\n"
     ]
    }
   ],
   "source": [
    "%%time\n",
    "\n",
    "best_estimators = 0\n",
    "best_F1 = 0\n",
    "for est in range(1, 150, 1):\n",
    "    model_forest = RandomForestClassifier(random_state=12345, n_estimators=est)\n",
    "    model_forest.fit(features_upsampled_tree_forest, target_upsampled_tree_forest)\n",
    "    predictions_forest = model_forest.predict(features_for_tree_forest_valid)\n",
    "    result_F1 = f1_score(predictions_forest, target_for_tree_forest_valid)\n",
    "    if result_F1 > best_F1:\n",
    "        best_estimators = est\n",
    "        best_F1 = result_F1\n",
    "\n",
    "print('При кол-ве деревьев:', best_estimators)\n",
    "print('Достигнут лучший показатель F1:', best_F1)"
   ]
  },
  {
   "cell_type": "markdown",
   "metadata": {},
   "source": [
    "Смена гиперпараметра **'criterion' на 'entropy'** привела к увеличению показателя F1 (сменив параметр n_estimators с '97' на '33'), который состаил: 0.6494992846924178"
   ]
  },
  {
   "cell_type": "code",
   "execution_count": 48,
   "metadata": {},
   "outputs": [
    {
     "name": "stdout",
     "output_type": "stream",
     "text": [
      "При режиме criterion=\"entropy\"\n",
      "При параметре n_estimators, равном: 33\n",
      "Достигнут максимальный показатель F1: 0.6494992846924178\n"
     ]
    }
   ],
   "source": [
    "best_F1 = 0\n",
    "best_est = 0\n",
    "for est in range(1, 150):\n",
    "    model = RandomForestClassifier(random_state=12345, n_estimators=est, criterion='entropy')\n",
    "    model.fit(features_upsampled_tree_forest, target_upsampled_tree_forest)\n",
    "    predicted_valid = model.predict(features_for_tree_forest_valid)\n",
    "    f1 = f1_score(predicted_valid, target_for_tree_forest_valid)\n",
    "    if f1 > best_F1:\n",
    "        best_est = est\n",
    "        best_F1 = f1\n",
    "\n",
    "print('При режиме criterion=\"entropy\"')\n",
    "print('При параметре n_estimators, равном:', best_est)\n",
    "print('Достигнут максимальный показатель F1:', best_F1)"
   ]
  },
  {
   "cell_type": "markdown",
   "metadata": {},
   "source": [
    "Смена гиперпараметра **'min_samples_split'** привела к увеличению показателя F1 (сменив параметр n_estimators с '33' на '149'), который достиг: 0.6553524804177546"
   ]
  },
  {
   "cell_type": "code",
   "execution_count": 49,
   "metadata": {
    "scrolled": true
   },
   "outputs": [
    {
     "name": "stdout",
     "output_type": "stream",
     "text": [
      "При параметре samples_split, равном: 16\n",
      "При параметре n_estimators, равном: 149\n",
      "Достигнут максимальный показатель F1: 0.6553524804177546\n"
     ]
    }
   ],
   "source": [
    "best_F1 = 0\n",
    "best_split = 0\n",
    "best_est = 0\n",
    "for samples_split in range(2, 51):\n",
    "    model = RandomForestClassifier(random_state=12345, n_estimators=est, criterion='entropy', min_samples_split=samples_split)\n",
    "    model.fit(features_upsampled_tree_forest, target_upsampled_tree_forest)\n",
    "    predicted_valid = model.predict(features_for_tree_forest_valid)\n",
    "    f1 = f1_score(predicted_valid, target_for_tree_forest_valid)\n",
    "    if f1 > best_F1:\n",
    "        best_split = samples_split\n",
    "        best_F1 = f1\n",
    "        best_est = est\n",
    "        \n",
    "print('При параметре samples_split, равном:', best_split)\n",
    "print('При параметре n_estimators, равном:', best_est)\n",
    "print('Достигнут максимальный показатель F1:', best_F1)"
   ]
  },
  {
   "cell_type": "markdown",
   "metadata": {},
   "source": [
    "Смена гиперпараметра **'min_samples_leaf'** привела к уменьшению показателя F1:"
   ]
  },
  {
   "cell_type": "code",
   "execution_count": 50,
   "metadata": {},
   "outputs": [
    {
     "name": "stdout",
     "output_type": "stream",
     "text": [
      "При параметре samples_leaf, равном: 5\n",
      "Достигнут максимальный показатель F1: 0.6427745664739885\n"
     ]
    }
   ],
   "source": [
    "best_F1 = 0\n",
    "best_leaf = 0\n",
    "for samples_leaf in range(1, 51):\n",
    "    model =  RandomForestClassifier(random_state=12345, n_estimators=est, criterion='entropy', min_samples_split=samples_split, min_samples_leaf=samples_leaf)\n",
    "    model.fit(features_upsampled_tree_forest, target_upsampled_tree_forest)\n",
    "    predicted_valid = model.predict(features_for_tree_forest_valid)\n",
    "    f1 = f1_score(predicted_valid, target_for_tree_forest_valid)\n",
    "    if f1 > best_F1:\n",
    "        best_leaf = samples_leaf\n",
    "        best_F1 = f1\n",
    "                    \n",
    "print('При параметре samples_leaf, равном:', best_leaf)\n",
    "print('Достигнут максимальный показатель F1:', best_F1)"
   ]
  },
  {
   "cell_type": "markdown",
   "metadata": {},
   "source": [
    "## Тестирование модели"
   ]
  },
  {
   "cell_type": "code",
   "execution_count": 51,
   "metadata": {
    "scrolled": true
   },
   "outputs": [
    {
     "name": "stdout",
     "output_type": "stream",
     "text": [
      "Показатель F1 на тестовой выборке: 0.6032608695652175\n"
     ]
    }
   ],
   "source": [
    "model_forest_ups_test =  RandomForestClassifier(random_state=12345, n_estimators=149, min_samples_split=13)\n",
    "model_forest_ups_test.fit(features_upsampled_tree_forest, target_upsampled_tree_forest)\n",
    "predicted_forest_ups_test =model_forest_ups_test.predict(features_for_tree_forest_test)\n",
    "f1 = f1_score(predicted_forest_ups_test, target_for_tree_forest_test)\n",
    "print('Показатель F1 на тестовой выборке:', f1)"
   ]
  },
  {
   "cell_type": "markdown",
   "metadata": {},
   "source": [
    "**Построим ROC-кривую для полученной модели и отобразим показатель AUC-ROC:**"
   ]
  },
  {
   "cell_type": "code",
   "execution_count": 52,
   "metadata": {
    "scrolled": false
   },
   "outputs": [
    {
     "name": "stdout",
     "output_type": "stream",
     "text": [
      "AUC-ROC RandomForestClassifier 0.8465808401959762\n",
      "Wall time: 1.34 s\n"
     ]
    },
    {
     "data": {
      "text/plain": [
       "Text(0, 0.5, 'TP - истинно положительные')"
      ]
     },
     "execution_count": 52,
     "metadata": {},
     "output_type": "execute_result"
    },
    {
     "data": {
      "image/png": "[encoded data removed]",
      "text/plain": [
       "<Figure size 1200x900 with 1 Axes>"
      ]
     },
     "metadata": {},
     "output_type": "display_data"
    }
   ],
   "source": [
    "%%time\n",
    "\n",
    "plt.figure(figsize=[12,9])\n",
    "plt.plot([0, 1], [0, 1], linestyle='--', label='RandomModel')\n",
    "\n",
    "model_forest_ups_test = RandomForestClassifier(random_state=12345, n_estimators=149, min_samples_split=13)\n",
    "model_forest_ups_test.fit(features_upsampled_tree_forest, target_upsampled_tree_forest)\n",
    "predicted_forest_ups_test = model_forest_ups_test.predict_proba(features_for_tree_forest_test)\n",
    "predictions_one_forest_ups_test = predicted_forest_ups_test[:, 1]\n",
    "fpr, tpr, thresholds = roc_curve(target_for_tree_forest_test, predictions_one_forest_ups_test)\n",
    "auc_roc = roc_auc_score(target_for_tree_forest_test, predictions_one_forest_ups_test)\n",
    "print('AUC-ROC RandomForestClassifier', auc_roc)\n",
    "plt.plot(fpr, tpr, label='RandomForestUpSampled')\n",
    "\n",
    "plt.legend(loc='lower right', fontsize='x-large')\n",
    "plt.title('ROC-кривая')\n",
    "plt.xlabel('FP - ложно-положительные')\n",
    "plt.ylabel('TP - истинно положительные')"
   ]
  },
  {
   "cell_type": "markdown",
   "metadata": {},
   "source": [
    "### **Вывод:**"
   ]
  },
  {
   "cell_type": "markdown",
   "metadata": {},
   "source": [
    "**При предобработке данных** установлены пропуски значений в столбце 'tenure' (менее 10%). Строки с пропусками значений удалены.  \n",
    "**Из данных исключены столбцы**, не оказывающие влияния на целевой признак: 'rownumber', 'customerid', 'surname'. Данные в указанных столбцах могли негативно отразиться на обучении модели, приведя к её переобучению.  \n",
    "**Весь объем данных разделен** на тренировочную, валидационную и тестовую выборки в соотношении 60/20/20.  \n",
    "**В исследовании используются следующие модели:**\n",
    "- 'Логистическая регрессия',\n",
    "- 'Случайный лес',\n",
    "- 'Решающее дерево'.  \n",
    "  \n",
    "**Выполнено масштабирование признаков** методом стандартизации данных - 'StandardScaler'.  \n",
    "**Выявлен дисбаланс классов** - 4:1 (отрицательных к положительным).  \n",
    "**Устранение дисбаланса классов** производилось поочередно тремя методами:\n",
    "- Взвешивание классов (class_weight).\n",
    "- Увеличение выборки (upsampling).\n",
    "- Уменьшение выборки (downsampling).\n",
    "\n",
    "**С помощью вышеуказанных моделей проведен расчет показателя F1:**\n",
    "- При дисбалансе классов лучший показатель F1 у случайного леса: 0.6036\n",
    "- При взвешивании классов лучший показатель F1 у случайного леса: 0.6037\n",
    "- При увеличении классов лучший показатель F1 у случайного леса: 0.6308\n",
    "- При уменьшении классов лучший показатель F1 у случайного леса: 0.6111\n",
    "\n",
    "**Проведен подбор гиперпараметров** модели случайного леса, достигнут максимальный показатель F1: 0.6553  \n",
    "**Выполнено тестирование модели** на тестовой выборке, показатель F1 составил: 0.6033\n",
    "  \n",
    "**В итоге, модель случайного леса** с увеличенной выборкой (увеличением количества класса '1') с гиперпараметрами:\n",
    "- n_estimators=149, \n",
    "- min_samples_split=13,  \n",
    "  \n",
    "достигла необходимого уровня F-меры на тестовых данных и составила 0.6032608695652175"
   ]
  }
 ],
 "metadata": {
  "ExecuteTimeLog": [
   {
    "duration": 1776,
    "start_time": "2023-01-29T12:16:30.522Z"
   },
   {
    "duration": 133,
    "start_time": "2023-01-29T12:16:47.441Z"
   },
   {
    "duration": 197,
    "start_time": "2023-01-29T12:16:58.639Z"
   },
   {
    "duration": 46,
    "start_time": "2023-01-29T12:17:05.853Z"
   },
   {
    "duration": 55,
    "start_time": "2023-01-29T12:17:20.382Z"
   },
   {
    "duration": 73,
    "start_time": "2023-01-29T12:17:30.625Z"
   },
   {
    "duration": 7,
    "start_time": "2023-01-29T12:30:09.277Z"
   },
   {
    "duration": 6,
    "start_time": "2023-01-29T12:31:06.039Z"
   },
   {
    "duration": 13,
    "start_time": "2023-01-29T12:31:17.532Z"
   },
   {
    "duration": 64,
    "start_time": "2023-01-29T13:39:37.427Z"
   },
   {
    "duration": 71,
    "start_time": "2023-01-29T13:42:32.466Z"
   },
   {
    "duration": 76,
    "start_time": "2023-01-29T13:42:45.484Z"
   },
   {
    "duration": 1451,
    "start_time": "2023-01-29T13:43:42.442Z"
   },
   {
    "duration": 78,
    "start_time": "2023-01-29T13:43:43.895Z"
   },
   {
    "duration": 6,
    "start_time": "2023-01-29T13:43:43.975Z"
   },
   {
    "duration": 46,
    "start_time": "2023-01-29T16:24:59.959Z"
   },
   {
    "duration": 8,
    "start_time": "2023-01-29T16:25:11.765Z"
   },
   {
    "duration": 2051,
    "start_time": "2023-01-29T16:25:17.487Z"
   },
   {
    "duration": 205,
    "start_time": "2023-01-29T16:25:21.044Z"
   },
   {
    "duration": 8,
    "start_time": "2023-01-29T16:25:28.563Z"
   },
   {
    "duration": 5,
    "start_time": "2023-01-29T16:25:31.169Z"
   },
   {
    "duration": 9,
    "start_time": "2023-01-29T16:25:38.684Z"
   },
   {
    "duration": 8,
    "start_time": "2023-01-29T16:26:56.782Z"
   },
   {
    "duration": 70,
    "start_time": "2023-01-29T16:28:11.440Z"
   },
   {
    "duration": 11,
    "start_time": "2023-01-29T16:28:15.802Z"
   },
   {
    "duration": 1330,
    "start_time": "2023-01-29T16:29:20.283Z"
   },
   {
    "duration": 210,
    "start_time": "2023-01-29T16:29:32.955Z"
   },
   {
    "duration": 209,
    "start_time": "2023-01-29T16:29:44.005Z"
   },
   {
    "duration": 1287,
    "start_time": "2023-01-29T16:29:47.475Z"
   },
   {
    "duration": 82,
    "start_time": "2023-01-29T16:29:48.765Z"
   },
   {
    "duration": 9,
    "start_time": "2023-01-29T16:29:48.849Z"
   },
   {
    "duration": 238,
    "start_time": "2023-01-29T16:29:48.861Z"
   },
   {
    "duration": 16,
    "start_time": "2023-01-29T16:29:49.102Z"
   },
   {
    "duration": 35,
    "start_time": "2023-01-29T16:29:49.120Z"
   },
   {
    "duration": 229,
    "start_time": "2023-01-29T16:29:49.157Z"
   },
   {
    "duration": 131,
    "start_time": "2023-01-29T16:30:05.656Z"
   },
   {
    "duration": 120,
    "start_time": "2023-01-29T16:30:11.931Z"
   },
   {
    "duration": 1335,
    "start_time": "2023-01-29T16:30:15.645Z"
   },
   {
    "duration": 62,
    "start_time": "2023-01-29T16:30:16.982Z"
   },
   {
    "duration": 6,
    "start_time": "2023-01-29T16:30:17.046Z"
   },
   {
    "duration": 135,
    "start_time": "2023-01-29T16:30:17.053Z"
   },
   {
    "duration": 9,
    "start_time": "2023-01-29T16:30:17.189Z"
   },
   {
    "duration": 15,
    "start_time": "2023-01-29T16:30:17.200Z"
   },
   {
    "duration": 154,
    "start_time": "2023-01-29T16:30:17.216Z"
   },
   {
    "duration": 1581,
    "start_time": "2023-01-30T09:14:35.222Z"
   },
   {
    "duration": 110,
    "start_time": "2023-01-30T09:14:36.805Z"
   },
   {
    "duration": 9,
    "start_time": "2023-01-30T09:14:36.917Z"
   },
   {
    "duration": 165,
    "start_time": "2023-01-30T09:14:36.928Z"
   },
   {
    "duration": 11,
    "start_time": "2023-01-30T09:14:37.096Z"
   },
   {
    "duration": 166,
    "start_time": "2023-01-30T09:14:37.109Z"
   },
   {
    "duration": 11,
    "start_time": "2023-01-30T09:14:37.277Z"
   },
   {
    "duration": 121,
    "start_time": "2023-01-30T09:51:13.815Z"
   },
   {
    "duration": 12,
    "start_time": "2023-01-30T09:51:53.216Z"
   },
   {
    "duration": 12,
    "start_time": "2023-01-30T09:52:07.711Z"
   },
   {
    "duration": 1488,
    "start_time": "2023-01-30T09:52:27.413Z"
   },
   {
    "duration": 82,
    "start_time": "2023-01-30T09:52:28.904Z"
   },
   {
    "duration": 10,
    "start_time": "2023-01-30T09:52:28.989Z"
   },
   {
    "duration": 185,
    "start_time": "2023-01-30T09:52:29.002Z"
   },
   {
    "duration": 10,
    "start_time": "2023-01-30T09:52:29.189Z"
   },
   {
    "duration": 164,
    "start_time": "2023-01-30T09:52:29.201Z"
   },
   {
    "duration": 12,
    "start_time": "2023-01-30T09:52:29.367Z"
   },
   {
    "duration": 143,
    "start_time": "2023-01-30T09:52:29.382Z"
   },
   {
    "duration": 10,
    "start_time": "2023-01-30T09:53:01.546Z"
   },
   {
    "duration": 1394,
    "start_time": "2023-01-30T09:53:11.272Z"
   },
   {
    "duration": 64,
    "start_time": "2023-01-30T09:53:12.668Z"
   },
   {
    "duration": 8,
    "start_time": "2023-01-30T09:53:12.734Z"
   },
   {
    "duration": 155,
    "start_time": "2023-01-30T09:53:12.745Z"
   },
   {
    "duration": 12,
    "start_time": "2023-01-30T09:53:12.902Z"
   },
   {
    "duration": 153,
    "start_time": "2023-01-30T09:53:12.916Z"
   },
   {
    "duration": 14,
    "start_time": "2023-01-30T09:53:13.071Z"
   },
   {
    "duration": 16,
    "start_time": "2023-01-30T09:53:13.087Z"
   },
   {
    "duration": 15,
    "start_time": "2023-01-30T09:53:57.212Z"
   },
   {
    "duration": 122,
    "start_time": "2023-01-30T09:54:01.032Z"
   },
   {
    "duration": 1427,
    "start_time": "2023-01-30T09:54:13.066Z"
   },
   {
    "duration": 63,
    "start_time": "2023-01-30T09:54:14.495Z"
   },
   {
    "duration": 7,
    "start_time": "2023-01-30T09:54:14.559Z"
   },
   {
    "duration": 158,
    "start_time": "2023-01-30T09:54:14.568Z"
   },
   {
    "duration": 19,
    "start_time": "2023-01-30T09:54:14.729Z"
   },
   {
    "duration": 163,
    "start_time": "2023-01-30T09:54:14.749Z"
   },
   {
    "duration": 12,
    "start_time": "2023-01-30T09:54:14.914Z"
   },
   {
    "duration": 24,
    "start_time": "2023-01-30T09:54:14.940Z"
   },
   {
    "duration": 127,
    "start_time": "2023-01-30T09:55:01.569Z"
   },
   {
    "duration": 1428,
    "start_time": "2023-01-30T09:55:05.605Z"
   },
   {
    "duration": 69,
    "start_time": "2023-01-30T09:55:07.035Z"
   },
   {
    "duration": 7,
    "start_time": "2023-01-30T09:55:07.106Z"
   },
   {
    "duration": 150,
    "start_time": "2023-01-30T09:55:07.115Z"
   },
   {
    "duration": 10,
    "start_time": "2023-01-30T09:55:07.267Z"
   },
   {
    "duration": 169,
    "start_time": "2023-01-30T09:55:07.279Z"
   },
   {
    "duration": 12,
    "start_time": "2023-01-30T09:55:07.450Z"
   },
   {
    "duration": 149,
    "start_time": "2023-01-30T09:55:07.464Z"
   },
   {
    "duration": 1491,
    "start_time": "2023-01-30T09:55:21.192Z"
   },
   {
    "duration": 63,
    "start_time": "2023-01-30T09:55:22.685Z"
   },
   {
    "duration": 7,
    "start_time": "2023-01-30T09:55:22.750Z"
   },
   {
    "duration": 164,
    "start_time": "2023-01-30T09:55:22.758Z"
   },
   {
    "duration": 19,
    "start_time": "2023-01-30T09:55:22.923Z"
   },
   {
    "duration": 142,
    "start_time": "2023-01-30T09:55:22.944Z"
   },
   {
    "duration": 12,
    "start_time": "2023-01-30T09:55:23.088Z"
   },
   {
    "duration": 41,
    "start_time": "2023-01-30T09:55:23.102Z"
   },
   {
    "duration": 5,
    "start_time": "2023-01-30T10:03:04.259Z"
   },
   {
    "duration": 14,
    "start_time": "2023-01-30T10:03:14.988Z"
   },
   {
    "duration": 1444,
    "start_time": "2023-01-30T10:04:20.382Z"
   },
   {
    "duration": 66,
    "start_time": "2023-01-30T10:04:21.830Z"
   },
   {
    "duration": 16,
    "start_time": "2023-01-30T10:04:21.898Z"
   },
   {
    "duration": 12,
    "start_time": "2023-01-30T10:04:21.917Z"
   },
   {
    "duration": 178,
    "start_time": "2023-01-30T10:04:21.931Z"
   },
   {
    "duration": 28,
    "start_time": "2023-01-30T10:04:22.112Z"
   },
   {
    "duration": 162,
    "start_time": "2023-01-30T10:04:22.144Z"
   },
   {
    "duration": 11,
    "start_time": "2023-01-30T10:04:22.308Z"
   },
   {
    "duration": 35,
    "start_time": "2023-01-30T10:04:22.321Z"
   },
   {
    "duration": 1801,
    "start_time": "2023-01-30T10:05:52.434Z"
   },
   {
    "duration": 2359,
    "start_time": "2023-01-30T10:06:01.427Z"
   },
   {
    "duration": 2118,
    "start_time": "2023-01-30T11:02:23.867Z"
   },
   {
    "duration": 2604,
    "start_time": "2023-01-30T11:02:30.130Z"
   },
   {
    "duration": 21,
    "start_time": "2023-01-30T12:00:47.449Z"
   },
   {
    "duration": 17,
    "start_time": "2023-01-30T12:01:10.421Z"
   },
   {
    "duration": 21,
    "start_time": "2023-01-30T12:01:21.887Z"
   },
   {
    "duration": 24,
    "start_time": "2023-01-30T12:04:06.937Z"
   },
   {
    "duration": 23,
    "start_time": "2023-01-30T12:05:55.022Z"
   },
   {
    "duration": 23,
    "start_time": "2023-01-30T12:06:05.412Z"
   },
   {
    "duration": 1468,
    "start_time": "2023-01-30T12:06:20.709Z"
   },
   {
    "duration": 62,
    "start_time": "2023-01-30T12:06:22.179Z"
   },
   {
    "duration": 20,
    "start_time": "2023-01-30T12:06:22.244Z"
   },
   {
    "duration": 8,
    "start_time": "2023-01-30T12:06:22.267Z"
   },
   {
    "duration": 166,
    "start_time": "2023-01-30T12:06:22.276Z"
   },
   {
    "duration": 16,
    "start_time": "2023-01-30T12:06:22.444Z"
   },
   {
    "duration": 164,
    "start_time": "2023-01-30T12:06:22.463Z"
   },
   {
    "duration": 12,
    "start_time": "2023-01-30T12:06:22.628Z"
   },
   {
    "duration": 2893,
    "start_time": "2023-01-30T12:06:22.641Z"
   },
   {
    "duration": 15,
    "start_time": "2023-01-30T12:06:25.539Z"
   },
   {
    "duration": 136,
    "start_time": "2023-01-30T12:06:25.556Z"
   },
   {
    "duration": 16,
    "start_time": "2023-01-30T12:06:43.530Z"
   },
   {
    "duration": 23,
    "start_time": "2023-01-30T12:06:48.073Z"
   },
   {
    "duration": 24,
    "start_time": "2023-01-30T12:07:04.390Z"
   },
   {
    "duration": 31,
    "start_time": "2023-01-30T12:08:41.613Z"
   },
   {
    "duration": 34,
    "start_time": "2023-01-30T12:17:40.426Z"
   },
   {
    "duration": 5,
    "start_time": "2023-01-30T12:22:25.798Z"
   },
   {
    "duration": 12,
    "start_time": "2023-01-30T12:33:12.468Z"
   },
   {
    "duration": 13,
    "start_time": "2023-01-30T12:44:42.544Z"
   },
   {
    "duration": 77,
    "start_time": "2023-01-30T12:49:44.604Z"
   },
   {
    "duration": 44,
    "start_time": "2023-01-30T12:50:39.563Z"
   },
   {
    "duration": 12,
    "start_time": "2023-01-30T12:59:00.663Z"
   },
   {
    "duration": 26,
    "start_time": "2023-01-30T12:59:12.193Z"
   },
   {
    "duration": 5,
    "start_time": "2023-01-30T12:59:20.261Z"
   },
   {
    "duration": 5,
    "start_time": "2023-01-30T12:59:23.720Z"
   },
   {
    "duration": 15,
    "start_time": "2023-01-30T13:08:39.223Z"
   },
   {
    "duration": 18,
    "start_time": "2023-01-30T13:08:54.671Z"
   },
   {
    "duration": 33,
    "start_time": "2023-01-30T13:09:25.935Z"
   },
   {
    "duration": 13,
    "start_time": "2023-01-30T13:09:28.166Z"
   },
   {
    "duration": 4,
    "start_time": "2023-01-30T13:09:51.128Z"
   },
   {
    "duration": 51,
    "start_time": "2023-01-30T13:11:29.570Z"
   },
   {
    "duration": 6,
    "start_time": "2023-01-30T13:12:03.401Z"
   },
   {
    "duration": 12,
    "start_time": "2023-01-30T13:12:05.396Z"
   },
   {
    "duration": 11,
    "start_time": "2023-01-30T13:12:35.816Z"
   },
   {
    "duration": 6,
    "start_time": "2023-01-30T13:12:37.786Z"
   },
   {
    "duration": 13,
    "start_time": "2023-01-30T13:12:50.505Z"
   },
   {
    "duration": 5,
    "start_time": "2023-01-30T13:12:56.691Z"
   },
   {
    "duration": 9,
    "start_time": "2023-01-30T13:13:19.225Z"
   },
   {
    "duration": 17,
    "start_time": "2023-01-30T13:26:06.368Z"
   },
   {
    "duration": 18,
    "start_time": "2023-01-30T13:26:08.967Z"
   },
   {
    "duration": 1524,
    "start_time": "2023-01-30T13:26:20.117Z"
   },
   {
    "duration": 97,
    "start_time": "2023-01-30T13:26:21.652Z"
   },
   {
    "duration": 18,
    "start_time": "2023-01-30T13:26:21.761Z"
   },
   {
    "duration": 9,
    "start_time": "2023-01-30T13:26:21.783Z"
   },
   {
    "duration": 193,
    "start_time": "2023-01-30T13:26:21.796Z"
   },
   {
    "duration": 11,
    "start_time": "2023-01-30T13:26:21.991Z"
   },
   {
    "duration": 176,
    "start_time": "2023-01-30T13:26:22.004Z"
   },
   {
    "duration": 18,
    "start_time": "2023-01-30T13:26:22.182Z"
   },
   {
    "duration": 3502,
    "start_time": "2023-01-30T13:26:22.202Z"
   },
   {
    "duration": 23,
    "start_time": "2023-01-30T13:26:25.706Z"
   },
   {
    "duration": 71,
    "start_time": "2023-01-30T13:26:25.745Z"
   },
   {
    "duration": 18,
    "start_time": "2023-01-30T13:26:25.819Z"
   },
   {
    "duration": 84,
    "start_time": "2023-01-30T13:26:25.839Z"
   },
   {
    "duration": 6,
    "start_time": "2023-01-30T13:26:25.927Z"
   },
   {
    "duration": 57,
    "start_time": "2023-01-30T13:26:25.934Z"
   },
   {
    "duration": 5,
    "start_time": "2023-01-30T13:26:25.993Z"
   },
   {
    "duration": 16,
    "start_time": "2023-01-30T13:26:26.000Z"
   },
   {
    "duration": 17,
    "start_time": "2023-01-30T13:26:26.018Z"
   },
   {
    "duration": 19,
    "start_time": "2023-01-30T13:26:26.038Z"
   },
   {
    "duration": 51,
    "start_time": "2023-01-30T13:29:05.625Z"
   },
   {
    "duration": 12,
    "start_time": "2023-01-30T13:29:30.917Z"
   },
   {
    "duration": 47,
    "start_time": "2023-01-30T13:29:48.869Z"
   },
   {
    "duration": 8,
    "start_time": "2023-01-30T13:36:00.009Z"
   },
   {
    "duration": 10,
    "start_time": "2023-01-30T13:36:01.776Z"
   },
   {
    "duration": 5,
    "start_time": "2023-01-30T13:38:49.673Z"
   },
   {
    "duration": 207,
    "start_time": "2023-01-30T13:50:04.117Z"
   },
   {
    "duration": 1554,
    "start_time": "2023-01-30T13:50:39.639Z"
   },
   {
    "duration": 1014,
    "start_time": "2023-01-30T13:50:48.760Z"
   },
   {
    "duration": 23,
    "start_time": "2023-01-30T13:50:59.256Z"
   },
   {
    "duration": 74,
    "start_time": "2023-01-30T13:51:28.462Z"
   },
   {
    "duration": 1838,
    "start_time": "2023-01-30T13:51:38.072Z"
   },
   {
    "duration": 94,
    "start_time": "2023-01-30T13:51:39.913Z"
   },
   {
    "duration": 20,
    "start_time": "2023-01-30T13:51:40.009Z"
   },
   {
    "duration": 43,
    "start_time": "2023-01-30T13:51:40.031Z"
   },
   {
    "duration": 221,
    "start_time": "2023-01-30T13:51:40.088Z"
   },
   {
    "duration": 10,
    "start_time": "2023-01-30T13:51:40.312Z"
   },
   {
    "duration": 245,
    "start_time": "2023-01-30T13:51:40.324Z"
   },
   {
    "duration": 20,
    "start_time": "2023-01-30T13:51:40.573Z"
   },
   {
    "duration": 3778,
    "start_time": "2023-01-30T13:51:40.595Z"
   },
   {
    "duration": 27,
    "start_time": "2023-01-30T13:51:44.380Z"
   },
   {
    "duration": 39,
    "start_time": "2023-01-30T13:51:44.409Z"
   },
   {
    "duration": 50,
    "start_time": "2023-01-30T13:51:44.450Z"
   },
   {
    "duration": 38,
    "start_time": "2023-01-30T13:51:44.506Z"
   },
   {
    "duration": 53,
    "start_time": "2023-01-30T13:51:44.546Z"
   },
   {
    "duration": 30,
    "start_time": "2023-01-30T13:51:44.601Z"
   },
   {
    "duration": 63,
    "start_time": "2023-01-30T13:51:44.633Z"
   },
   {
    "duration": 10,
    "start_time": "2023-01-30T13:51:44.697Z"
   },
   {
    "duration": 26,
    "start_time": "2023-01-30T13:51:44.708Z"
   },
   {
    "duration": 63,
    "start_time": "2023-01-30T13:51:44.736Z"
   },
   {
    "duration": 11,
    "start_time": "2023-01-30T13:51:44.801Z"
   },
   {
    "duration": 18,
    "start_time": "2023-01-30T13:52:23.616Z"
   },
   {
    "duration": 5,
    "start_time": "2023-01-30T13:52:26.631Z"
   },
   {
    "duration": 23,
    "start_time": "2023-01-30T13:53:08.438Z"
   },
   {
    "duration": 6,
    "start_time": "2023-01-30T13:53:09.928Z"
   },
   {
    "duration": 20,
    "start_time": "2023-01-30T13:53:13.613Z"
   },
   {
    "duration": 6,
    "start_time": "2023-01-30T13:53:14.926Z"
   },
   {
    "duration": 232,
    "start_time": "2023-01-30T14:16:43.697Z"
   },
   {
    "duration": 5,
    "start_time": "2023-01-30T14:17:18.125Z"
   },
   {
    "duration": 82,
    "start_time": "2023-01-30T14:17:23.864Z"
   },
   {
    "duration": 39,
    "start_time": "2023-01-30T14:31:36.704Z"
   },
   {
    "duration": 12,
    "start_time": "2023-01-30T14:43:34.475Z"
   },
   {
    "duration": 10,
    "start_time": "2023-01-30T14:44:09.439Z"
   },
   {
    "duration": 1503,
    "start_time": "2023-01-30T14:44:13.134Z"
   },
   {
    "duration": 1673,
    "start_time": "2023-01-30T14:47:58.945Z"
   },
   {
    "duration": 1667,
    "start_time": "2023-01-30T14:49:04.027Z"
   },
   {
    "duration": 1539,
    "start_time": "2023-01-30T14:49:37.023Z"
   },
   {
    "duration": 1676,
    "start_time": "2023-01-30T14:51:25.849Z"
   },
   {
    "duration": 1736,
    "start_time": "2023-01-30T14:51:49.146Z"
   },
   {
    "duration": 44,
    "start_time": "2023-01-30T14:53:20.014Z"
   },
   {
    "duration": 1583,
    "start_time": "2023-01-30T16:26:55.973Z"
   },
   {
    "duration": 181,
    "start_time": "2023-01-30T16:26:57.559Z"
   },
   {
    "duration": 12,
    "start_time": "2023-01-30T16:26:57.742Z"
   },
   {
    "duration": 8,
    "start_time": "2023-01-30T16:26:57.757Z"
   },
   {
    "duration": 146,
    "start_time": "2023-01-30T16:26:57.766Z"
   },
   {
    "duration": 11,
    "start_time": "2023-01-30T16:26:57.914Z"
   },
   {
    "duration": 178,
    "start_time": "2023-01-30T16:26:57.926Z"
   },
   {
    "duration": 13,
    "start_time": "2023-01-30T16:26:58.106Z"
   },
   {
    "duration": 3071,
    "start_time": "2023-01-30T16:26:58.122Z"
   },
   {
    "duration": 16,
    "start_time": "2023-01-30T16:27:01.197Z"
   },
   {
    "duration": 74,
    "start_time": "2023-01-30T16:27:01.214Z"
   },
   {
    "duration": 24,
    "start_time": "2023-01-30T16:27:01.290Z"
   },
   {
    "duration": 63,
    "start_time": "2023-01-30T16:27:01.315Z"
   },
   {
    "duration": 6,
    "start_time": "2023-01-30T16:27:01.380Z"
   },
   {
    "duration": 45,
    "start_time": "2023-01-30T16:27:01.388Z"
   },
   {
    "duration": 23,
    "start_time": "2023-01-30T16:27:01.434Z"
   },
   {
    "duration": 24,
    "start_time": "2023-01-30T16:27:01.459Z"
   },
   {
    "duration": 33,
    "start_time": "2023-01-30T16:27:01.485Z"
   },
   {
    "duration": 26,
    "start_time": "2023-01-30T16:27:01.520Z"
   },
   {
    "duration": 13,
    "start_time": "2023-01-30T16:27:01.549Z"
   },
   {
    "duration": 112,
    "start_time": "2023-01-30T16:27:01.564Z"
   },
   {
    "duration": 1541,
    "start_time": "2023-01-30T16:27:01.682Z"
   },
   {
    "duration": 15113,
    "start_time": "2023-01-30T16:27:03.226Z"
   },
   {
    "duration": 13,
    "start_time": "2023-01-30T16:41:52.885Z"
   },
   {
    "duration": 13,
    "start_time": "2023-01-30T16:42:18.565Z"
   },
   {
    "duration": 1466,
    "start_time": "2023-01-30T17:34:02.173Z"
   },
   {
    "duration": 15977,
    "start_time": "2023-01-30T17:34:30.412Z"
   },
   {
    "duration": 1581,
    "start_time": "2023-01-31T09:46:52.216Z"
   },
   {
    "duration": 109,
    "start_time": "2023-01-31T09:46:53.799Z"
   },
   {
    "duration": 12,
    "start_time": "2023-01-31T09:46:53.910Z"
   },
   {
    "duration": 8,
    "start_time": "2023-01-31T09:46:53.924Z"
   },
   {
    "duration": 158,
    "start_time": "2023-01-31T09:46:53.934Z"
   },
   {
    "duration": 11,
    "start_time": "2023-01-31T09:46:54.093Z"
   },
   {
    "duration": 150,
    "start_time": "2023-01-31T09:46:54.106Z"
   },
   {
    "duration": 13,
    "start_time": "2023-01-31T09:46:54.257Z"
   },
   {
    "duration": 2924,
    "start_time": "2023-01-31T09:46:54.272Z"
   },
   {
    "duration": 14,
    "start_time": "2023-01-31T09:46:57.199Z"
   },
   {
    "duration": 50,
    "start_time": "2023-01-31T09:46:57.215Z"
   },
   {
    "duration": 11,
    "start_time": "2023-01-31T09:46:57.267Z"
   },
   {
    "duration": 41,
    "start_time": "2023-01-31T09:46:57.280Z"
   },
   {
    "duration": 6,
    "start_time": "2023-01-31T09:46:57.341Z"
   },
   {
    "duration": 23,
    "start_time": "2023-01-31T09:46:57.349Z"
   },
   {
    "duration": 13,
    "start_time": "2023-01-31T09:46:57.374Z"
   },
   {
    "duration": 27,
    "start_time": "2023-01-31T09:46:57.388Z"
   },
   {
    "duration": 21,
    "start_time": "2023-01-31T09:46:57.417Z"
   },
   {
    "duration": 12,
    "start_time": "2023-01-31T09:46:57.442Z"
   },
   {
    "duration": 8,
    "start_time": "2023-01-31T09:46:57.456Z"
   },
   {
    "duration": 86,
    "start_time": "2023-01-31T09:46:57.466Z"
   },
   {
    "duration": 1577,
    "start_time": "2023-01-31T09:46:57.642Z"
   },
   {
    "duration": 15701,
    "start_time": "2023-01-31T09:46:59.221Z"
   },
   {
    "duration": 279,
    "start_time": "2023-01-31T12:47:23.519Z"
   },
   {
    "duration": 5,
    "start_time": "2023-01-31T12:48:11.577Z"
   },
   {
    "duration": 167,
    "start_time": "2023-01-31T12:48:15.255Z"
   },
   {
    "duration": 339,
    "start_time": "2023-01-31T12:52:14.861Z"
   },
   {
    "duration": 708,
    "start_time": "2023-01-31T12:53:49.853Z"
   },
   {
    "duration": 147,
    "start_time": "2023-01-31T12:57:05.971Z"
   },
   {
    "duration": 148,
    "start_time": "2023-01-31T12:57:17.753Z"
   },
   {
    "duration": 812,
    "start_time": "2023-01-31T12:58:27.189Z"
   },
   {
    "duration": 1014,
    "start_time": "2023-01-31T12:59:26.506Z"
   },
   {
    "duration": 813,
    "start_time": "2023-01-31T13:00:32.602Z"
   },
   {
    "duration": 893,
    "start_time": "2023-01-31T13:00:38.589Z"
   },
   {
    "duration": 803,
    "start_time": "2023-01-31T13:00:50.153Z"
   },
   {
    "duration": 94,
    "start_time": "2023-01-31T13:05:13.439Z"
   },
   {
    "duration": 48,
    "start_time": "2023-01-31T13:16:27.498Z"
   },
   {
    "duration": 50,
    "start_time": "2023-01-31T13:16:34.493Z"
   },
   {
    "duration": 1518,
    "start_time": "2023-01-31T13:20:46.127Z"
   },
   {
    "duration": 15895,
    "start_time": "2023-01-31T13:21:01.032Z"
   },
   {
    "duration": 33,
    "start_time": "2023-01-31T13:25:06.923Z"
   },
   {
    "duration": 407,
    "start_time": "2023-01-31T13:27:33.165Z"
   },
   {
    "duration": 1393,
    "start_time": "2023-01-31T13:27:52.632Z"
   },
   {
    "duration": 66,
    "start_time": "2023-01-31T13:27:54.027Z"
   },
   {
    "duration": 15,
    "start_time": "2023-01-31T13:27:54.094Z"
   },
   {
    "duration": 33,
    "start_time": "2023-01-31T13:27:54.112Z"
   },
   {
    "duration": 179,
    "start_time": "2023-01-31T13:27:54.147Z"
   },
   {
    "duration": 20,
    "start_time": "2023-01-31T13:27:54.328Z"
   },
   {
    "duration": 200,
    "start_time": "2023-01-31T13:27:54.350Z"
   },
   {
    "duration": 11,
    "start_time": "2023-01-31T13:27:54.552Z"
   },
   {
    "duration": 2843,
    "start_time": "2023-01-31T13:27:54.564Z"
   },
   {
    "duration": 14,
    "start_time": "2023-01-31T13:27:57.409Z"
   },
   {
    "duration": 45,
    "start_time": "2023-01-31T13:27:57.424Z"
   },
   {
    "duration": 10,
    "start_time": "2023-01-31T13:27:57.471Z"
   },
   {
    "duration": 32,
    "start_time": "2023-01-31T13:27:57.483Z"
   },
   {
    "duration": 26,
    "start_time": "2023-01-31T13:27:57.517Z"
   },
   {
    "duration": 16,
    "start_time": "2023-01-31T13:27:57.545Z"
   },
   {
    "duration": 12,
    "start_time": "2023-01-31T13:27:57.562Z"
   },
   {
    "duration": 7,
    "start_time": "2023-01-31T13:27:57.576Z"
   },
   {
    "duration": 19,
    "start_time": "2023-01-31T13:27:57.585Z"
   },
   {
    "duration": 6,
    "start_time": "2023-01-31T13:27:57.606Z"
   },
   {
    "duration": 9,
    "start_time": "2023-01-31T13:27:57.614Z"
   },
   {
    "duration": 118,
    "start_time": "2023-01-31T13:27:57.625Z"
   },
   {
    "duration": 1509,
    "start_time": "2023-01-31T13:27:57.840Z"
   },
   {
    "duration": 15577,
    "start_time": "2023-01-31T13:27:59.353Z"
   },
   {
    "duration": 800,
    "start_time": "2023-01-31T13:28:14.932Z"
   },
   {
    "duration": 106,
    "start_time": "2023-01-31T13:28:15.734Z"
   },
   {
    "duration": 122,
    "start_time": "2023-01-31T13:28:15.844Z"
   },
   {
    "duration": 389,
    "start_time": "2023-01-31T13:28:15.968Z"
   },
   {
    "duration": 114,
    "start_time": "2023-01-31T13:38:07.259Z"
   },
   {
    "duration": 41,
    "start_time": "2023-01-31T13:38:30.239Z"
   },
   {
    "duration": 36,
    "start_time": "2023-01-31T13:38:43.039Z"
   },
   {
    "duration": 15,
    "start_time": "2023-01-31T13:41:02.664Z"
   },
   {
    "duration": 5,
    "start_time": "2023-01-31T13:41:10.878Z"
   },
   {
    "duration": 14,
    "start_time": "2023-01-31T13:41:12.672Z"
   },
   {
    "duration": 18,
    "start_time": "2023-01-31T13:44:41.894Z"
   },
   {
    "duration": 18,
    "start_time": "2023-01-31T13:48:26.249Z"
   },
   {
    "duration": 1447,
    "start_time": "2023-01-31T13:50:33.882Z"
   },
   {
    "duration": 72,
    "start_time": "2023-01-31T13:50:35.331Z"
   },
   {
    "duration": 11,
    "start_time": "2023-01-31T13:50:35.404Z"
   },
   {
    "duration": 18,
    "start_time": "2023-01-31T13:50:35.417Z"
   },
   {
    "duration": 165,
    "start_time": "2023-01-31T13:50:35.437Z"
   },
   {
    "duration": 9,
    "start_time": "2023-01-31T13:50:35.604Z"
   },
   {
    "duration": 164,
    "start_time": "2023-01-31T13:50:35.615Z"
   },
   {
    "duration": 12,
    "start_time": "2023-01-31T13:50:35.780Z"
   },
   {
    "duration": 3284,
    "start_time": "2023-01-31T13:50:35.794Z"
   },
   {
    "duration": 20,
    "start_time": "2023-01-31T13:50:39.082Z"
   },
   {
    "duration": 66,
    "start_time": "2023-01-31T13:50:39.105Z"
   },
   {
    "duration": 15,
    "start_time": "2023-01-31T13:50:39.173Z"
   },
   {
    "duration": 58,
    "start_time": "2023-01-31T13:50:39.190Z"
   },
   {
    "duration": 7,
    "start_time": "2023-01-31T13:50:39.251Z"
   },
   {
    "duration": 25,
    "start_time": "2023-01-31T13:50:39.261Z"
   },
   {
    "duration": 9,
    "start_time": "2023-01-31T13:50:39.288Z"
   },
   {
    "duration": 12,
    "start_time": "2023-01-31T13:50:39.300Z"
   },
   {
    "duration": 43,
    "start_time": "2023-01-31T13:50:39.314Z"
   },
   {
    "duration": 17,
    "start_time": "2023-01-31T13:50:39.360Z"
   },
   {
    "duration": 10,
    "start_time": "2023-01-31T13:50:39.379Z"
   },
   {
    "duration": 158,
    "start_time": "2023-01-31T13:50:39.391Z"
   },
   {
    "duration": 1722,
    "start_time": "2023-01-31T13:50:39.551Z"
   },
   {
    "duration": 17293,
    "start_time": "2023-01-31T13:50:41.275Z"
   },
   {
    "duration": 882,
    "start_time": "2023-01-31T13:50:58.569Z"
   },
   {
    "duration": 101,
    "start_time": "2023-01-31T13:50:59.453Z"
   },
   {
    "duration": 118,
    "start_time": "2023-01-31T13:50:59.556Z"
   },
   {
    "duration": 402,
    "start_time": "2023-01-31T13:50:59.676Z"
   },
   {
    "duration": 6,
    "start_time": "2023-01-31T13:51:00.083Z"
   },
   {
    "duration": 67,
    "start_time": "2023-01-31T13:51:00.092Z"
   },
   {
    "duration": 145,
    "start_time": "2023-01-31T13:51:00.161Z"
   },
   {
    "duration": 0,
    "start_time": "2023-01-31T13:51:00.308Z"
   },
   {
    "duration": 0,
    "start_time": "2023-01-31T13:51:00.309Z"
   },
   {
    "duration": 0,
    "start_time": "2023-01-31T13:51:00.310Z"
   },
   {
    "duration": 6,
    "start_time": "2023-01-31T13:52:10.575Z"
   },
   {
    "duration": 14,
    "start_time": "2023-01-31T13:52:12.241Z"
   },
   {
    "duration": 117,
    "start_time": "2023-01-31T13:52:24.537Z"
   },
   {
    "duration": 5,
    "start_time": "2023-01-31T13:56:39.659Z"
   },
   {
    "duration": 11,
    "start_time": "2023-01-31T13:56:41.711Z"
   },
   {
    "duration": 87,
    "start_time": "2023-01-31T13:56:45.758Z"
   },
   {
    "duration": 11,
    "start_time": "2023-01-31T13:58:15.782Z"
   },
   {
    "duration": 7,
    "start_time": "2023-01-31T13:58:19.792Z"
   },
   {
    "duration": 17,
    "start_time": "2023-01-31T13:58:24.137Z"
   },
   {
    "duration": 1401,
    "start_time": "2023-01-31T13:58:30.831Z"
   },
   {
    "duration": 66,
    "start_time": "2023-01-31T13:58:32.234Z"
   },
   {
    "duration": 13,
    "start_time": "2023-01-31T13:58:32.301Z"
   },
   {
    "duration": 12,
    "start_time": "2023-01-31T13:58:32.317Z"
   },
   {
    "duration": 141,
    "start_time": "2023-01-31T13:58:32.331Z"
   },
   {
    "duration": 12,
    "start_time": "2023-01-31T13:58:32.474Z"
   },
   {
    "duration": 156,
    "start_time": "2023-01-31T13:58:32.488Z"
   },
   {
    "duration": 10,
    "start_time": "2023-01-31T13:58:32.646Z"
   },
   {
    "duration": 3101,
    "start_time": "2023-01-31T13:58:32.657Z"
   },
   {
    "duration": 15,
    "start_time": "2023-01-31T13:58:35.762Z"
   },
   {
    "duration": 37,
    "start_time": "2023-01-31T13:58:35.778Z"
   },
   {
    "duration": 42,
    "start_time": "2023-01-31T13:58:35.817Z"
   },
   {
    "duration": 40,
    "start_time": "2023-01-31T13:58:35.862Z"
   },
   {
    "duration": 14,
    "start_time": "2023-01-31T13:58:35.905Z"
   },
   {
    "duration": 38,
    "start_time": "2023-01-31T13:58:35.921Z"
   },
   {
    "duration": 22,
    "start_time": "2023-01-31T13:58:35.961Z"
   },
   {
    "duration": 22,
    "start_time": "2023-01-31T13:58:35.985Z"
   },
   {
    "duration": 18,
    "start_time": "2023-01-31T13:58:36.009Z"
   },
   {
    "duration": 6,
    "start_time": "2023-01-31T13:58:36.029Z"
   },
   {
    "duration": 23,
    "start_time": "2023-01-31T13:58:36.036Z"
   },
   {
    "duration": 94,
    "start_time": "2023-01-31T13:58:36.061Z"
   },
   {
    "duration": 1759,
    "start_time": "2023-01-31T13:58:36.162Z"
   },
   {
    "duration": 1396,
    "start_time": "2023-01-31T13:58:54.177Z"
   },
   {
    "duration": 65,
    "start_time": "2023-01-31T13:58:55.575Z"
   },
   {
    "duration": 20,
    "start_time": "2023-01-31T13:58:55.642Z"
   },
   {
    "duration": 9,
    "start_time": "2023-01-31T13:58:55.666Z"
   },
   {
    "duration": 176,
    "start_time": "2023-01-31T13:58:55.677Z"
   },
   {
    "duration": 14,
    "start_time": "2023-01-31T13:58:55.856Z"
   },
   {
    "duration": 165,
    "start_time": "2023-01-31T13:58:55.872Z"
   },
   {
    "duration": 11,
    "start_time": "2023-01-31T13:58:56.040Z"
   },
   {
    "duration": 3027,
    "start_time": "2023-01-31T13:58:56.053Z"
   },
   {
    "duration": 14,
    "start_time": "2023-01-31T13:58:59.085Z"
   },
   {
    "duration": 53,
    "start_time": "2023-01-31T13:58:59.100Z"
   },
   {
    "duration": 14,
    "start_time": "2023-01-31T13:58:59.155Z"
   },
   {
    "duration": 30,
    "start_time": "2023-01-31T13:58:59.171Z"
   },
   {
    "duration": 4,
    "start_time": "2023-01-31T13:58:59.202Z"
   },
   {
    "duration": 32,
    "start_time": "2023-01-31T13:58:59.208Z"
   },
   {
    "duration": 5,
    "start_time": "2023-01-31T13:58:59.242Z"
   },
   {
    "duration": 13,
    "start_time": "2023-01-31T13:58:59.249Z"
   },
   {
    "duration": 20,
    "start_time": "2023-01-31T13:58:59.265Z"
   },
   {
    "duration": 7,
    "start_time": "2023-01-31T13:58:59.287Z"
   },
   {
    "duration": 25,
    "start_time": "2023-01-31T13:58:59.296Z"
   },
   {
    "duration": 119,
    "start_time": "2023-01-31T13:58:59.323Z"
   },
   {
    "duration": 1578,
    "start_time": "2023-01-31T13:58:59.444Z"
   },
   {
    "duration": 15453,
    "start_time": "2023-01-31T13:59:01.025Z"
   },
   {
    "duration": 789,
    "start_time": "2023-01-31T13:59:16.480Z"
   },
   {
    "duration": 74,
    "start_time": "2023-01-31T13:59:17.271Z"
   },
   {
    "duration": 125,
    "start_time": "2023-01-31T13:59:17.348Z"
   },
   {
    "duration": 402,
    "start_time": "2023-01-31T13:59:17.474Z"
   },
   {
    "duration": 4,
    "start_time": "2023-01-31T13:59:17.879Z"
   },
   {
    "duration": 17,
    "start_time": "2023-01-31T13:59:17.885Z"
   },
   {
    "duration": 12,
    "start_time": "2023-01-31T13:59:17.904Z"
   },
   {
    "duration": 22,
    "start_time": "2023-01-31T13:59:17.918Z"
   },
   {
    "duration": 100,
    "start_time": "2023-01-31T13:59:17.942Z"
   },
   {
    "duration": 37,
    "start_time": "2023-01-31T15:22:50.572Z"
   },
   {
    "duration": 45,
    "start_time": "2023-01-31T15:22:52.210Z"
   },
   {
    "duration": 38,
    "start_time": "2023-01-31T15:26:07.208Z"
   },
   {
    "duration": 35,
    "start_time": "2023-01-31T15:26:39.805Z"
   },
   {
    "duration": 522,
    "start_time": "2023-01-31T15:27:39.158Z"
   },
   {
    "duration": 5,
    "start_time": "2023-01-31T15:35:07.851Z"
   },
   {
    "duration": 131,
    "start_time": "2023-01-31T15:37:31.310Z"
   },
   {
    "duration": 11,
    "start_time": "2023-01-31T15:37:36.958Z"
   },
   {
    "duration": 4,
    "start_time": "2023-01-31T15:39:05.258Z"
   },
   {
    "duration": 14,
    "start_time": "2023-01-31T15:40:06.610Z"
   },
   {
    "duration": 223,
    "start_time": "2023-01-31T15:42:53.622Z"
   },
   {
    "duration": 40,
    "start_time": "2023-01-31T15:44:37.202Z"
   },
   {
    "duration": 4,
    "start_time": "2023-01-31T15:45:06.500Z"
   },
   {
    "duration": 5,
    "start_time": "2023-01-31T15:45:28.249Z"
   },
   {
    "duration": 5,
    "start_time": "2023-01-31T15:45:40.336Z"
   },
   {
    "duration": 6,
    "start_time": "2023-01-31T15:45:49.746Z"
   },
   {
    "duration": 55,
    "start_time": "2023-01-31T15:47:17.685Z"
   },
   {
    "duration": 22,
    "start_time": "2023-01-31T15:56:43.037Z"
   },
   {
    "duration": 222,
    "start_time": "2023-01-31T15:58:29.027Z"
   },
   {
    "duration": 803,
    "start_time": "2023-01-31T16:08:59.532Z"
   },
   {
    "duration": 950,
    "start_time": "2023-01-31T16:14:42.758Z"
   },
   {
    "duration": 613,
    "start_time": "2023-01-31T16:18:51.870Z"
   },
   {
    "duration": 147380,
    "start_time": "2023-01-31T16:47:05.015Z"
   },
   {
    "duration": 338286,
    "start_time": "2023-01-31T16:49:36.641Z"
   },
   {
    "duration": 9642,
    "start_time": "2023-01-31T16:55:21.640Z"
   },
   {
    "duration": 50679,
    "start_time": "2023-01-31T16:55:34.868Z"
   },
   {
    "duration": 250413,
    "start_time": "2023-01-31T16:59:00.775Z"
   },
   {
    "duration": 202477,
    "start_time": "2023-01-31T17:03:13.565Z"
   },
   {
    "duration": 546,
    "start_time": "2023-01-31T17:08:28.309Z"
   },
   {
    "duration": 49949,
    "start_time": "2023-01-31T17:09:24.419Z"
   },
   {
    "duration": 44,
    "start_time": "2023-01-31T17:10:46.321Z"
   },
   {
    "duration": 515,
    "start_time": "2023-01-31T17:11:05.174Z"
   },
   {
    "duration": 101741,
    "start_time": "2023-01-31T17:11:08.973Z"
   },
   {
    "duration": 522,
    "start_time": "2023-01-31T17:15:47.158Z"
   },
   {
    "duration": 600,
    "start_time": "2023-01-31T17:17:48.832Z"
   },
   {
    "duration": 527,
    "start_time": "2023-01-31T17:20:05.637Z"
   },
   {
    "duration": 735,
    "start_time": "2023-01-31T17:24:18.639Z"
   },
   {
    "duration": 513,
    "start_time": "2023-01-31T17:24:27.192Z"
   },
   {
    "duration": 377,
    "start_time": "2023-01-31T17:24:39.514Z"
   },
   {
    "duration": 59,
    "start_time": "2023-01-31T17:29:14.723Z"
   },
   {
    "duration": 542,
    "start_time": "2023-01-31T17:32:36.259Z"
   },
   {
    "duration": 7,
    "start_time": "2023-01-31T17:32:50.869Z"
   },
   {
    "duration": 6,
    "start_time": "2023-01-31T17:33:15.412Z"
   },
   {
    "duration": 508,
    "start_time": "2023-01-31T17:36:20.214Z"
   },
   {
    "duration": 1411,
    "start_time": "2023-01-31T17:36:40.818Z"
   },
   {
    "duration": 63,
    "start_time": "2023-01-31T17:36:42.231Z"
   },
   {
    "duration": 12,
    "start_time": "2023-01-31T17:36:42.296Z"
   },
   {
    "duration": 9,
    "start_time": "2023-01-31T17:36:42.309Z"
   },
   {
    "duration": 138,
    "start_time": "2023-01-31T17:36:42.320Z"
   },
   {
    "duration": 10,
    "start_time": "2023-01-31T17:36:42.459Z"
   },
   {
    "duration": 155,
    "start_time": "2023-01-31T17:36:42.470Z"
   },
   {
    "duration": 20,
    "start_time": "2023-01-31T17:36:42.627Z"
   },
   {
    "duration": 2908,
    "start_time": "2023-01-31T17:36:42.648Z"
   },
   {
    "duration": 14,
    "start_time": "2023-01-31T17:36:45.558Z"
   },
   {
    "duration": 52,
    "start_time": "2023-01-31T17:36:45.574Z"
   },
   {
    "duration": 18,
    "start_time": "2023-01-31T17:36:45.628Z"
   },
   {
    "duration": 33,
    "start_time": "2023-01-31T17:36:45.648Z"
   },
   {
    "duration": 5,
    "start_time": "2023-01-31T17:36:45.683Z"
   },
   {
    "duration": 15,
    "start_time": "2023-01-31T17:36:45.690Z"
   },
   {
    "duration": 5,
    "start_time": "2023-01-31T17:36:45.707Z"
   },
   {
    "duration": 27,
    "start_time": "2023-01-31T17:36:45.713Z"
   },
   {
    "duration": 13,
    "start_time": "2023-01-31T17:36:45.741Z"
   },
   {
    "duration": 4,
    "start_time": "2023-01-31T17:36:45.756Z"
   },
   {
    "duration": 4,
    "start_time": "2023-01-31T17:36:45.762Z"
   },
   {
    "duration": 83,
    "start_time": "2023-01-31T17:36:45.768Z"
   },
   {
    "duration": 1543,
    "start_time": "2023-01-31T17:36:45.941Z"
   },
   {
    "duration": 15657,
    "start_time": "2023-01-31T17:36:47.486Z"
   },
   {
    "duration": 849,
    "start_time": "2023-01-31T17:37:03.145Z"
   },
   {
    "duration": 154,
    "start_time": "2023-01-31T17:37:03.996Z"
   },
   {
    "duration": 34,
    "start_time": "2023-01-31T17:37:04.152Z"
   },
   {
    "duration": 410,
    "start_time": "2023-01-31T17:37:04.188Z"
   },
   {
    "duration": 827,
    "start_time": "2023-01-31T17:37:04.602Z"
   },
   {
    "duration": 9,
    "start_time": "2023-01-31T17:37:05.431Z"
   },
   {
    "duration": 37,
    "start_time": "2023-01-31T17:37:05.441Z"
   },
   {
    "duration": 41,
    "start_time": "2023-01-31T17:37:05.480Z"
   },
   {
    "duration": 20,
    "start_time": "2023-01-31T17:37:05.523Z"
   },
   {
    "duration": 14,
    "start_time": "2023-01-31T17:37:05.545Z"
   },
   {
    "duration": 20,
    "start_time": "2023-01-31T17:37:05.561Z"
   },
   {
    "duration": 63,
    "start_time": "2023-01-31T17:37:05.583Z"
   },
   {
    "duration": 215,
    "start_time": "2023-01-31T17:37:05.648Z"
   },
   {
    "duration": 530,
    "start_time": "2023-01-31T17:37:05.865Z"
   },
   {
    "duration": 953,
    "start_time": "2023-01-31T17:37:06.396Z"
   },
   {
    "duration": 4,
    "start_time": "2023-01-31T17:37:07.350Z"
   },
   {
    "duration": 13,
    "start_time": "2023-01-31T17:37:07.356Z"
   },
   {
    "duration": 6,
    "start_time": "2023-01-31T17:37:07.370Z"
   },
   {
    "duration": 17,
    "start_time": "2023-01-31T17:37:07.378Z"
   },
   {
    "duration": 20,
    "start_time": "2023-01-31T17:37:07.396Z"
   },
   {
    "duration": 5,
    "start_time": "2023-01-31T17:37:07.418Z"
   },
   {
    "duration": 116,
    "start_time": "2023-01-31T17:37:07.424Z"
   },
   {
    "duration": 113,
    "start_time": "2023-01-31T17:37:07.543Z"
   },
   {
    "duration": 218,
    "start_time": "2023-01-31T17:37:07.657Z"
   },
   {
    "duration": 572,
    "start_time": "2023-01-31T17:37:07.877Z"
   },
   {
    "duration": 680,
    "start_time": "2023-01-31T17:37:08.451Z"
   },
   {
    "duration": 0,
    "start_time": "2023-01-31T17:37:09.133Z"
   },
   {
    "duration": 0,
    "start_time": "2023-01-31T17:37:09.140Z"
   },
   {
    "duration": 543,
    "start_time": "2023-01-31T17:37:52.114Z"
   },
   {
    "duration": 631,
    "start_time": "2023-01-31T17:39:18.900Z"
   },
   {
    "duration": 579,
    "start_time": "2023-01-31T17:39:19.534Z"
   },
   {
    "duration": 525,
    "start_time": "2023-01-31T17:39:31.533Z"
   },
   {
    "duration": 506,
    "start_time": "2023-01-31T17:39:44.818Z"
   },
   {
    "duration": 520,
    "start_time": "2023-01-31T17:39:54.352Z"
   },
   {
    "duration": 202,
    "start_time": "2023-01-31T17:41:31.198Z"
   },
   {
    "duration": 198,
    "start_time": "2023-01-31T17:41:37.196Z"
   },
   {
    "duration": 367,
    "start_time": "2023-01-31T17:42:59.378Z"
   },
   {
    "duration": 367,
    "start_time": "2023-01-31T17:43:39.285Z"
   },
   {
    "duration": 67,
    "start_time": "2023-01-31T17:45:37.188Z"
   },
   {
    "duration": 16116,
    "start_time": "2023-01-31T17:46:40.259Z"
   },
   {
    "duration": 589,
    "start_time": "2023-01-31T17:48:27.973Z"
   },
   {
    "duration": 199,
    "start_time": "2023-01-31T17:49:12.616Z"
   },
   {
    "duration": 11,
    "start_time": "2023-01-31T17:50:04.056Z"
   },
   {
    "duration": 79,
    "start_time": "2023-01-31T17:50:43.755Z"
   },
   {
    "duration": 506,
    "start_time": "2023-01-31T17:51:11.943Z"
   },
   {
    "duration": 493,
    "start_time": "2023-01-31T17:51:46.752Z"
   },
   {
    "duration": 193,
    "start_time": "2023-01-31T17:52:10.416Z"
   },
   {
    "duration": 373,
    "start_time": "2023-01-31T17:52:24.416Z"
   },
   {
    "duration": 51175,
    "start_time": "2023-01-31T17:53:00.490Z"
   },
   {
    "duration": 50883,
    "start_time": "2023-01-31T17:56:21.958Z"
   },
   {
    "duration": 550,
    "start_time": "2023-01-31T18:04:53.614Z"
   },
   {
    "duration": 524,
    "start_time": "2023-01-31T18:04:59.182Z"
   },
   {
    "duration": 576,
    "start_time": "2023-01-31T18:05:01.988Z"
   },
   {
    "duration": 603,
    "start_time": "2023-01-31T18:05:05.127Z"
   },
   {
    "duration": 669,
    "start_time": "2023-01-31T18:05:08.898Z"
   },
   {
    "duration": 540,
    "start_time": "2023-01-31T18:05:13.987Z"
   },
   {
    "duration": 564,
    "start_time": "2023-01-31T18:05:19.976Z"
   },
   {
    "duration": 599,
    "start_time": "2023-01-31T18:05:23.047Z"
   },
   {
    "duration": 604,
    "start_time": "2023-01-31T18:05:26.172Z"
   },
   {
    "duration": 630,
    "start_time": "2023-01-31T18:05:29.339Z"
   },
   {
    "duration": 602,
    "start_time": "2023-01-31T18:05:34.913Z"
   },
   {
    "duration": 592,
    "start_time": "2023-01-31T18:05:38.183Z"
   },
   {
    "duration": 620,
    "start_time": "2023-01-31T18:05:42.239Z"
   },
   {
    "duration": 50071,
    "start_time": "2023-01-31T18:06:45.553Z"
   },
   {
    "duration": 3146,
    "start_time": "2023-01-31T18:10:07.979Z"
   },
   {
    "duration": 84205,
    "start_time": "2023-01-31T18:10:46.956Z"
   },
   {
    "duration": 83357,
    "start_time": "2023-01-31T18:12:22.420Z"
   },
   {
    "duration": 995,
    "start_time": "2023-01-31T18:14:22.098Z"
   },
   {
    "duration": 538,
    "start_time": "2023-01-31T18:15:31.420Z"
   },
   {
    "duration": 996,
    "start_time": "2023-01-31T18:16:57.434Z"
   },
   {
    "duration": 752,
    "start_time": "2023-01-31T18:17:21.275Z"
   },
   {
    "duration": 1233,
    "start_time": "2023-01-31T18:18:25.185Z"
   },
   {
    "duration": 292,
    "start_time": "2023-01-31T18:18:41.684Z"
   },
   {
    "duration": 714,
    "start_time": "2023-01-31T18:19:23.346Z"
   },
   {
    "duration": 1360,
    "start_time": "2023-01-31T18:21:10.429Z"
   },
   {
    "duration": 61,
    "start_time": "2023-01-31T18:21:11.792Z"
   },
   {
    "duration": 11,
    "start_time": "2023-01-31T18:21:11.855Z"
   },
   {
    "duration": 31,
    "start_time": "2023-01-31T18:21:11.869Z"
   },
   {
    "duration": 166,
    "start_time": "2023-01-31T18:21:11.902Z"
   },
   {
    "duration": 10,
    "start_time": "2023-01-31T18:21:12.070Z"
   },
   {
    "duration": 155,
    "start_time": "2023-01-31T18:21:12.082Z"
   },
   {
    "duration": 12,
    "start_time": "2023-01-31T18:21:12.238Z"
   },
   {
    "duration": 2880,
    "start_time": "2023-01-31T18:21:12.252Z"
   },
   {
    "duration": 14,
    "start_time": "2023-01-31T18:21:15.140Z"
   },
   {
    "duration": 28,
    "start_time": "2023-01-31T18:21:15.156Z"
   },
   {
    "duration": 10,
    "start_time": "2023-01-31T18:21:15.185Z"
   },
   {
    "duration": 57,
    "start_time": "2023-01-31T18:21:15.197Z"
   },
   {
    "duration": 4,
    "start_time": "2023-01-31T18:21:15.256Z"
   },
   {
    "duration": 14,
    "start_time": "2023-01-31T18:21:15.262Z"
   },
   {
    "duration": 8,
    "start_time": "2023-01-31T18:21:15.278Z"
   },
   {
    "duration": 22,
    "start_time": "2023-01-31T18:21:15.287Z"
   },
   {
    "duration": 15,
    "start_time": "2023-01-31T18:21:15.310Z"
   },
   {
    "duration": 4,
    "start_time": "2023-01-31T18:21:15.326Z"
   },
   {
    "duration": 6,
    "start_time": "2023-01-31T18:21:15.339Z"
   },
   {
    "duration": 95,
    "start_time": "2023-01-31T18:21:15.347Z"
   },
   {
    "duration": 3157,
    "start_time": "2023-01-31T18:21:15.447Z"
   },
   {
    "duration": 84516,
    "start_time": "2023-01-31T18:21:23.767Z"
   },
   {
    "duration": 990,
    "start_time": "2023-01-31T18:22:54.852Z"
   },
   {
    "duration": 57,
    "start_time": "2023-01-31T18:23:35.384Z"
   },
   {
    "duration": 31,
    "start_time": "2023-01-31T18:23:41.963Z"
   },
   {
    "duration": 2543,
    "start_time": "2023-01-31T18:24:20.262Z"
   },
   {
    "duration": 62,
    "start_time": "2023-01-31T18:24:22.807Z"
   },
   {
    "duration": 12,
    "start_time": "2023-01-31T18:24:22.870Z"
   },
   {
    "duration": 15,
    "start_time": "2023-01-31T18:24:22.885Z"
   },
   {
    "duration": 180,
    "start_time": "2023-01-31T18:24:22.902Z"
   },
   {
    "duration": 11,
    "start_time": "2023-01-31T18:24:23.084Z"
   },
   {
    "duration": 158,
    "start_time": "2023-01-31T18:24:23.096Z"
   },
   {
    "duration": 11,
    "start_time": "2023-01-31T18:24:23.256Z"
   },
   {
    "duration": 2942,
    "start_time": "2023-01-31T18:24:23.269Z"
   },
   {
    "duration": 27,
    "start_time": "2023-01-31T18:24:26.214Z"
   },
   {
    "duration": 32,
    "start_time": "2023-01-31T18:24:26.243Z"
   },
   {
    "duration": 11,
    "start_time": "2023-01-31T18:24:26.276Z"
   },
   {
    "duration": 53,
    "start_time": "2023-01-31T18:24:26.288Z"
   },
   {
    "duration": 5,
    "start_time": "2023-01-31T18:24:26.343Z"
   },
   {
    "duration": 15,
    "start_time": "2023-01-31T18:24:26.349Z"
   },
   {
    "duration": 5,
    "start_time": "2023-01-31T18:24:26.365Z"
   },
   {
    "duration": 14,
    "start_time": "2023-01-31T18:24:26.371Z"
   },
   {
    "duration": 15,
    "start_time": "2023-01-31T18:24:26.386Z"
   },
   {
    "duration": 4,
    "start_time": "2023-01-31T18:24:26.403Z"
   },
   {
    "duration": 30,
    "start_time": "2023-01-31T18:24:26.409Z"
   },
   {
    "duration": 71,
    "start_time": "2023-01-31T18:24:34.579Z"
   },
   {
    "duration": 3129,
    "start_time": "2023-01-31T18:25:05.606Z"
   },
   {
    "duration": 1446,
    "start_time": "2023-01-31T18:25:15.187Z"
   },
   {
    "duration": 84992,
    "start_time": "2023-01-31T18:25:38.774Z"
   },
   {
    "duration": 976,
    "start_time": "2023-01-31T18:27:12.973Z"
   },
   {
    "duration": 28,
    "start_time": "2023-01-31T18:27:31.310Z"
   },
   {
    "duration": 28,
    "start_time": "2023-01-31T18:27:46.185Z"
   },
   {
    "duration": 577,
    "start_time": "2023-01-31T18:28:00.948Z"
   },
   {
    "duration": 591,
    "start_time": "2023-01-31T18:28:10.516Z"
   },
   {
    "duration": 941,
    "start_time": "2023-01-31T18:28:30.355Z"
   },
   {
    "duration": 5,
    "start_time": "2023-01-31T18:28:35.738Z"
   },
   {
    "duration": 12,
    "start_time": "2023-01-31T18:28:38.114Z"
   },
   {
    "duration": 5,
    "start_time": "2023-01-31T18:28:39.523Z"
   },
   {
    "duration": 5,
    "start_time": "2023-01-31T18:28:42.020Z"
   },
   {
    "duration": 12,
    "start_time": "2023-01-31T18:28:43.595Z"
   },
   {
    "duration": 5,
    "start_time": "2023-01-31T18:28:44.091Z"
   },
   {
    "duration": 87,
    "start_time": "2023-01-31T18:28:53.058Z"
   },
   {
    "duration": 42,
    "start_time": "2023-01-31T18:29:28.241Z"
   },
   {
    "duration": 787,
    "start_time": "2023-01-31T18:30:01.559Z"
   },
   {
    "duration": 1221,
    "start_time": "2023-01-31T18:30:15.119Z"
   },
   {
    "duration": 5,
    "start_time": "2023-01-31T18:30:24.320Z"
   },
   {
    "duration": 15,
    "start_time": "2023-01-31T18:30:25.691Z"
   },
   {
    "duration": 5,
    "start_time": "2023-01-31T18:30:26.236Z"
   },
   {
    "duration": 5,
    "start_time": "2023-01-31T18:30:28.874Z"
   },
   {
    "duration": 15,
    "start_time": "2023-01-31T18:30:29.258Z"
   },
   {
    "duration": 7,
    "start_time": "2023-01-31T18:30:29.651Z"
   },
   {
    "duration": 19,
    "start_time": "2023-01-31T18:30:35.530Z"
   },
   {
    "duration": 18,
    "start_time": "2023-01-31T18:30:53.718Z"
   },
   {
    "duration": 325,
    "start_time": "2023-01-31T18:31:11.242Z"
   },
   {
    "duration": 745,
    "start_time": "2023-01-31T18:31:39.023Z"
   },
   {
    "duration": 84446,
    "start_time": "2023-01-31T18:36:07.043Z"
   },
   {
    "duration": 1528,
    "start_time": "2023-01-31T18:38:38.844Z"
   },
   {
    "duration": 1531,
    "start_time": "2023-01-31T18:39:26.110Z"
   },
   {
    "duration": 979,
    "start_time": "2023-01-31T18:41:21.061Z"
   },
   {
    "duration": 6,
    "start_time": "2023-01-31T18:41:28.934Z"
   },
   {
    "duration": 12,
    "start_time": "2023-01-31T18:41:29.868Z"
   },
   {
    "duration": 6,
    "start_time": "2023-01-31T18:41:30.268Z"
   },
   {
    "duration": 5,
    "start_time": "2023-01-31T18:41:31.636Z"
   },
   {
    "duration": 11,
    "start_time": "2023-01-31T18:41:32.400Z"
   },
   {
    "duration": 4,
    "start_time": "2023-01-31T18:41:33.520Z"
   },
   {
    "duration": 42,
    "start_time": "2023-01-31T18:41:38.717Z"
   },
   {
    "duration": 2029,
    "start_time": "2023-01-31T18:42:12.726Z"
   },
   {
    "duration": 121479,
    "start_time": "2023-01-31T18:43:45.570Z"
   },
   {
    "duration": 1232,
    "start_time": "2023-01-31T18:47:12.954Z"
   },
   {
    "duration": 4,
    "start_time": "2023-01-31T18:47:18.278Z"
   },
   {
    "duration": 24,
    "start_time": "2023-01-31T18:47:18.635Z"
   },
   {
    "duration": 8,
    "start_time": "2023-01-31T18:47:19.004Z"
   },
   {
    "duration": 6,
    "start_time": "2023-01-31T18:47:20.020Z"
   },
   {
    "duration": 13,
    "start_time": "2023-01-31T18:47:20.371Z"
   },
   {
    "duration": 5,
    "start_time": "2023-01-31T18:47:20.706Z"
   },
   {
    "duration": 21,
    "start_time": "2023-01-31T18:47:24.157Z"
   },
   {
    "duration": 751,
    "start_time": "2023-01-31T18:47:54.153Z"
   },
   {
    "duration": 45769,
    "start_time": "2023-01-31T18:48:37.310Z"
   },
   {
    "duration": 46402,
    "start_time": "2023-01-31T18:51:31.525Z"
   },
   {
    "duration": 759,
    "start_time": "2023-01-31T18:52:48.539Z"
   },
   {
    "duration": 45743,
    "start_time": "2023-01-31T18:53:05.955Z"
   },
   {
    "duration": 1921,
    "start_time": "2023-01-31T18:56:06.111Z"
   },
   {
    "duration": 1768,
    "start_time": "2023-01-31T18:56:23.375Z"
   },
   {
    "duration": 113484,
    "start_time": "2023-01-31T19:01:03.875Z"
   },
   {
    "duration": 738,
    "start_time": "2023-01-31T19:04:37.177Z"
   },
   {
    "duration": 43857,
    "start_time": "2023-01-31T19:05:22.196Z"
   },
   {
    "duration": 1111,
    "start_time": "2023-01-31T19:07:31.112Z"
   },
   {
    "duration": 616,
    "start_time": "2023-01-31T19:07:56.107Z"
   },
   {
    "duration": 742,
    "start_time": "2023-01-31T19:08:39.768Z"
   },
   {
    "duration": 113358,
    "start_time": "2023-01-31T19:10:35.975Z"
   },
   {
    "duration": 125398,
    "start_time": "2023-01-31T19:13:14.028Z"
   },
   {
    "duration": 169,
    "start_time": "2023-01-31T19:20:42.889Z"
   },
   {
    "duration": 117670,
    "start_time": "2023-01-31T19:20:51.693Z"
   },
   {
    "duration": 1501,
    "start_time": "2023-01-31T19:27:57.201Z"
   },
   {
    "duration": 169,
    "start_time": "2023-01-31T19:28:15.993Z"
   },
   {
    "duration": 197,
    "start_time": "2023-01-31T19:28:29.220Z"
   },
   {
    "duration": 184,
    "start_time": "2023-01-31T19:28:44.247Z"
   },
   {
    "duration": 63511,
    "start_time": "2023-01-31T19:29:01.190Z"
   },
   {
    "duration": 4591,
    "start_time": "2023-01-31T19:30:20.979Z"
   },
   {
    "duration": 4581,
    "start_time": "2023-01-31T19:31:10.834Z"
   },
   {
    "duration": 126641,
    "start_time": "2023-01-31T19:31:18.618Z"
   },
   {
    "duration": 4135,
    "start_time": "2023-01-31T19:34:28.682Z"
   },
   {
    "duration": 92717,
    "start_time": "2023-01-31T19:35:26.352Z"
   },
   {
    "duration": 133146,
    "start_time": "2023-01-31T19:39:16.451Z"
   },
   {
    "duration": 183,
    "start_time": "2023-01-31T19:41:34.365Z"
   },
   {
    "duration": 167,
    "start_time": "2023-01-31T19:41:46.050Z"
   },
   {
    "duration": 11,
    "start_time": "2023-01-31T19:46:15.022Z"
   },
   {
    "duration": 74,
    "start_time": "2023-01-31T19:49:03.459Z"
   },
   {
    "duration": 568,
    "start_time": "2023-01-31T19:49:17.443Z"
   },
   {
    "duration": 1441,
    "start_time": "2023-01-31T19:49:41.661Z"
   },
   {
    "duration": 7489,
    "start_time": "2023-01-31T19:49:52.444Z"
   },
   {
    "duration": 7620,
    "start_time": "2023-01-31T19:50:14.355Z"
   },
   {
    "duration": 520,
    "start_time": "2023-01-31T19:53:45.383Z"
   },
   {
    "duration": 7541,
    "start_time": "2023-01-31T19:53:51.803Z"
   },
   {
    "duration": 7346,
    "start_time": "2023-01-31T19:55:43.904Z"
   },
   {
    "duration": 265,
    "start_time": "2023-01-31T20:00:39.606Z"
   },
   {
    "duration": 6907,
    "start_time": "2023-01-31T20:01:05.814Z"
   },
   {
    "duration": 6547,
    "start_time": "2023-01-31T20:02:09.117Z"
   },
   {
    "duration": 131893,
    "start_time": "2023-01-31T20:04:27.650Z"
   },
   {
    "duration": 113786,
    "start_time": "2023-01-31T20:09:31.117Z"
   },
   {
    "duration": 132788,
    "start_time": "2023-01-31T20:12:30.639Z"
   },
   {
    "duration": 66522,
    "start_time": "2023-01-31T20:15:43.283Z"
   },
   {
    "duration": 67663,
    "start_time": "2023-01-31T20:17:49.904Z"
   },
   {
    "duration": 56317,
    "start_time": "2023-01-31T20:20:52.965Z"
   },
   {
    "duration": 56056,
    "start_time": "2023-01-31T20:23:22.164Z"
   },
   {
    "duration": 57412,
    "start_time": "2023-01-31T20:27:27.798Z"
   },
   {
    "duration": 313155,
    "start_time": "2023-01-31T20:31:15.974Z"
   },
   {
    "duration": 110490,
    "start_time": "2023-01-31T20:38:33.967Z"
   },
   {
    "duration": 133217,
    "start_time": "2023-01-31T20:42:54.890Z"
   },
   {
    "duration": 113574,
    "start_time": "2023-01-31T20:45:56.825Z"
   },
   {
    "duration": 448239,
    "start_time": "2023-01-31T20:49:18.020Z"
   },
   {
    "duration": 132070,
    "start_time": "2023-01-31T20:57:11.409Z"
   },
   {
    "duration": 2617,
    "start_time": "2023-01-31T21:00:27.823Z"
   },
   {
    "duration": 151,
    "start_time": "2023-01-31T21:00:35.798Z"
   },
   {
    "duration": 113680,
    "start_time": "2023-01-31T21:01:59.437Z"
   },
   {
    "duration": 1397,
    "start_time": "2023-01-31T21:05:03.003Z"
   },
   {
    "duration": 62,
    "start_time": "2023-01-31T21:05:04.402Z"
   },
   {
    "duration": 11,
    "start_time": "2023-01-31T21:05:04.466Z"
   },
   {
    "duration": 8,
    "start_time": "2023-01-31T21:05:04.479Z"
   },
   {
    "duration": 169,
    "start_time": "2023-01-31T21:05:04.489Z"
   },
   {
    "duration": 10,
    "start_time": "2023-01-31T21:05:04.660Z"
   },
   {
    "duration": 152,
    "start_time": "2023-01-31T21:05:04.672Z"
   },
   {
    "duration": 16,
    "start_time": "2023-01-31T21:05:04.826Z"
   },
   {
    "duration": 2829,
    "start_time": "2023-01-31T21:05:04.844Z"
   },
   {
    "duration": 16,
    "start_time": "2023-01-31T21:05:07.676Z"
   },
   {
    "duration": 52,
    "start_time": "2023-01-31T21:05:07.694Z"
   },
   {
    "duration": 11,
    "start_time": "2023-01-31T21:05:07.748Z"
   },
   {
    "duration": 47,
    "start_time": "2023-01-31T21:05:07.761Z"
   },
   {
    "duration": 5,
    "start_time": "2023-01-31T21:05:07.810Z"
   },
   {
    "duration": 16,
    "start_time": "2023-01-31T21:05:07.817Z"
   },
   {
    "duration": 3,
    "start_time": "2023-01-31T21:05:07.840Z"
   },
   {
    "duration": 14,
    "start_time": "2023-01-31T21:05:07.845Z"
   },
   {
    "duration": 16,
    "start_time": "2023-01-31T21:05:07.860Z"
   },
   {
    "duration": 9,
    "start_time": "2023-01-31T21:05:07.877Z"
   },
   {
    "duration": 8,
    "start_time": "2023-01-31T21:05:07.888Z"
   },
   {
    "duration": 49,
    "start_time": "2023-01-31T21:05:07.899Z"
   },
   {
    "duration": 1600,
    "start_time": "2023-01-31T21:05:08.041Z"
   },
   {
    "duration": 80661,
    "start_time": "2023-01-31T21:05:09.643Z"
   },
   {
    "duration": 999,
    "start_time": "2023-01-31T21:06:30.306Z"
   },
   {
    "duration": 35,
    "start_time": "2023-01-31T21:06:31.306Z"
   },
   {
    "duration": 1638,
    "start_time": "2023-01-31T21:06:31.343Z"
   },
   {
    "duration": 80132,
    "start_time": "2023-01-31T21:06:32.982Z"
   },
   {
    "duration": 1116,
    "start_time": "2023-01-31T21:07:53.118Z"
   },
   {
    "duration": 5,
    "start_time": "2023-01-31T21:07:54.236Z"
   },
   {
    "duration": 18,
    "start_time": "2023-01-31T21:07:54.242Z"
   },
   {
    "duration": 5,
    "start_time": "2023-01-31T21:07:54.261Z"
   },
   {
    "duration": 6,
    "start_time": "2023-01-31T21:07:54.267Z"
   },
   {
    "duration": 12,
    "start_time": "2023-01-31T21:07:54.275Z"
   },
   {
    "duration": 4,
    "start_time": "2023-01-31T21:07:54.289Z"
   },
   {
    "duration": 53,
    "start_time": "2023-01-31T21:07:54.294Z"
   },
   {
    "duration": 1933,
    "start_time": "2023-01-31T21:07:54.349Z"
   },
   {
    "duration": 110924,
    "start_time": "2023-01-31T21:07:56.284Z"
   },
   {
    "duration": 596,
    "start_time": "2023-01-31T21:09:47.210Z"
   },
   {
    "duration": 4,
    "start_time": "2023-01-31T21:09:47.807Z"
   },
   {
    "duration": 15,
    "start_time": "2023-01-31T21:09:47.813Z"
   },
   {
    "duration": 5,
    "start_time": "2023-01-31T21:09:47.839Z"
   },
   {
    "duration": 11,
    "start_time": "2023-01-31T21:09:47.845Z"
   },
   {
    "duration": 14,
    "start_time": "2023-01-31T21:09:47.858Z"
   },
   {
    "duration": 4,
    "start_time": "2023-01-31T21:09:47.874Z"
   },
   {
    "duration": 62,
    "start_time": "2023-01-31T21:09:47.880Z"
   },
   {
    "duration": 805,
    "start_time": "2023-01-31T21:09:47.943Z"
   },
   {
    "duration": 42338,
    "start_time": "2023-01-31T21:09:48.751Z"
   },
   {
    "duration": 773,
    "start_time": "2023-01-31T21:10:31.091Z"
   },
   {
    "duration": 31056,
    "start_time": "2023-01-31T21:10:31.866Z"
   },
   {
    "duration": 30,
    "start_time": "2023-01-31T21:11:02.923Z"
   },
   {
    "duration": 0,
    "start_time": "2023-01-31T21:11:02.955Z"
   },
   {
    "duration": 0,
    "start_time": "2023-01-31T21:11:02.956Z"
   },
   {
    "duration": 0,
    "start_time": "2023-01-31T21:11:02.957Z"
   },
   {
    "duration": 0,
    "start_time": "2023-01-31T21:11:02.958Z"
   },
   {
    "duration": 111080,
    "start_time": "2023-01-31T21:11:07.497Z"
   },
   {
    "duration": 29,
    "start_time": "2023-01-31T21:13:07.013Z"
   },
   {
    "duration": 34,
    "start_time": "2023-01-31T21:13:13.306Z"
   },
   {
    "duration": 128901,
    "start_time": "2023-01-31T21:13:26.191Z"
   },
   {
    "duration": 65058,
    "start_time": "2023-01-31T21:15:53.647Z"
   },
   {
    "duration": 56118,
    "start_time": "2023-01-31T21:17:05.043Z"
   },
   {
    "duration": 7117,
    "start_time": "2023-01-31T21:18:46.948Z"
   },
   {
    "duration": 5976,
    "start_time": "2023-01-31T21:19:59.142Z"
   },
   {
    "duration": 64968,
    "start_time": "2023-01-31T21:20:07.847Z"
   },
   {
    "duration": 1290,
    "start_time": "2023-01-31T21:22:05.454Z"
   },
   {
    "duration": 148,
    "start_time": "2023-01-31T21:22:12.492Z"
   },
   {
    "duration": 7286,
    "start_time": "2023-01-31T21:22:30.425Z"
   },
   {
    "duration": 4405,
    "start_time": "2023-01-31T21:22:42.567Z"
   },
   {
    "duration": 1308,
    "start_time": "2023-01-31T21:23:39.074Z"
   },
   {
    "duration": 1483,
    "start_time": "2023-01-31T21:24:17.806Z"
   },
   {
    "duration": 5,
    "start_time": "2023-01-31T21:24:48.797Z"
   },
   {
    "duration": 1290,
    "start_time": "2023-01-31T21:24:56.309Z"
   },
   {
    "duration": 1267,
    "start_time": "2023-01-31T21:25:20.804Z"
   },
   {
    "duration": 55,
    "start_time": "2023-01-31T21:26:12.246Z"
   },
   {
    "duration": 8,
    "start_time": "2023-01-31T21:28:58.346Z"
   },
   {
    "duration": 16,
    "start_time": "2023-01-31T21:29:00.494Z"
   },
   {
    "duration": 3,
    "start_time": "2023-01-31T21:29:25.800Z"
   },
   {
    "duration": 4,
    "start_time": "2023-01-31T21:31:16.612Z"
   },
   {
    "duration": 3,
    "start_time": "2023-01-31T21:31:18.148Z"
   },
   {
    "duration": 4,
    "start_time": "2023-01-31T21:31:19.769Z"
   },
   {
    "duration": 3,
    "start_time": "2023-01-31T21:31:21.167Z"
   },
   {
    "duration": 7,
    "start_time": "2023-01-31T21:32:46.210Z"
   },
   {
    "duration": 12,
    "start_time": "2023-01-31T21:32:52.227Z"
   },
   {
    "duration": 3,
    "start_time": "2023-01-31T21:33:09.327Z"
   },
   {
    "duration": 9,
    "start_time": "2023-01-31T21:33:19.298Z"
   },
   {
    "duration": 24,
    "start_time": "2023-01-31T21:33:20.815Z"
   },
   {
    "duration": 5,
    "start_time": "2023-01-31T21:33:33.280Z"
   },
   {
    "duration": 13,
    "start_time": "2023-01-31T21:33:34.061Z"
   },
   {
    "duration": 4,
    "start_time": "2023-01-31T21:34:05.980Z"
   },
   {
    "duration": 5,
    "start_time": "2023-01-31T21:34:11.849Z"
   },
   {
    "duration": 3,
    "start_time": "2023-01-31T21:34:19.061Z"
   },
   {
    "duration": 5,
    "start_time": "2023-01-31T21:34:53.564Z"
   },
   {
    "duration": 12,
    "start_time": "2023-01-31T21:35:03.322Z"
   },
   {
    "duration": 4,
    "start_time": "2023-01-31T21:35:06.567Z"
   },
   {
    "duration": 8,
    "start_time": "2023-01-31T21:35:49.230Z"
   },
   {
    "duration": 17,
    "start_time": "2023-01-31T21:35:50.839Z"
   },
   {
    "duration": 4,
    "start_time": "2023-01-31T21:35:53.877Z"
   },
   {
    "duration": 3,
    "start_time": "2023-01-31T21:36:54.510Z"
   },
   {
    "duration": 4,
    "start_time": "2023-01-31T21:37:03.878Z"
   },
   {
    "duration": 1314,
    "start_time": "2023-01-31T21:37:47.420Z"
   },
   {
    "duration": 1291,
    "start_time": "2023-01-31T21:38:21.751Z"
   },
   {
    "duration": 1311,
    "start_time": "2023-01-31T21:38:37.455Z"
   },
   {
    "duration": 152,
    "start_time": "2023-01-31T21:38:42.520Z"
   },
   {
    "duration": 1297,
    "start_time": "2023-01-31T21:39:07.463Z"
   },
   {
    "duration": 1294,
    "start_time": "2023-01-31T21:39:33.214Z"
   },
   {
    "duration": 141,
    "start_time": "2023-01-31T21:39:49.924Z"
   },
   {
    "duration": 1222,
    "start_time": "2023-01-31T21:39:55.118Z"
   },
   {
    "duration": 6269,
    "start_time": "2023-01-31T21:40:19.336Z"
   },
   {
    "duration": 55987,
    "start_time": "2023-01-31T21:40:38.402Z"
   },
   {
    "duration": 18056,
    "start_time": "2023-01-31T21:41:57.084Z"
   },
   {
    "duration": 55999,
    "start_time": "2023-01-31T21:42:21.482Z"
   },
   {
    "duration": 1557,
    "start_time": "2023-01-31T21:43:17.484Z"
   },
   {
    "duration": 489,
    "start_time": "2023-01-31T21:43:59.657Z"
   },
   {
    "duration": 522,
    "start_time": "2023-01-31T21:44:18.953Z"
   },
   {
    "duration": 497,
    "start_time": "2023-01-31T21:44:42.636Z"
   },
   {
    "duration": 1553,
    "start_time": "2023-01-31T21:44:46.654Z"
   },
   {
    "duration": 7416,
    "start_time": "2023-01-31T21:45:22.773Z"
   },
   {
    "duration": 65408,
    "start_time": "2023-01-31T21:45:37.584Z"
   },
   {
    "duration": 65266,
    "start_time": "2023-01-31T21:47:19.606Z"
   },
   {
    "duration": 56521,
    "start_time": "2023-01-31T21:49:23.481Z"
   },
   {
    "duration": 1609,
    "start_time": "2023-01-31T21:52:46.702Z"
   },
   {
    "duration": 80928,
    "start_time": "2023-01-31T21:58:08.987Z"
   },
   {
    "duration": 1606,
    "start_time": "2023-01-31T22:07:01.186Z"
   },
   {
    "duration": 1650,
    "start_time": "2023-01-31T22:07:14.446Z"
   },
   {
    "duration": 1485,
    "start_time": "2023-01-31T22:08:25.085Z"
   },
   {
    "duration": 65,
    "start_time": "2023-02-01T15:44:31.707Z"
   },
   {
    "duration": 1449,
    "start_time": "2023-02-01T15:48:41.524Z"
   },
   {
    "duration": 108,
    "start_time": "2023-02-01T15:48:42.975Z"
   },
   {
    "duration": 12,
    "start_time": "2023-02-01T15:48:43.085Z"
   },
   {
    "duration": 26,
    "start_time": "2023-02-01T15:48:43.099Z"
   },
   {
    "duration": 139,
    "start_time": "2023-02-01T15:48:43.126Z"
   },
   {
    "duration": 2,
    "start_time": "2023-02-01T15:48:43.267Z"
   },
   {
    "duration": 10,
    "start_time": "2023-02-01T15:48:45.430Z"
   },
   {
    "duration": 112,
    "start_time": "2023-02-01T15:48:58.845Z"
   },
   {
    "duration": 42,
    "start_time": "2023-02-01T15:49:13.408Z"
   },
   {
    "duration": 9,
    "start_time": "2023-02-01T15:49:18.826Z"
   },
   {
    "duration": 120,
    "start_time": "2023-02-01T15:50:31.461Z"
   },
   {
    "duration": 9,
    "start_time": "2023-02-01T15:50:58.797Z"
   },
   {
    "duration": 2697,
    "start_time": "2023-02-01T15:51:01.031Z"
   },
   {
    "duration": 14,
    "start_time": "2023-02-01T15:51:11.202Z"
   },
   {
    "duration": 4,
    "start_time": "2023-02-01T15:52:49.740Z"
   },
   {
    "duration": 2,
    "start_time": "2023-02-01T15:57:38.933Z"
   },
   {
    "duration": 3,
    "start_time": "2023-02-01T15:59:21.024Z"
   },
   {
    "duration": 9,
    "start_time": "2023-02-01T15:59:33.857Z"
   },
   {
    "duration": 10,
    "start_time": "2023-02-01T16:00:29.531Z"
   },
   {
    "duration": 14,
    "start_time": "2023-02-01T16:07:13.626Z"
   },
   {
    "duration": 10,
    "start_time": "2023-02-01T16:07:15.417Z"
   },
   {
    "duration": 4,
    "start_time": "2023-02-01T16:07:49.047Z"
   },
   {
    "duration": 64,
    "start_time": "2023-02-01T16:08:00.666Z"
   },
   {
    "duration": 10,
    "start_time": "2023-02-01T16:08:07.948Z"
   },
   {
    "duration": 3,
    "start_time": "2023-02-01T16:08:08.221Z"
   },
   {
    "duration": 18,
    "start_time": "2023-02-01T16:11:22.349Z"
   },
   {
    "duration": 1292,
    "start_time": "2023-02-01T16:11:32.207Z"
   },
   {
    "duration": 79,
    "start_time": "2023-02-01T16:11:33.501Z"
   },
   {
    "duration": 11,
    "start_time": "2023-02-01T16:11:33.581Z"
   },
   {
    "duration": 25,
    "start_time": "2023-02-01T16:11:33.593Z"
   },
   {
    "duration": 21,
    "start_time": "2023-02-01T16:11:33.620Z"
   },
   {
    "duration": 15,
    "start_time": "2023-02-01T16:11:33.643Z"
   },
   {
    "duration": 21,
    "start_time": "2023-02-01T16:11:33.660Z"
   },
   {
    "duration": 2976,
    "start_time": "2023-02-01T16:11:33.682Z"
   },
   {
    "duration": 12,
    "start_time": "2023-02-01T16:11:36.660Z"
   },
   {
    "duration": 37,
    "start_time": "2023-02-01T16:11:39.311Z"
   },
   {
    "duration": 10,
    "start_time": "2023-02-01T16:13:08.445Z"
   },
   {
    "duration": 11,
    "start_time": "2023-02-01T16:16:38.915Z"
   },
   {
    "duration": 5,
    "start_time": "2023-02-01T16:16:42.516Z"
   },
   {
    "duration": 14,
    "start_time": "2023-02-01T16:16:43.812Z"
   },
   {
    "duration": 5,
    "start_time": "2023-02-01T16:16:45.319Z"
   },
   {
    "duration": 6,
    "start_time": "2023-02-01T16:16:47.113Z"
   },
   {
    "duration": 12,
    "start_time": "2023-02-01T16:16:48.136Z"
   },
   {
    "duration": 10,
    "start_time": "2023-02-01T16:16:49.204Z"
   },
   {
    "duration": 121,
    "start_time": "2023-02-01T16:22:47.917Z"
   },
   {
    "duration": 17,
    "start_time": "2023-02-01T16:23:00.847Z"
   },
   {
    "duration": 13,
    "start_time": "2023-02-01T16:23:00.952Z"
   },
   {
    "duration": 4,
    "start_time": "2023-02-01T16:28:27.128Z"
   },
   {
    "duration": 16,
    "start_time": "2023-02-01T16:28:34.166Z"
   },
   {
    "duration": 18,
    "start_time": "2023-02-01T16:31:33.952Z"
   },
   {
    "duration": 10,
    "start_time": "2023-02-01T16:33:54.922Z"
   },
   {
    "duration": 13,
    "start_time": "2023-02-01T16:35:16.005Z"
   },
   {
    "duration": 15,
    "start_time": "2023-02-01T16:35:42.258Z"
   },
   {
    "duration": 12,
    "start_time": "2023-02-01T16:35:44.820Z"
   },
   {
    "duration": 28,
    "start_time": "2023-02-01T16:36:37.138Z"
   },
   {
    "duration": 19,
    "start_time": "2023-02-01T16:39:03.051Z"
   },
   {
    "duration": 13,
    "start_time": "2023-02-01T16:39:18.459Z"
   },
   {
    "duration": 11,
    "start_time": "2023-02-01T16:42:42.204Z"
   },
   {
    "duration": 25,
    "start_time": "2023-02-01T16:43:20.756Z"
   },
   {
    "duration": 1351,
    "start_time": "2023-02-01T16:49:00.286Z"
   },
   {
    "duration": 74,
    "start_time": "2023-02-01T16:49:01.639Z"
   },
   {
    "duration": 13,
    "start_time": "2023-02-01T16:49:01.714Z"
   },
   {
    "duration": 59,
    "start_time": "2023-02-01T16:49:01.729Z"
   },
   {
    "duration": 25,
    "start_time": "2023-02-01T16:49:01.792Z"
   },
   {
    "duration": 40,
    "start_time": "2023-02-01T16:49:01.819Z"
   },
   {
    "duration": 54,
    "start_time": "2023-02-01T16:49:01.861Z"
   },
   {
    "duration": 3090,
    "start_time": "2023-02-01T16:49:01.917Z"
   },
   {
    "duration": 15,
    "start_time": "2023-02-01T16:49:05.010Z"
   },
   {
    "duration": 95,
    "start_time": "2023-02-01T16:49:05.027Z"
   },
   {
    "duration": 39,
    "start_time": "2023-02-01T16:49:05.124Z"
   },
   {
    "duration": 27,
    "start_time": "2023-02-01T16:49:05.165Z"
   },
   {
    "duration": 43,
    "start_time": "2023-02-01T16:49:05.198Z"
   },
   {
    "duration": 19,
    "start_time": "2023-02-01T16:49:05.244Z"
   },
   {
    "duration": 50,
    "start_time": "2023-02-01T16:49:05.264Z"
   },
   {
    "duration": 22,
    "start_time": "2023-02-01T16:49:05.316Z"
   },
   {
    "duration": 32,
    "start_time": "2023-02-01T16:49:05.340Z"
   },
   {
    "duration": 36,
    "start_time": "2023-02-01T16:51:09.029Z"
   },
   {
    "duration": 68,
    "start_time": "2023-02-01T16:51:54.267Z"
   },
   {
    "duration": 5,
    "start_time": "2023-02-01T16:55:12.920Z"
   },
   {
    "duration": 44,
    "start_time": "2023-02-01T16:55:19.059Z"
   },
   {
    "duration": 1284,
    "start_time": "2023-02-01T16:58:15.957Z"
   },
   {
    "duration": 75168,
    "start_time": "2023-02-01T16:58:20.521Z"
   },
   {
    "duration": 929,
    "start_time": "2023-02-01T16:59:44.091Z"
   },
   {
    "duration": 78,
    "start_time": "2023-02-01T16:59:50.422Z"
   },
   {
    "duration": 1309,
    "start_time": "2023-02-01T16:59:52.306Z"
   },
   {
    "duration": 74217,
    "start_time": "2023-02-01T16:59:57.610Z"
   },
   {
    "duration": 1330,
    "start_time": "2023-02-01T17:06:43.403Z"
   },
   {
    "duration": 1023,
    "start_time": "2023-02-01T17:06:55.749Z"
   },
   {
    "duration": 1015,
    "start_time": "2023-02-01T17:06:58.244Z"
   },
   {
    "duration": 4,
    "start_time": "2023-02-01T17:07:26.935Z"
   },
   {
    "duration": 11,
    "start_time": "2023-02-01T17:07:56.610Z"
   },
   {
    "duration": 4,
    "start_time": "2023-02-01T17:08:00.028Z"
   },
   {
    "duration": 5,
    "start_time": "2023-02-01T17:08:47.421Z"
   },
   {
    "duration": 5,
    "start_time": "2023-02-01T17:08:49.238Z"
   },
   {
    "duration": 4,
    "start_time": "2023-02-01T17:08:50.268Z"
   },
   {
    "duration": 5,
    "start_time": "2023-02-01T17:08:51.359Z"
   },
   {
    "duration": 16,
    "start_time": "2023-02-01T17:08:53.192Z"
   },
   {
    "duration": 6,
    "start_time": "2023-02-01T17:08:54.391Z"
   },
   {
    "duration": 56,
    "start_time": "2023-02-01T17:09:04.259Z"
   },
   {
    "duration": 1694,
    "start_time": "2023-02-01T17:09:46.054Z"
   },
   {
    "duration": 109300,
    "start_time": "2023-02-01T17:09:49.858Z"
   },
   {
    "duration": 559,
    "start_time": "2023-02-01T17:12:26.895Z"
   },
   {
    "duration": 4,
    "start_time": "2023-02-01T17:12:32.162Z"
   },
   {
    "duration": 10,
    "start_time": "2023-02-01T17:12:33.442Z"
   },
   {
    "duration": 5,
    "start_time": "2023-02-01T17:12:34.018Z"
   },
   {
    "duration": 5,
    "start_time": "2023-02-01T17:12:35.906Z"
   },
   {
    "duration": 11,
    "start_time": "2023-02-01T17:12:36.333Z"
   },
   {
    "duration": 5,
    "start_time": "2023-02-01T17:12:36.769Z"
   },
   {
    "duration": 63,
    "start_time": "2023-02-01T17:12:40.534Z"
   },
   {
    "duration": 692,
    "start_time": "2023-02-01T17:13:39.126Z"
   },
   {
    "duration": 43833,
    "start_time": "2023-02-01T17:13:41.237Z"
   },
   {
    "duration": 699,
    "start_time": "2023-02-01T17:15:59.649Z"
   },
   {
    "duration": 102801,
    "start_time": "2023-02-01T17:17:20.309Z"
   },
   {
    "duration": 123946,
    "start_time": "2023-02-01T17:20:27.937Z"
   },
   {
    "duration": 71936,
    "start_time": "2023-02-01T17:32:16.013Z"
   },
   {
    "duration": 60266,
    "start_time": "2023-02-01T17:34:23.362Z"
   },
   {
    "duration": 58903,
    "start_time": "2023-02-01T17:37:20.646Z"
   },
   {
    "duration": 51070,
    "start_time": "2023-02-01T17:40:15.992Z"
   },
   {
    "duration": 4128,
    "start_time": "2023-02-01T17:42:05.227Z"
   },
   {
    "duration": 57680,
    "start_time": "2023-02-01T17:42:12.063Z"
   },
   {
    "duration": 1296,
    "start_time": "2023-02-01T17:46:22.670Z"
   },
   {
    "duration": 1313,
    "start_time": "2023-02-01T17:46:28.356Z"
   },
   {
    "duration": 1382,
    "start_time": "2023-02-01T17:46:35.148Z"
   },
   {
    "duration": 66271,
    "start_time": "2023-02-01T17:57:49.312Z"
   },
   {
    "duration": 1390,
    "start_time": "2023-02-01T18:01:50.594Z"
   },
   {
    "duration": 70,
    "start_time": "2023-02-01T18:01:51.986Z"
   },
   {
    "duration": 12,
    "start_time": "2023-02-01T18:01:52.057Z"
   },
   {
    "duration": 33,
    "start_time": "2023-02-01T18:01:52.071Z"
   },
   {
    "duration": 14,
    "start_time": "2023-02-01T18:01:52.106Z"
   },
   {
    "duration": 14,
    "start_time": "2023-02-01T18:01:52.121Z"
   },
   {
    "duration": 11,
    "start_time": "2023-02-01T18:01:52.136Z"
   },
   {
    "duration": 3027,
    "start_time": "2023-02-01T18:01:52.148Z"
   },
   {
    "duration": 13,
    "start_time": "2023-02-01T18:01:55.176Z"
   },
   {
    "duration": 30,
    "start_time": "2023-02-01T18:01:55.202Z"
   },
   {
    "duration": 10,
    "start_time": "2023-02-01T18:01:55.233Z"
   },
   {
    "duration": 8,
    "start_time": "2023-02-01T18:01:55.244Z"
   },
   {
    "duration": 13,
    "start_time": "2023-02-01T18:01:55.253Z"
   },
   {
    "duration": 4,
    "start_time": "2023-02-01T18:01:55.268Z"
   },
   {
    "duration": 31,
    "start_time": "2023-02-01T18:01:55.273Z"
   },
   {
    "duration": 17,
    "start_time": "2023-02-01T18:01:55.306Z"
   },
   {
    "duration": 4,
    "start_time": "2023-02-01T18:01:55.325Z"
   },
   {
    "duration": 53,
    "start_time": "2023-02-01T18:01:55.330Z"
   },
   {
    "duration": 19,
    "start_time": "2023-02-01T18:01:55.385Z"
   },
   {
    "duration": 98,
    "start_time": "2023-02-01T18:01:55.405Z"
   },
   {
    "duration": 1366,
    "start_time": "2023-02-01T18:01:55.505Z"
   },
   {
    "duration": 69785,
    "start_time": "2023-02-01T18:01:56.872Z"
   },
   {
    "duration": 959,
    "start_time": "2023-02-01T18:03:06.659Z"
   },
   {
    "duration": 19,
    "start_time": "2023-02-01T18:03:07.619Z"
   },
   {
    "duration": 1383,
    "start_time": "2023-02-01T18:03:07.640Z"
   },
   {
    "duration": 69455,
    "start_time": "2023-02-01T18:03:09.025Z"
   },
   {
    "duration": 1054,
    "start_time": "2023-02-01T18:04:18.481Z"
   },
   {
    "duration": 4,
    "start_time": "2023-02-01T18:04:19.539Z"
   },
   {
    "duration": 27,
    "start_time": "2023-02-01T18:04:19.545Z"
   },
   {
    "duration": 5,
    "start_time": "2023-02-01T18:04:19.574Z"
   },
   {
    "duration": 8,
    "start_time": "2023-02-01T18:04:19.581Z"
   },
   {
    "duration": 18,
    "start_time": "2023-02-01T18:04:19.590Z"
   },
   {
    "duration": 9,
    "start_time": "2023-02-01T18:04:19.610Z"
   },
   {
    "duration": 76,
    "start_time": "2023-02-01T18:04:19.622Z"
   },
   {
    "duration": 1566,
    "start_time": "2023-02-01T18:04:19.700Z"
   },
   {
    "duration": 94317,
    "start_time": "2023-02-01T18:04:21.268Z"
   },
   {
    "duration": 537,
    "start_time": "2023-02-01T18:05:55.587Z"
   },
   {
    "duration": 3,
    "start_time": "2023-02-01T18:05:56.126Z"
   },
   {
    "duration": 22,
    "start_time": "2023-02-01T18:05:56.131Z"
   },
   {
    "duration": 4,
    "start_time": "2023-02-01T18:05:56.154Z"
   },
   {
    "duration": 4,
    "start_time": "2023-02-01T18:05:56.160Z"
   },
   {
    "duration": 12,
    "start_time": "2023-02-01T18:05:56.165Z"
   },
   {
    "duration": 4,
    "start_time": "2023-02-01T18:05:56.193Z"
   },
   {
    "duration": 16,
    "start_time": "2023-02-01T18:05:56.199Z"
   },
   {
    "duration": 740,
    "start_time": "2023-02-01T18:05:56.217Z"
   },
   {
    "duration": 37550,
    "start_time": "2023-02-01T18:05:56.959Z"
   },
   {
    "duration": 668,
    "start_time": "2023-02-01T18:06:34.510Z"
   },
   {
    "duration": 94543,
    "start_time": "2023-02-01T18:06:35.179Z"
   },
   {
    "duration": 108443,
    "start_time": "2023-02-01T18:08:09.723Z"
   },
   {
    "duration": 65373,
    "start_time": "2023-02-01T18:09:58.168Z"
   },
   {
    "duration": 54561,
    "start_time": "2023-02-01T18:11:03.543Z"
   },
   {
    "duration": 1191,
    "start_time": "2023-02-01T18:11:58.106Z"
   },
   {
    "duration": 1411,
    "start_time": "2023-02-01T18:11:59.298Z"
   }
  ],
  "kernelspec": {
   "display_name": "Python 3 (ipykernel)",
   "language": "python",
   "name": "python3"
  },
  "language_info": {
   "codemirror_mode": {
    "name": "ipython",
    "version": 3
   },
   "file_extension": ".py",
   "mimetype": "text/x-python",
   "name": "python",
   "nbconvert_exporter": "python",
   "pygments_lexer": "ipython3",
   "version": "3.9.13"
  },
  "toc": {
   "base_numbering": 1,
   "nav_menu": {},
   "number_sections": true,
   "sideBar": true,
   "skip_h1_title": true,
   "title_cell": "Содержание",
   "title_sidebar": "Contents",
   "toc_cell": true,
   "toc_position": {},
   "toc_section_display": true,
   "toc_window_display": true
  }
 },
 "nbformat": 4,
 "nbformat_minor": 2
}
